{
 "cells": [
  {
   "cell_type": "code",
   "execution_count": null,
   "metadata": {},
   "outputs": [],
   "source": [
    "# Import code\n",
    "import numpy as np"
   ]
  },
  {
   "cell_type": "code",
   "execution_count": null,
   "metadata": {},
   "outputs": [],
   "source": [
    "# Read in data\n",
    "input_file = open('input_files/day9.txt', 'r')\n",
    "input_data = input_file.read()[:-1].split(\"\\n\")\n",
    "\n",
    "test_data = \"\"\"0 3 6 9 12 15\n",
    "1 3 6 10 15 21\n",
    "10 13 16 21 30 45\"\"\"\n",
    "test_data = test_data.split(\"\\n\")"
   ]
  },
  {
   "cell_type": "code",
   "execution_count": null,
   "metadata": {},
   "outputs": [],
   "source": [
    "def parse_data(data):\n",
    "    parsed_data = []\n",
    "    for row in data:\n",
    "        parsed_row = [int(x) for x in row.split(' ')]\n",
    "        parsed_data.append(parsed_row)\n",
    "        \n",
    "    return parsed_data\n",
    "\n",
    "\n",
    "def find_next_value(seq):\n",
    "    last_values = [seq[-1]]\n",
    "    while any([x != 0 for x in seq]):\n",
    "        seq = np.diff(seq)\n",
    "        last_values.append(seq[-1])\n",
    "    \n",
    "    next_value = sum(last_values)\n",
    "    return next_value\n",
    "\n",
    "def part1(data):\n",
    "    total = 0\n",
    "    data = parse_data(data)\n",
    "    for seq in data:\n",
    "        next_val = find_next_value(seq)\n",
    "        total += next_val\n",
    "        \n",
    "    return total"
   ]
  },
  {
   "cell_type": "code",
   "execution_count": null,
   "metadata": {},
   "outputs": [],
   "source": [
    "part1(input_data)"
   ]
  }
 ],
 "metadata": {
  "kernelspec": {
   "display_name": "Python 3",
   "language": "python",
   "name": "python3"
  },
  "language_info": {
   "codemirror_mode": {
    "name": "ipython",
    "version": 3
   },
   "file_extension": ".py",
   "mimetype": "text/x-python",
   "name": "python",
   "nbconvert_exporter": "python",
   "pygments_lexer": "ipython3",
   "version": "3.7.1"
  }
 },
 "nbformat": 4,
 "nbformat_minor": 2
}
