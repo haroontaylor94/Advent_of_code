{
 "cells": [
  {
   "cell_type": "code",
   "execution_count": null,
   "metadata": {},
   "outputs": [],
   "source": [
    "import numpy as np\n",
    "from scipy.spatial.distance import cityblock"
   ]
  },
  {
   "cell_type": "code",
   "execution_count": null,
   "metadata": {},
   "outputs": [],
   "source": [
    "# Read in data\n",
    "input_file = open('input_files/day11.txt', 'r')\n",
    "input_data = input_file.read()[:-1].split(\"\\n\")\n",
    "\n",
    "test_data = \"\"\"...#......\n",
    ".......#..\n",
    "#.........\n",
    "..........\n",
    "......#...\n",
    ".#........\n",
    ".........#\n",
    "..........\n",
    ".......#..\n",
    "#...#.....\"\"\"\n",
    "\n",
    "test_data = test_data.split(\"\\n\")"
   ]
  },
  {
   "cell_type": "markdown",
   "metadata": {},
   "source": [
    "# Part 2"
   ]
  },
  {
   "cell_type": "code",
   "execution_count": null,
   "metadata": {},
   "outputs": [],
   "source": [
    "def parse_data(data):\n",
    "    array = np.asarray([list(string) for string in data])\n",
    "    return array\n",
    "\n",
    "\n",
    "def expand(arr):\n",
    "    empty_rows = []\n",
    "    empty_cols = []\n",
    "    for i, row in enumerate(arr):\n",
    "        if all(row == '.'):\n",
    "            empty_rows.append(i)\n",
    "    for j, col in enumerate(arr.T):\n",
    "        if all(col == '.'):\n",
    "            empty_cols.append(j)\n",
    "    \n",
    "    arr = np.insert(arr, empty_rows, [['.']], axis = 0)\n",
    "    arr = np.insert(arr, empty_cols, [['.']], axis = 1)\n",
    "    \n",
    "    return arr\n",
    "\n",
    "\n",
    "def get_galaxy_coords(arr):\n",
    "    return list(zip(*np.where(arr == \"#\")))        \n",
    "\n",
    "    \n",
    "def get_total_distance(arr, galaxy_coords):\n",
    "    total = 0\n",
    "    for i in range(len(galaxy_coords) - 1):\n",
    "        galaxy1 = galaxy_coords[i]\n",
    "        for j in range(i+1, len(galaxy_coords)):\n",
    "            galaxy2 = galaxy_coords[j]\n",
    "            dist = cityblock(galaxy1, galaxy2)\n",
    "            total += dist\n",
    "            \n",
    "    return total    \n",
    "\n",
    "\n",
    "def part1(data):\n",
    "    arr = parse_data(data)\n",
    "    expanded_arr = expand(arr)\n",
    "    galaxy_coords = get_galaxy_coords(expanded_arr)\n",
    "    total = get_total_distance(expanded_arr, galaxy_coords)\n",
    "    \n",
    "    return total"
   ]
  },
  {
   "cell_type": "code",
   "execution_count": null,
   "metadata": {},
   "outputs": [],
   "source": [
    "part1(input_data)"
   ]
  },
  {
   "cell_type": "markdown",
   "metadata": {},
   "source": [
    "# Part 2"
   ]
  },
  {
   "cell_type": "code",
   "execution_count": null,
   "metadata": {},
   "outputs": [],
   "source": [
    "def find_empty_rows_cols(arr):\n",
    "    empty_rows = []\n",
    "    empty_cols = []\n",
    "    for i, row in enumerate(arr):\n",
    "        if all(row == '.'):\n",
    "            empty_rows.append(i)\n",
    "    for j, col in enumerate(arr.T):\n",
    "        if all(col == '.'):\n",
    "            empty_cols.append(j)\n",
    "    \n",
    "    return empty_rows, empty_cols\n",
    "\n",
    "\n",
    "def find_empty_space(x, y, empty_rows, empty_cols):\n",
    "    empty_space = 0\n",
    "    rows = [x[0], y[0]]\n",
    "    cols = sorted([x[1], y[1]])\n",
    "    for empty_row in empty_rows:\n",
    "        if rows[0] <= empty_row <= rows[1]:\n",
    "            empty_space += 1\n",
    "    for empty_col in empty_cols:\n",
    "        if cols[0] <= empty_col <= cols[1]:\n",
    "            empty_space +=1\n",
    "            \n",
    "    return empty_space\n",
    "\n",
    "\n",
    "def calculate_dist(x, y, empty_rows, empty_cols, expansion):\n",
    "    empty_space = find_empty_space(x, y, empty_rows, empty_cols)\n",
    "    dist = cityblock(x, y)\n",
    "    expanded_dist = dist + empty_space * (expansion - 1)\n",
    "    \n",
    "    return expanded_dist\n",
    "\n",
    "\n",
    "def get_total_distance_part2(galaxy_coords, empty_rows, empty_cols, expansion):\n",
    "    total = 0\n",
    "    for i in range(len(galaxy_coords) - 1):\n",
    "        galaxy1 = galaxy_coords[i]\n",
    "        for j in range(i+1, len(galaxy_coords)):\n",
    "            galaxy2 = galaxy_coords[j]\n",
    "            dist = calculate_dist(galaxy1, galaxy2, empty_rows, empty_cols, expansion)\n",
    "            total += dist\n",
    "            \n",
    "    return total\n",
    "\n",
    "\n",
    "def part2(data, expansion):\n",
    "    arr = parse_data(data)\n",
    "    empty_rows, empty_cols = find_empty_rows_cols(arr)\n",
    "    galaxy_coords = get_galaxy_coords(arr)\n",
    "    total = get_total_distance_part2(galaxy_coords, empty_rows, empty_cols, expansion)\n",
    "    \n",
    "    return total"
   ]
  },
  {
   "cell_type": "code",
   "execution_count": null,
   "metadata": {},
   "outputs": [],
   "source": [
    "part2(input_data, 1000000)"
   ]
  }
 ],
 "metadata": {
  "kernelspec": {
   "display_name": "Python 3",
   "language": "python",
   "name": "python3"
  },
  "language_info": {
   "codemirror_mode": {
    "name": "ipython",
    "version": 3
   },
   "file_extension": ".py",
   "mimetype": "text/x-python",
   "name": "python",
   "nbconvert_exporter": "python",
   "pygments_lexer": "ipython3",
   "version": "3.7.1"
  }
 },
 "nbformat": 4,
 "nbformat_minor": 2
}
