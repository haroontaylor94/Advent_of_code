{
 "cells": [
  {
   "cell_type": "code",
   "execution_count": null,
   "metadata": {},
   "outputs": [],
   "source": [
    "# Imports\n",
    "import re\n",
    "import numpy as np\n",
    "\n",
    "# Global vars\n",
    "CONDITIONS = {\"red\": 12, \"green\": 13, \"blue\": 14}"
   ]
  },
  {
   "cell_type": "code",
   "execution_count": null,
   "metadata": {},
   "outputs": [],
   "source": [
    "# Read in data\n",
    "input_file = open('input_files/day2.txt', 'r')\n",
    "input_data = input_file.read().split('\\n')[:-1]\n",
    "test_data = [\n",
    "    \"Game 1: 3 blue, 4 red; 1 red, 2 green, 6 blue; 2 green\",\n",
    "    \"Game 2: 1 blue, 2 green; 3 green, 4 blue, 1 red; 1 green, 1 blue\",\n",
    "    \"Game 3: 8 green, 6 blue, 20 red; 5 blue, 4 red, 13 green; 5 green, 1 red\",\n",
    "    \"Game 4: 1 green, 3 red, 6 blue; 3 green, 6 red; 3 green, 15 blue, 14 red\",\n",
    "    \"Game 5: 6 red, 1 blue, 3 green; 2 blue, 1 red, 2 green\",\n",
    "]"
   ]
  },
  {
   "cell_type": "markdown",
   "metadata": {},
   "source": [
    "# Part 1"
   ]
  },
  {
   "cell_type": "code",
   "execution_count": null,
   "metadata": {},
   "outputs": [],
   "source": [
    "def split_games(data):\n",
    "    games = [x.split(\": \")[1].split(\"; \") for x in data]\n",
    "    return games\n",
    "\n",
    "\n",
    "def check_game(game):\n",
    "    for set in game:\n",
    "        for key, val in CONDITIONS.items():\n",
    "            cube_search = re.search(f\"(\\d*) {key}\", set)\n",
    "            if cube_search:\n",
    "                n_cubes = int(cube_search.group(1))\n",
    "                if n_cubes > val:\n",
    "                    return False\n",
    "    return True\n",
    "\n",
    "\n",
    "def check_games(games):\n",
    "    valid_games = []\n",
    "    for i, game in enumerate(games):\n",
    "        if check_game(game):\n",
    "            valid_games.append(i+1)\n",
    "    return valid_games\n",
    "            \n",
    "def part1(data):\n",
    "    games = split_games(data)\n",
    "    valid_games = check_games(games)\n",
    "    return sum(valid_games)"
   ]
  },
  {
   "cell_type": "code",
   "execution_count": null,
   "metadata": {},
   "outputs": [],
   "source": [
    "part1(input_data)"
   ]
  },
  {
   "cell_type": "markdown",
   "metadata": {},
   "source": [
    "# Part 2"
   ]
  },
  {
   "cell_type": "code",
   "execution_count": null,
   "metadata": {},
   "outputs": [],
   "source": [
    "def find_game_power(game):\n",
    "    min_cubes = {\"red\": 0, \"green\": 0, \"blue\": 0}\n",
    "    for set in game:\n",
    "        for key, val in CONDITIONS.items():\n",
    "            cube_search = re.search(f\"(\\d*) {key}\", set)\n",
    "            if cube_search:\n",
    "                n_cubes = int(cube_search.group(1))\n",
    "                if n_cubes > min_cubes[key]:\n",
    "                    min_cubes[key] = n_cubes\n",
    "    return np.prod(list(min_cubes.values()))\n",
    "\n",
    "\n",
    "def part2(data):\n",
    "    total_power = 0\n",
    "    games = split_games(data)\n",
    "    for game in games:\n",
    "        total_power += find_game_power(game)\n",
    "    return total_power"
   ]
  },
  {
   "cell_type": "code",
   "execution_count": null,
   "metadata": {},
   "outputs": [],
   "source": [
    "part2(input_data)"
   ]
  }
 ],
 "metadata": {
  "kernelspec": {
   "display_name": "Python 3",
   "language": "python",
   "name": "python3"
  },
  "language_info": {
   "codemirror_mode": {
    "name": "ipython",
    "version": 3
   },
   "file_extension": ".py",
   "mimetype": "text/x-python",
   "name": "python",
   "nbconvert_exporter": "python",
   "pygments_lexer": "ipython3",
   "version": "3.7.1"
  }
 },
 "nbformat": 4,
 "nbformat_minor": 2
}
