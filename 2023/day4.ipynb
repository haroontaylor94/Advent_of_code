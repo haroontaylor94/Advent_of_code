{
 "cells": [
  {
   "cell_type": "code",
   "execution_count": null,
   "metadata": {},
   "outputs": [],
   "source": [
    "# Read in data\n",
    "input_file = open('input_files/day4.txt', 'r')\n",
    "input_data = input_file.read().split('\\n')[:-1]\n",
    "test_data = [\n",
    "    \"Card 1: 41 48 83 86 17 | 83 86  6 31 17  9 48 53\",\n",
    "    \"Card 2: 13 32 20 16 61 | 61 30 68 82 17 32 24 19\",\n",
    "    \"Card 3:  1 21 53 59 44 | 69 82 63 72 16 21 14  1\",\n",
    "    \"Card 4: 41 92 73 84 69 | 59 84 76 51 58  5 54 83\",\n",
    "    \"Card 5: 87 83 26 28 32 | 88 30 70 12 93 22 82 36\",\n",
    "    \"Card 6: 31 18 13 56 72 | 74 77 10 23 35 67 36 11\"\n",
    "]"
   ]
  },
  {
   "cell_type": "markdown",
   "metadata": {},
   "source": [
    "# Part 1"
   ]
  },
  {
   "cell_type": "code",
   "execution_count": null,
   "metadata": {},
   "outputs": [],
   "source": [
    "def parse_data(data):\n",
    "    cards = [string.split(\": \")[1] for string in data]\n",
    "    return cards\n",
    "\n",
    "\n",
    "def find_card_matches(card):\n",
    "    winning_numbers_string, numbers_string = card.split(\" | \")\n",
    "    winning_numbers = [int(x) for x in winning_numbers_string.split(\" \") if x != \"\"]\n",
    "    numbers = [int(x) for x in numbers_string.split(\" \") if x != \"\"]\n",
    "    matches = sum(x in winning_numbers for x in numbers)\n",
    "    \n",
    "    return matches\n",
    "    \n",
    "    \n",
    "def calculate_card_points(matches):\n",
    "    if matches == 0:\n",
    "        points = 0\n",
    "    else:\n",
    "        points = 2 ** (matches - 1)\n",
    "        \n",
    "    return points\n",
    "\n",
    "\n",
    "def part1(data):\n",
    "    total = 0\n",
    "    cards = parse_data(data)\n",
    "    for card in cards:\n",
    "        matches = find_card_matches(card)\n",
    "        points = calculate_card_points(matches)\n",
    "        total += points\n",
    "    \n",
    "    return total"
   ]
  },
  {
   "cell_type": "code",
   "execution_count": null,
   "metadata": {},
   "outputs": [],
   "source": [
    "part1(input_data)"
   ]
  },
  {
   "cell_type": "markdown",
   "metadata": {},
   "source": [
    "# Part 2"
   ]
  },
  {
   "cell_type": "code",
   "execution_count": null,
   "metadata": {},
   "outputs": [],
   "source": [
    "def part2(data):\n",
    "    cards = parse_data(data)\n",
    "    card_counts = {i: 1 for i in range(len(cards))}\n",
    "    for i, card in enumerate(cards):\n",
    "        matches = find_card_matches(card)\n",
    "        card_count = card_counts[i]\n",
    "        for j in range(matches):\n",
    "            card_counts[i + j + 1] += card_count\n",
    "    return sum(list(card_counts.values()))"
   ]
  },
  {
   "cell_type": "code",
   "execution_count": null,
   "metadata": {},
   "outputs": [],
   "source": [
    "part2(input_data)"
   ]
  }
 ],
 "metadata": {
  "kernelspec": {
   "display_name": "Python 3",
   "language": "python",
   "name": "python3"
  },
  "language_info": {
   "codemirror_mode": {
    "name": "ipython",
    "version": 3
   },
   "file_extension": ".py",
   "mimetype": "text/x-python",
   "name": "python",
   "nbconvert_exporter": "python",
   "pygments_lexer": "ipython3",
   "version": "3.7.1"
  }
 },
 "nbformat": 4,
 "nbformat_minor": 2
}
