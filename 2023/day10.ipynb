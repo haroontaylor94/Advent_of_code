{
 "cells": [
  {
   "cell_type": "code",
   "execution_count": null,
   "metadata": {},
   "outputs": [],
   "source": [
    "import numpy as np"
   ]
  },
  {
   "cell_type": "code",
   "execution_count": null,
   "metadata": {},
   "outputs": [],
   "source": [
    "# Global vars\n",
    "VALID_PIPES = {\n",
    "    (0, 1): (\"-\", \"7\", \"J\"),\n",
    "    (0, -1): (\"-\", \"F\", \"L\"),\n",
    "    (1, 0): (\"|\", \"L\", \"J\"),\n",
    "    (-1, 0): (\"|\", \"7\", \"F\")\n",
    "}\n",
    "\n",
    "PIPE_DIRECTIONS = {\n",
    "    \"-\": ((0, 1), (0, -1)),\n",
    "    \"F\": ((1, 0), (0, 1)),\n",
    "    \"L\": ((-1, 0), (0, 1)),\n",
    "    \"J\": ((-1, 0), (0, -1)),\n",
    "    \"7\": ((1, 0), (0, -1)),\n",
    "    \"|\": ((1, 0), (-1, 0))\n",
    "}"
   ]
  },
  {
   "cell_type": "code",
   "execution_count": null,
   "metadata": {},
   "outputs": [],
   "source": [
    "# Read in data\n",
    "input_file = open('input_files/day10.txt', 'r')\n",
    "input_data = input_file.read()[:-1].split(\"\\n\")\n",
    "\n",
    "test_data1 = \"\"\"-L|F7\n",
    "7S-7|\n",
    "L|7||\n",
    "-L-J|\n",
    "L|-JF\"\"\"\n",
    "\n",
    "test_data2 = \"\"\"7-F7-\n",
    ".FJ|7\n",
    "SJLL7\n",
    "|F--J\n",
    "LJ.LJ\"\"\"\n",
    "\n",
    "test_data1 = test_data1.split(\"\\n\")\n",
    "test_data2 = test_data2.split(\"\\n\")"
   ]
  },
  {
   "cell_type": "code",
   "execution_count": null,
   "metadata": {},
   "outputs": [],
   "source": [
    "def parse_data(data):\n",
    "    array = np.asarray([list(string) for string in data])\n",
    "    return array\n",
    "\n",
    "\n",
    "def find_s(array):\n",
    "    s_index = np.where(array == \"S\")\n",
    "    s_coord = (s_index[0][0], s_index[1][0])\n",
    "    return s_coord\n",
    "\n",
    "\n",
    "def determine_s_pipe(array, s_coord):\n",
    "    for key, val in PIPE_DIRECTIONS.items():\n",
    "        valid = []\n",
    "        for direction in val:\n",
    "            pipe = array[s_coord[0] + direction[0], s_coord[1] + direction[1]]\n",
    "            valid.append(pipe in VALID_PIPES[direction])\n",
    "        \n",
    "        if all(valid):\n",
    "            return key\n",
    "\n",
    "        \n",
    "def follow_path(array, s_coord, s_pipe):\n",
    "    pipe_dirs = list(PIPE_DIRECTIONS[s_pipe])\n",
    "    coord1 = [s_coord[0] + pipe_dirs[0][0], s_coord[1] + pipe_dirs[0][1]]\n",
    "    coord2 = [s_coord[0] + pipe_dirs[1][0], s_coord[1] + pipe_dirs[1][1]]\n",
    "    coords = [coord1, coord2]\n",
    "    i = 1\n",
    "    while coords[0] != coords[1]:\n",
    "        i += 1\n",
    "        for j, (coord, in_pipe_dir) in enumerate(zip(coords, pipe_dirs)):\n",
    "            pipe = array[coord[0], coord[1]]\n",
    "            out_pipe_dirs = PIPE_DIRECTIONS[pipe]\n",
    "            for out_pipe_dir in out_pipe_dirs:\n",
    "                if out_pipe_dir[0] * -1 == in_pipe_dir[0] and out_pipe_dir[1] * -1 == in_pipe_dir[1]:\n",
    "                    pass\n",
    "                else:\n",
    "                    pipe_dir = out_pipe_dir\n",
    "            coords[j] = [coord[0] + pipe_dir[0], coord[1] + pipe_dir[1]]\n",
    "            pipe_dirs[j] = pipe_dir\n",
    "            \n",
    "    return i\n",
    "\n",
    "\n",
    "def part1(data):\n",
    "    array = parse_data(data)\n",
    "    s_coord = find_s(array)\n",
    "    s_pipe = determine_s_pipe(array, s_coord)\n",
    "    max_length = follow_path(array, s_coord, s_pipe)\n",
    "    \n",
    "    return max_length"
   ]
  },
  {
   "cell_type": "code",
   "execution_count": null,
   "metadata": {},
   "outputs": [],
   "source": [
    "part1(input_data)"
   ]
  }
 ],
 "metadata": {
  "kernelspec": {
   "display_name": "Python 3",
   "language": "python",
   "name": "python3"
  },
  "language_info": {
   "codemirror_mode": {
    "name": "ipython",
    "version": 3
   },
   "file_extension": ".py",
   "mimetype": "text/x-python",
   "name": "python",
   "nbconvert_exporter": "python",
   "pygments_lexer": "ipython3",
   "version": "3.7.1"
  }
 },
 "nbformat": 4,
 "nbformat_minor": 2
}
