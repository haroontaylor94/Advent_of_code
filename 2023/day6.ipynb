{
 "cells": [
  {
   "cell_type": "code",
   "execution_count": null,
   "metadata": {},
   "outputs": [],
   "source": [
    "import re"
   ]
  },
  {
   "cell_type": "code",
   "execution_count": null,
   "metadata": {},
   "outputs": [],
   "source": [
    "# Read in data\n",
    "input_file = open('input_files/day6.txt', 'r')\n",
    "input_data = input_file.read()[:-2].split(\"\\n\")\n",
    "\n",
    "test_data = \"\"\"Time:      7  15   30\n",
    "Distance:  9  40  200\"\"\"\n",
    "test_data = test_data.split(\"\\n\")"
   ]
  },
  {
   "cell_type": "code",
   "execution_count": null,
   "metadata": {},
   "outputs": [],
   "source": [
    "def parse_data(data):\n",
    "    parsed_data = []\n",
    "    for row in data:\n",
    "        parsed_row = [int(x) for x in re.findall(f\"\\d+\", row)]\n",
    "        parsed_data.append(parsed_row)\n",
    "    \n",
    "    return parsed_data\n",
    "\n",
    "\n",
    "def calculate_distance(button_time, race_time):\n",
    "    return button_time * (race_time - button_time)\n",
    "\n",
    "\n",
    "def find_min_time(race_time, record):\n",
    "    for i in range(race_time):\n",
    "        distance = calculate_distance(i, race_time)\n",
    "        if distance > record:\n",
    "            return i\n",
    "        \n",
    "\n",
    "def find_max_time(race_time, record):\n",
    "    for i in range(race_time, 0, -1):\n",
    "        distance = calculate_distance(i, race_time)\n",
    "        if distance > record:\n",
    "            return i\n",
    "\n",
    "        \n",
    "def find_wins(race_time, record):\n",
    "    min_win_time = find_min_time(race_time, record)\n",
    "    max_win_time = find_max_time(race_time, record)\n",
    "    n_wins = max_win_time - min_win_time + 1\n",
    "    \n",
    "    return n_wins\n",
    "\n",
    "\n",
    "def part1(data):\n",
    "    total = 1\n",
    "    times, distances = parse_data(data)\n",
    "    for race_time, record in zip(times, distances):\n",
    "        n_wins = find_wins(race_time, record)\n",
    "        total *= n_wins\n",
    "        \n",
    "    return total"
   ]
  },
  {
   "cell_type": "code",
   "execution_count": null,
   "metadata": {},
   "outputs": [],
   "source": [
    "part1(input_data)"
   ]
  }
 ],
 "metadata": {
  "kernelspec": {
   "display_name": "Python 3",
   "language": "python",
   "name": "python3"
  },
  "language_info": {
   "codemirror_mode": {
    "name": "ipython",
    "version": 3
   },
   "file_extension": ".py",
   "mimetype": "text/x-python",
   "name": "python",
   "nbconvert_exporter": "python",
   "pygments_lexer": "ipython3",
   "version": "3.7.1"
  }
 },
 "nbformat": 4,
 "nbformat_minor": 2
}
