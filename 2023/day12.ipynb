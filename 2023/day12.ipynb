{
 "cells": [
  {
   "cell_type": "code",
   "execution_count": 20,
   "metadata": {},
   "outputs": [],
   "source": [
    "from itertools import permutations "
   ]
  },
  {
   "cell_type": "code",
   "execution_count": 1,
   "metadata": {},
   "outputs": [],
   "source": [
    "# Read in data\n",
    "input_file = open('input_files/day12.txt', 'r')\n",
    "input_data = input_file.read()[:-1].split(\"\\n\")\n",
    "\n",
    "test_data = \"\"\"???.### 1,1,3\n",
    ".??..??...?##. 1,1,3\n",
    "?#?#?#?#?#?#?#? 1,3,1,6\n",
    "????.#...#... 4,1,1\n",
    "????.######..#####. 1,6,5\n",
    "?###???????? 3,2,1\"\"\"\n",
    "\n",
    "test_data = test_data.split(\"\\n\")"
   ]
  },
  {
   "cell_type": "code",
   "execution_count": 14,
   "metadata": {},
   "outputs": [],
   "source": [
    "def parse_data(data):\n",
    "    output_data = [string.split(\" \") for string in data]\n",
    "    \n",
    "    return output_data\n",
    "\n",
    "\n",
    "def parse_criteria(criteria_string):\n",
    "    parsed_criteria = [int(x) for x in criteria_string.split(',')]\n",
    "    \n",
    "    return parsed_criteria\n",
    "\n",
    "\n",
    "def count_springs(spring_string):\n",
    "    broken_springs = spring_string.count(\"#\")\n",
    "    unknown_springs = spring_string.count(\"?\")\n",
    "    \n",
    "    return broken_springs, unknown_springs\n",
    "\n",
    "\n",
    "def count_total_req_springs(criteria):\n",
    "    total_springs = sum(criteria)\n",
    "    \n",
    "    return total_springs\n",
    "\n",
    "\n",
    "def test_rule(spring_string, criteria_string):\n",
    "    criteria = parse_criteria(criteria_string)\n",
    "    broken_springs, unknown_springs = count_springs(spring_string)\n",
    "    total_springs = count_total_req_springs(criteria)\n",
    "    required_broken_springs = total_springs - broken_springs\n",
    "    "
   ]
  },
  {
   "cell_type": "code",
   "execution_count": 8,
   "metadata": {},
   "outputs": [],
   "source": [
    "parsed = parse_data(test_data)"
   ]
  },
  {
   "cell_type": "code",
   "execution_count": 23,
   "metadata": {},
   "outputs": [
    {
     "name": "stdout",
     "output_type": "stream",
     "text": [
      "(1, 1)\n",
      "(1, 1)\n"
     ]
    }
   ],
   "source": [
    "perm = permutations([1, 1])\n",
    "for i in perm:\n",
    "    print(i)"
   ]
  },
  {
   "cell_type": "code",
   "execution_count": 15,
   "metadata": {},
   "outputs": [],
   "source": [
    "springs, criteria = parsed[0]\n",
    "criteria = parse_criteria(criteria)\n",
    "broken_springs, unknown_springs = count_springs(springs)"
   ]
  },
  {
   "cell_type": "code",
   "execution_count": 16,
   "metadata": {},
   "outputs": [
    {
     "data": {
      "text/plain": [
       "3"
      ]
     },
     "execution_count": 16,
     "metadata": {},
     "output_type": "execute_result"
    }
   ],
   "source": [
    "broken_springs"
   ]
  },
  {
   "cell_type": "code",
   "execution_count": 19,
   "metadata": {},
   "outputs": [
    {
     "data": {
      "text/plain": [
       "5"
      ]
     },
     "execution_count": 19,
     "metadata": {},
     "output_type": "execute_result"
    }
   ],
   "source": [
    "sum(criteria)"
   ]
  },
  {
   "cell_type": "code",
   "execution_count": null,
   "metadata": {},
   "outputs": [],
   "source": []
  }
 ],
 "metadata": {
  "kernelspec": {
   "display_name": "Python 3",
   "language": "python",
   "name": "python3"
  },
  "language_info": {
   "codemirror_mode": {
    "name": "ipython",
    "version": 3
   },
   "file_extension": ".py",
   "mimetype": "text/x-python",
   "name": "python",
   "nbconvert_exporter": "python",
   "pygments_lexer": "ipython3",
   "version": "3.7.1"
  }
 },
 "nbformat": 4,
 "nbformat_minor": 2
}
