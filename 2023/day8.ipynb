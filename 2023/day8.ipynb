{
 "cells": [
  {
   "cell_type": "code",
   "execution_count": null,
   "metadata": {},
   "outputs": [],
   "source": [
    "# Read in data\n",
    "input_file = open('input_files/day8.txt', 'r')\n",
    "input_data = input_file.read()[:-1].split(\"\\n\")\n",
    "\n",
    "test_data1 = \"\"\"RL\n",
    "\n",
    "AAA = (BBB, CCC)\n",
    "BBB = (DDD, EEE)\n",
    "CCC = (ZZZ, GGG)\n",
    "DDD = (DDD, DDD)\n",
    "EEE = (EEE, EEE)\n",
    "GGG = (GGG, GGG)\n",
    "ZZZ = (ZZZ, ZZZ)\"\"\"\n",
    "\n",
    "test_data2 = \"\"\"LLR\n",
    "\n",
    "AAA = (BBB, BBB)\n",
    "BBB = (AAA, ZZZ)\n",
    "ZZZ = (ZZZ, ZZZ)\"\"\"\n",
    "\n",
    "test_data1 = test_data1.split(\"\\n\")\n",
    "test_data2 = test_data2.split(\"\\n\")"
   ]
  },
  {
   "cell_type": "markdown",
   "metadata": {},
   "source": [
    "# Part 1"
   ]
  },
  {
   "cell_type": "code",
   "execution_count": null,
   "metadata": {},
   "outputs": [],
   "source": [
    "def parse_data(data):\n",
    "    maps = {}\n",
    "    instructions = data[0]\n",
    "    for lst in data[2:]:\n",
    "        key, val = lst.split(\" = \")\n",
    "        maps[key] = tuple([val[1:4], val[6:9]])\n",
    "        \n",
    "    return instructions, maps\n",
    "\n",
    "\n",
    "def read_instructions(instructions, data_map):\n",
    "    key = \"AAA\"\n",
    "    i = 0\n",
    "    while key != \"ZZZ\":\n",
    "        for inst in instructions:\n",
    "            i += 1\n",
    "            if inst == \"L\":\n",
    "                key = data_map[key][0]\n",
    "            else:\n",
    "                key = data_map[key][1]\n",
    "    return i\n",
    "\n",
    "\n",
    "def part1(data):\n",
    "    instructions, data_map = parse_data(data)\n",
    "    n_steps = read_instructions(instructions, data_map)\n",
    "    \n",
    "    return n_steps"
   ]
  },
  {
   "cell_type": "code",
   "execution_count": null,
   "metadata": {},
   "outputs": [],
   "source": [
    "part1(input_data)"
   ]
  },
  {
   "cell_type": "markdown",
   "metadata": {},
   "source": [
    "# Part 2"
   ]
  },
  {
   "cell_type": "code",
   "execution_count": null,
   "metadata": {},
   "outputs": [],
   "source": [
    "# Import code\n",
    "import numpy as np"
   ]
  },
  {
   "cell_type": "code",
   "execution_count": null,
   "metadata": {},
   "outputs": [],
   "source": [
    "test_data3 = \"\"\"LR\n",
    "\n",
    "11A = (11B, XXX)\n",
    "11B = (XXX, 11Z)\n",
    "11Z = (11B, XXX)\n",
    "22A = (22B, XXX)\n",
    "22B = (22C, 22C)\n",
    "22C = (22Z, 22Z)\n",
    "22Z = (22B, 22B)\n",
    "XXX = (XXX, XXX)\"\"\"\n",
    "\n",
    "test_data3 = test_data3.split(\"\\n\")"
   ]
  },
  {
   "cell_type": "code",
   "execution_count": null,
   "metadata": {},
   "outputs": [],
   "source": [
    "def find_n_steps(key, instructions, data_map):\n",
    "    i = 0\n",
    "    while key[2] != \"Z\":\n",
    "        for inst in instructions:\n",
    "            i += 1\n",
    "            if inst == \"L\":\n",
    "                key = data_map[key][0]\n",
    "            else:\n",
    "                key = data_map[key][1]\n",
    "            if key[2] == \"Z\":\n",
    "                return i\n",
    "\n",
    "\n",
    "def part2(data):\n",
    "    instructions, data_map = parse_data(data)\n",
    "    n_steps_list = []\n",
    "    keys = [key for key in data_map.keys() if key[2] == \"A\"]\n",
    "    for key in keys:\n",
    "        n_steps = find_n_steps(key, instructions, data_map)\n",
    "        n_steps_list.append(n_steps)\n",
    "    \n",
    "    return np.lcm.reduce(n_steps_list)"
   ]
  },
  {
   "cell_type": "code",
   "execution_count": null,
   "metadata": {},
   "outputs": [],
   "source": [
    "part2(input_data)"
   ]
  }
 ],
 "metadata": {
  "kernelspec": {
   "display_name": "Python 3",
   "language": "python",
   "name": "python3"
  },
  "language_info": {
   "codemirror_mode": {
    "name": "ipython",
    "version": 3
   },
   "file_extension": ".py",
   "mimetype": "text/x-python",
   "name": "python",
   "nbconvert_exporter": "python",
   "pygments_lexer": "ipython3",
   "version": "3.7.1"
  }
 },
 "nbformat": 4,
 "nbformat_minor": 2
}
