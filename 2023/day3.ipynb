{
 "cells": [
  {
   "cell_type": "code",
   "execution_count": null,
   "metadata": {},
   "outputs": [],
   "source": [
    "# Imports\n",
    "import numpy as np\n",
    "import re"
   ]
  },
  {
   "cell_type": "code",
   "execution_count": null,
   "metadata": {},
   "outputs": [],
   "source": [
    "# Read in data\n",
    "input_file = open('input_files/day3.txt', 'r')\n",
    "input_data = input_file.read().split('\\n')[:-1]\n",
    "test_data = [\n",
    "    \"467..114..\",\n",
    "    \"...*......\",\n",
    "    \"..35..633.\",\n",
    "    \"......#...\",\n",
    "    \"617*......\",\n",
    "    \".....+.58.\",\n",
    "    \"..592.....\",\n",
    "    \"......755.\",\n",
    "    \"...$.*....\",\n",
    "    \".664.598..\"\n",
    "]"
   ]
  },
  {
   "cell_type": "code",
   "execution_count": null,
   "metadata": {},
   "outputs": [],
   "source": [
    "def data_to_array(data):\n",
    "    return np.array([list(line) for line in data])\n",
    "\n",
    "\n",
    "def find_number_indices(data):\n",
    "    indices = []\n",
    "    for i, row in enumerate(data):\n",
    "        for match in re.finditer(\"[0-9]*\", row):\n",
    "            match_indices = list(np.arange(match.start(), match.end()))\n",
    "            if len(match_indices) > 0:\n",
    "                indices.append([i, match_indices])\n",
    "    return indices\n",
    "\n",
    "\n",
    "def find_adjacent_entries(array, row, col_indices):\n",
    "    n_rows, n_cols = array.shape\n",
    "    adjacent_entries = []\n",
    "\n",
    "    directions = [(0, -1), (0, 1), (1, 0), (-1, 0), (1, 1), (1, -1), (-1, 1), (-1, -1)]\n",
    "\n",
    "    # Iterate over the given column indices\n",
    "    for col_index in col_indices:\n",
    "        # Iterate over the possible directions\n",
    "        for direction in directions:\n",
    "            new_row = row + direction[0]\n",
    "            new_col = col_index + direction[1]\n",
    "            \n",
    "            # Check if the new position is within the bounds of the array\n",
    "            if 0 <= new_row < n_rows and 0 <= new_col < n_cols:\n",
    "                if new_row == row and new_col in col_indices:\n",
    "                    pass\n",
    "                else:\n",
    "                    adjacent_entries.append(array[new_row][new_col])\n",
    "\n",
    "    return adjacent_entries\n",
    "\n",
    "\n",
    "def check_part_number(array, row, col_indices):\n",
    "    adjacent_entries = find_adjacent_entries(array, row, col_indices)\n",
    "    if any([x != '.' for x in find_adjacent_entries(array, row, col_indices)]):\n",
    "        return int(''.join(array[row, col_indices]))\n",
    "    else:\n",
    "        return None\n",
    "    \n",
    "\n",
    "def part1(data):\n",
    "    part_number_sum = 0\n",
    "    number_indices = find_number_indices(data)\n",
    "    array = data_to_array(data)\n",
    "    for number_index in number_indices:\n",
    "        part_number = check_part_number(array, number_index[0], number_index[1])\n",
    "        if part_number:\n",
    "            part_number_sum += part_number\n",
    "            \n",
    "    return part_number_sum"
   ]
  },
  {
   "cell_type": "code",
   "execution_count": null,
   "metadata": {},
   "outputs": [],
   "source": [
    "part1(input_data)"
   ]
  }
 ],
 "metadata": {
  "kernelspec": {
   "display_name": "Python 3",
   "language": "python",
   "name": "python3"
  },
  "language_info": {
   "codemirror_mode": {
    "name": "ipython",
    "version": 3
   },
   "file_extension": ".py",
   "mimetype": "text/x-python",
   "name": "python",
   "nbconvert_exporter": "python",
   "pygments_lexer": "ipython3",
   "version": "3.7.1"
  }
 },
 "nbformat": 4,
 "nbformat_minor": 2
}
