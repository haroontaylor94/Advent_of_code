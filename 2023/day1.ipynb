{
 "cells": [
  {
   "cell_type": "code",
   "execution_count": 5,
   "metadata": {},
   "outputs": [],
   "source": [
    "# Imports\n",
    "import re"
   ]
  },
  {
   "cell_type": "code",
   "execution_count": 24,
   "metadata": {},
   "outputs": [],
   "source": [
    "# Read in data\n",
    "input_file = open('input_files/day1.txt', 'r')\n",
    "data = input_file.read().split('\\n')[:-1]\n",
    "test_data = [\n",
    "    \"1abc2\",\n",
    "    \"pqr3stu8vwx\",\n",
    "    \"a1b2c3d4e5f\",\n",
    "    \"treb7uchet\"\n",
    "]"
   ]
  },
  {
   "cell_type": "markdown",
   "metadata": {},
   "source": [
    "# Part 1"
   ]
  },
  {
   "cell_type": "code",
   "execution_count": 18,
   "metadata": {},
   "outputs": [],
   "source": [
    "def calibrate(data):\n",
    "    two_digit_number_list = []\n",
    "    for string in data:\n",
    "        digit_string = re.sub(\"[^0-9]\", \"\", string)\n",
    "        two_digit_number = int(digit_string[0] + digit_string[-1])\n",
    "        two_digit_number_list.append(two_digit_number)\n",
    "    return two_digit_number_list"
   ]
  },
  {
   "cell_type": "code",
   "execution_count": 20,
   "metadata": {},
   "outputs": [
    {
     "name": "stdout",
     "output_type": "stream",
     "text": [
      "142\n"
     ]
    }
   ],
   "source": [
    "# Test\n",
    "test_list = calibrate(test_data)\n",
    "print(sum(test_list))"
   ]
  },
  {
   "cell_type": "code",
   "execution_count": 27,
   "metadata": {},
   "outputs": [
    {
     "name": "stdout",
     "output_type": "stream",
     "text": [
      "54597\n"
     ]
    }
   ],
   "source": [
    "number_list = calibrate(data)\n",
    "print(sum(number_list))"
   ]
  }
 ],
 "metadata": {
  "kernelspec": {
   "display_name": "Python 3",
   "language": "python",
   "name": "python3"
  },
  "language_info": {
   "codemirror_mode": {
    "name": "ipython",
    "version": 3
   },
   "file_extension": ".py",
   "mimetype": "text/x-python",
   "name": "python",
   "nbconvert_exporter": "python",
   "pygments_lexer": "ipython3",
   "version": "3.7.1"
  }
 },
 "nbformat": 4,
 "nbformat_minor": 2
}
