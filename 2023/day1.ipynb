{
 "cells": [
  {
   "cell_type": "code",
   "execution_count": null,
   "metadata": {},
   "outputs": [],
   "source": [
    "# Imports\n",
    "import re"
   ]
  },
  {
   "cell_type": "code",
   "execution_count": null,
   "metadata": {},
   "outputs": [],
   "source": [
    "# Read in data\n",
    "input_file = open('input_files/day1.txt', 'r')\n",
    "input_data = input_file.read().split('\\n')[:-1]\n",
    "test_data = [\n",
    "    \"1abc2\",\n",
    "    \"pqr3stu8vwx\",\n",
    "    \"a1b2c3d4e5f\",\n",
    "    \"treb7uchet\"\n",
    "]"
   ]
  },
  {
   "cell_type": "markdown",
   "metadata": {},
   "source": [
    "# Part 1"
   ]
  },
  {
   "cell_type": "code",
   "execution_count": null,
   "metadata": {},
   "outputs": [],
   "source": [
    "def calibrate(data):\n",
    "    two_digit_number_list = []\n",
    "    for string in data:\n",
    "        digit_string = re.sub(\"[^0-9]\", \"\", string)\n",
    "        two_digit_number = int(digit_string[0] + digit_string[-1])\n",
    "        two_digit_number_list.append(two_digit_number)\n",
    "    return two_digit_number_list"
   ]
  },
  {
   "cell_type": "code",
   "execution_count": null,
   "metadata": {},
   "outputs": [],
   "source": [
    "# Test\n",
    "test_list = calibrate(test_data)\n",
    "print(sum(test_list))"
   ]
  },
  {
   "cell_type": "code",
   "execution_count": null,
   "metadata": {},
   "outputs": [],
   "source": [
    "number_list = calibrate(input_data)\n",
    "print(sum(number_list))"
   ]
  },
  {
   "cell_type": "markdown",
   "metadata": {},
   "source": [
    "# Part 2"
   ]
  },
  {
   "cell_type": "code",
   "execution_count": null,
   "metadata": {},
   "outputs": [],
   "source": [
    "test_data = [\n",
    "    \"two1nine\",\n",
    "    \"eightwothree\",\n",
    "    \"abcone2threexyz\",\n",
    "    \"xtwone3four\",\n",
    "    \"4nineeightseven2\",\n",
    "    \"zoneight234\",\n",
    "    \"7pqrstsixteen\",\n",
    "]\n",
    "\n",
    "conversion_dict = {\n",
    "    \"one\": \"1\",\n",
    "    \"1\": \"1\",\n",
    "    \"two\": \"2\",\n",
    "    \"2\": \"2\",\n",
    "    \"three\": \"3\",\n",
    "    \"3\": \"3\",\n",
    "    \"four\": \"4\",\n",
    "    \"4\": \"4\",\n",
    "    \"five\": \"5\",\n",
    "    \"5\": \"5\",\n",
    "    \"six\": \"6\",\n",
    "    \"6\": \"6\",\n",
    "    \"seven\": \"7\",\n",
    "    \"7\": \"7\",\n",
    "    \"eight\": \"8\",\n",
    "    \"8\": \"8\",\n",
    "    \"nine\": \"9\",\n",
    "    \"9\": \"9\"\n",
    "}"
   ]
  },
  {
   "cell_type": "code",
   "execution_count": null,
   "metadata": {},
   "outputs": [],
   "source": [
    "def calibrate2(data):\n",
    "    two_digit_number_list = []\n",
    "    for string in data:\n",
    "        first_digit = None\n",
    "        first_digit_loc = len(string)\n",
    "        last_digit = None\n",
    "        last_digit_loc = 0\n",
    "        for key, value in conversion_dict.items():\n",
    "            loc = string.find(key)\n",
    "            if loc != -1:  \n",
    "                if loc < first_digit_loc:\n",
    "                    first_digit_loc = loc\n",
    "                    first_digit = value\n",
    "                if loc >= last_digit_loc:\n",
    "                    last_digit_loc = loc\n",
    "                    last_digit = value\n",
    "        two_digit_number = int(first_digit + last_digit)\n",
    "        two_digit_number_list.append(two_digit_number)\n",
    "    return(two_digit_number_list)"
   ]
  },
  {
   "cell_type": "code",
   "execution_count": null,
   "metadata": {},
   "outputs": [],
   "source": [
    "test_list = calibrate2(test_data)\n",
    "print(sum(test_list))"
   ]
  },
  {
   "cell_type": "code",
   "execution_count": null,
   "metadata": {},
   "outputs": [],
   "source": [
    "number_list = calibrate2(input_data)\n",
    "print(sum(number_list))"
   ]
  }
 ],
 "metadata": {
  "kernelspec": {
   "display_name": "Python 3",
   "language": "python",
   "name": "python3"
  },
  "language_info": {
   "codemirror_mode": {
    "name": "ipython",
    "version": 3
   },
   "file_extension": ".py",
   "mimetype": "text/x-python",
   "name": "python",
   "nbconvert_exporter": "python",
   "pygments_lexer": "ipython3",
   "version": "3.7.1"
  }
 },
 "nbformat": 4,
 "nbformat_minor": 2
}
