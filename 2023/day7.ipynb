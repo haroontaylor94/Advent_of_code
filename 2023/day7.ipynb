{
 "cells": [
  {
   "cell_type": "code",
   "execution_count": null,
   "metadata": {},
   "outputs": [],
   "source": [
    "import collections\n",
    "import pandas as pd"
   ]
  },
  {
   "cell_type": "code",
   "execution_count": null,
   "metadata": {},
   "outputs": [],
   "source": [
    "# Read in data\n",
    "input_file = open('input_files/day7.txt', 'r')\n",
    "input_data = input_file.read()[:-1].split(\"\\n\")\n",
    "\n",
    "test_data = \"\"\"32T3K 765\n",
    "T55J5 684\n",
    "KK677 28\n",
    "KTJJT 220\n",
    "QQQJA 483\"\"\"\n",
    "test_data = test_data.split(\"\\n\")"
   ]
  },
  {
   "cell_type": "markdown",
   "metadata": {},
   "source": [
    "# Part 1"
   ]
  },
  {
   "cell_type": "code",
   "execution_count": null,
   "metadata": {},
   "outputs": [],
   "source": [
    "def parse_data(data):\n",
    "    data = [x.split(' ') for x in data]\n",
    "    data_dict = {x[0]: int(x[1]) for x in data}\n",
    "    df = pd.DataFrame.from_dict(data_dict, orient=\"index\")\n",
    "    \n",
    "    return df\n",
    "\n",
    "\n",
    "def find_type(hand):\n",
    "    card_count_dict = collections.defaultdict(int)\n",
    "    for card in hand:\n",
    "        card_count_dict[card] += 1\n",
    "    max_count = max(list(card_count_dict.values()))\n",
    "    if max_count == 5:\n",
    "        return 1\n",
    "    elif max_count == 4:\n",
    "        return 2\n",
    "    elif max_count == 3:\n",
    "        if len(card_count_dict) == 2:\n",
    "            return 3\n",
    "        else:\n",
    "            return 4\n",
    "    elif max_count == 2:\n",
    "        if len(card_count_dict) == 3:\n",
    "            return 5\n",
    "        else:\n",
    "            return 6\n",
    "    else:\n",
    "        return 7\n",
    "    \n",
    "    \n",
    "def order_cards(card_list, card_order):\n",
    "    order_card_list = sorted(card_list, key=lambda hand: [card_order[card] for card in hand])\n",
    "    return order_card_list\n",
    "\n",
    "\n",
    "def part1(data, card_order):\n",
    "    total = 0\n",
    "    df = parse_data(data)\n",
    "    order_card_list = order_cards(df.index, card_order)\n",
    "    df = df.reindex(order_card_list)\n",
    "    for hand in df.index:\n",
    "        df.loc[hand, \"type\"] = find_type(hand)\n",
    "    df = df.reset_index().reset_index()\n",
    "    df.columns = [\"order 2\", \"card\", \"bet\", \"order 1\"]\n",
    "    df = df.sort_values(by = [\"order 1\", \"order 2\"])\n",
    "    df = df.reset_index(drop=True)\n",
    "    \n",
    "    max_rank = len(df)\n",
    "    for i, row in df.iterrows():\n",
    "        score = (max_rank - i) * row[\"bet\"]\n",
    "        total += score\n",
    "        \n",
    "    return total"
   ]
  },
  {
   "cell_type": "code",
   "execution_count": null,
   "metadata": {},
   "outputs": [],
   "source": [
    "part1_card_order = [\"A\", \"K\", \"Q\", \"J\", \"T\", \"9\", \"8\", \"7\", \"6\", \"5\", \"4\", \"3\", \"2\", \"1\"]\n",
    "part1_card_order = dict(zip(part1_card_order, range(len(part1_card_order))))\n",
    "\n",
    "part1(input_data, part1_card_order)"
   ]
  },
  {
   "cell_type": "markdown",
   "metadata": {},
   "source": [
    "# Part 2"
   ]
  },
  {
   "cell_type": "code",
   "execution_count": null,
   "metadata": {},
   "outputs": [],
   "source": [
    "def find_type2(hand):\n",
    "    card_count_dict = collections.defaultdict(int)\n",
    "    n_jokers = hand.count(\"J\")\n",
    "    hand = hand.replace(\"J\", \"\")\n",
    "    max_count = n_jokers\n",
    "    for card in hand:\n",
    "        card_count_dict[card] += 1\n",
    "    if len(card_count_dict) > 0:\n",
    "        max_count += max(list(card_count_dict.values()))\n",
    "    if max_count == 5:\n",
    "        return 1\n",
    "    elif max_count == 4:\n",
    "        return 2\n",
    "    elif max_count == 3:\n",
    "        if len(card_count_dict) == 2:\n",
    "            return 3\n",
    "        else:\n",
    "            return 4\n",
    "    elif max_count == 2:\n",
    "        if len(card_count_dict) == 3:\n",
    "            return 5\n",
    "        else:\n",
    "            return 6\n",
    "    else:\n",
    "        return 7\n",
    "\n",
    "def part2(data, card_order):\n",
    "    total = 0\n",
    "    df = parse_data(data)\n",
    "    order_card_list = order_cards(df.index, card_order)\n",
    "    df = df.reindex(order_card_list)\n",
    "    for hand in df.index:\n",
    "        df.loc[hand, \"type\"] = find_type2(hand)\n",
    "    df = df.reset_index().reset_index()\n",
    "    df.columns = [\"order 2\", \"card\", \"bet\", \"order 1\"]\n",
    "    df = df.sort_values(by = [\"order 1\", \"order 2\"])\n",
    "    df = df.reset_index(drop=True)\n",
    "    \n",
    "    max_rank = len(df)\n",
    "    for i, row in df.iterrows():\n",
    "        score = (max_rank - i) * row[\"bet\"]\n",
    "        total += score\n",
    "        \n",
    "    return total"
   ]
  },
  {
   "cell_type": "code",
   "execution_count": null,
   "metadata": {},
   "outputs": [],
   "source": [
    "part2_card_order = [\"A\", \"K\", \"Q\", \"T\", \"9\", \"8\", \"7\", \"6\", \"5\", \"4\", \"3\", \"2\", \"1\", \"J\"]\n",
    "part2_card_order = dict(zip(part2_card_order, range(len(part2_card_order))))\n",
    "\n",
    "part2(input_data, part2_card_order)"
   ]
  }
 ],
 "metadata": {
  "kernelspec": {
   "display_name": "Python 3",
   "language": "python",
   "name": "python3"
  },
  "language_info": {
   "codemirror_mode": {
    "name": "ipython",
    "version": 3
   },
   "file_extension": ".py",
   "mimetype": "text/x-python",
   "name": "python",
   "nbconvert_exporter": "python",
   "pygments_lexer": "ipython3",
   "version": "3.7.1"
  }
 },
 "nbformat": 4,
 "nbformat_minor": 2
}
