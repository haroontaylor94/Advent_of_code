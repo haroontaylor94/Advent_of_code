{
 "cells": [
  {
   "cell_type": "markdown",
   "metadata": {},
   "source": [
    "## Day 13\n",
    "#### Part 1"
   ]
  },
  {
   "cell_type": "code",
   "execution_count": 1,
   "metadata": {},
   "outputs": [],
   "source": [
    "import numpy as np\n",
    "from functools import reduce"
   ]
  },
  {
   "cell_type": "code",
   "execution_count": 2,
   "metadata": {},
   "outputs": [],
   "source": [
    "# Read in data\n",
    "input_file = open('day13_input.txt', 'r')\n",
    "data = input_file.read()[:-1]"
   ]
  },
  {
   "cell_type": "code",
   "execution_count": 3,
   "metadata": {},
   "outputs": [],
   "source": [
    "# Data wrangling\n",
    "data = data.split('\\n')\n",
    "time = int(data[0])\n",
    "buses = data[1].split(',')\n",
    "buses = [int(bus) for bus in buses if bus != 'x']"
   ]
  },
  {
   "cell_type": "code",
   "execution_count": 4,
   "metadata": {},
   "outputs": [],
   "source": [
    "def get_wait_time_bus_id(time, buses):\n",
    "    wait_times = [bus - time % bus for bus in buses]\n",
    "    \n",
    "    return min(wait_times), buses[np.argmin(wait_times)]"
   ]
  },
  {
   "cell_type": "code",
   "execution_count": 5,
   "metadata": {},
   "outputs": [
    {
     "name": "stdout",
     "output_type": "stream",
     "text": [
      "171\n"
     ]
    }
   ],
   "source": [
    "print(np.prod(get_wait_time_bus_id(time, buses)))"
   ]
  },
  {
   "cell_type": "markdown",
   "metadata": {},
   "source": [
    "#### Part 2"
   ]
  },
  {
   "cell_type": "code",
   "execution_count": 6,
   "metadata": {},
   "outputs": [],
   "source": [
    "buses = data[1].split(',')"
   ]
  },
  {
   "cell_type": "code",
   "execution_count": 7,
   "metadata": {},
   "outputs": [],
   "source": [
    "def gcd(a, b):\n",
    "    while b:      \n",
    "        a, b = b, a % b\n",
    "    return a\n",
    "\n",
    "\n",
    "def lcm(a, b):\n",
    "    return a * b // gcd(a, b)\n",
    "\n",
    "\n",
    "def lcmm(*args): \n",
    "    return reduce(lcm, args)\n",
    "\n",
    "\n",
    "def get_timestamp(n, x, y, remainder, period):\n",
    "    while(True):\n",
    "        if((n % x == 0) and (n % y == y - remainder % y)):\n",
    "            remainder_lcm = n\n",
    "            break\n",
    "        n += period\n",
    "\n",
    "    return remainder_lcm"
   ]
  },
  {
   "cell_type": "code",
   "execution_count": 8,
   "metadata": {},
   "outputs": [
    {
     "name": "stdout",
     "output_type": "stream",
     "text": [
      "539746751134958\n"
     ]
    }
   ],
   "source": [
    "timestamp = 1\n",
    "period = 1\n",
    "first_bus = int(buses[0])\n",
    "current_buses = [first_bus]\n",
    "for i, bus in enumerate(buses[1:]):\n",
    "    if bus != 'x':\n",
    "        current_buses.append(int(bus))\n",
    "        timestamp = get_timestamp(timestamp, first_bus, int(bus), i+1, period)\n",
    "        period = lcmm(*current_buses)\n",
    "        \n",
    "print(timestamp)"
   ]
  }
 ],
 "metadata": {
  "kernelspec": {
   "display_name": "Python 3",
   "language": "python",
   "name": "python3"
  },
  "language_info": {
   "codemirror_mode": {
    "name": "ipython",
    "version": 3
   },
   "file_extension": ".py",
   "mimetype": "text/x-python",
   "name": "python",
   "nbconvert_exporter": "python",
   "pygments_lexer": "ipython3",
   "version": "3.7.1"
  }
 },
 "nbformat": 4,
 "nbformat_minor": 2
}
