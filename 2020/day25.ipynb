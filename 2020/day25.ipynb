{
 "cells": [
  {
   "cell_type": "markdown",
   "metadata": {},
   "source": [
    "## Day 25\n",
    "#### Part 1"
   ]
  },
  {
   "cell_type": "code",
   "execution_count": 1,
   "metadata": {},
   "outputs": [],
   "source": [
    "# Read in data\n",
    "input_file = open('day25_input.txt', 'r')\n",
    "data = input_file.read()[:-1]"
   ]
  },
  {
   "cell_type": "code",
   "execution_count": 2,
   "metadata": {},
   "outputs": [],
   "source": [
    "# Data wrangling\n",
    "data = [int(x) for x in data.split(\"\\n\")]"
   ]
  },
  {
   "cell_type": "code",
   "execution_count": 3,
   "metadata": {},
   "outputs": [],
   "source": [
    "def transform(subject_number, value):\n",
    "    return (value * subject_number) % 20201227\n",
    "\n",
    "\n",
    "def transform_loop(subject_number, target_value, loop_size):\n",
    "    value = 1\n",
    "    i = 0\n",
    "    if target_value:\n",
    "        while value != target_value:\n",
    "            value = transform(subject_number, value)\n",
    "            i += 1\n",
    "    else:\n",
    "        while i != loop_size:\n",
    "            value = transform(subject_number, value)\n",
    "            i += 1\n",
    "    return value, i"
   ]
  },
  {
   "cell_type": "code",
   "execution_count": 4,
   "metadata": {},
   "outputs": [
    {
     "name": "stdout",
     "output_type": "stream",
     "text": [
      "5414549\n"
     ]
    }
   ],
   "source": [
    "card_key, door_key = data\n",
    "_, card_loop = transform_loop(7, card_key, None)\n",
    "_, door_loop = transform_loop(7, door_key, None)\n",
    "encryption_key, _ = transform_loop(card_key, None, door_loop)\n",
    "\n",
    "print(encryption_key)"
   ]
  }
 ],
 "metadata": {
  "kernelspec": {
   "display_name": "Python 3",
   "language": "python",
   "name": "python3"
  },
  "language_info": {
   "codemirror_mode": {
    "name": "ipython",
    "version": 3
   },
   "file_extension": ".py",
   "mimetype": "text/x-python",
   "name": "python",
   "nbconvert_exporter": "python",
   "pygments_lexer": "ipython3",
   "version": "3.7.1"
  }
 },
 "nbformat": 4,
 "nbformat_minor": 2
}
