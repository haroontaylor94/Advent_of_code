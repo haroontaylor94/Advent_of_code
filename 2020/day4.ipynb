{
 "cells": [
  {
   "cell_type": "markdown",
   "metadata": {},
   "source": [
    "## Day 4\n",
    "#### Part 1 + 2"
   ]
  },
  {
   "cell_type": "code",
   "execution_count": 1,
   "metadata": {},
   "outputs": [],
   "source": [
    "import re\n",
    "import numpy"
   ]
  },
  {
   "cell_type": "code",
   "execution_count": 2,
   "metadata": {},
   "outputs": [],
   "source": [
    "# Read in data\n",
    "input_file = open('day4_input.txt', 'r')\n",
    "data = input_file.read()[:-1]"
   ]
  },
  {
   "cell_type": "code",
   "execution_count": 3,
   "metadata": {},
   "outputs": [],
   "source": [
    "# Data wrangling\n",
    "# Split passports\n",
    "data = data.split('\\n\\n')\n",
    "# Split passport keys\n",
    "data = [re.split(r'[\\ |\\n]', pport) for pport in data]\n",
    "# Convert passport lists into dictionaries\n",
    "pports = []\n",
    "for pport in data:\n",
    "    pport_dict = {key:value for key, value in [string.split(':') for string in pport]}\n",
    "    pports.append(pport_dict)"
   ]
  },
  {
   "cell_type": "code",
   "execution_count": 4,
   "metadata": {},
   "outputs": [],
   "source": [
    "# Create a passport class\n",
    "class Passport:\n",
    "    def __init__(self, byr, iyr, eyr, hgt, hcl, ecl, pid, cid=None):\n",
    "        self.byr = byr\n",
    "        self.iyr = iyr\n",
    "        self.eyr = eyr\n",
    "        self.hgt = hgt\n",
    "        self.hcl = hcl\n",
    "        self.ecl = ecl\n",
    "        self.pid = pid\n",
    "        self.cid = cid\n",
    "    \n",
    "    def print_pport(self):\n",
    "        print(f\"\"\"\n",
    "        Birth year: {self.byr}\n",
    "        Issue year: {self.iyr}\n",
    "        Expiration Year: {self.eyr}\n",
    "        Height: {self.hgt}\n",
    "        Hair Color: {self.hcl}\n",
    "        Eye Color: {self.ecl}\n",
    "        Passport ID: {self.pid}\n",
    "        Country ID: {self.cid}\n",
    "        \"\"\")\n",
    "    \n",
    "    def check_birth_year(self):\n",
    "        return len(self.byr) == 4 and 1920 <= int(self.byr) <= 2002\n",
    "\n",
    "    def check_issue_year(self):\n",
    "        return len(self.iyr) == 4 and 2010 <= int(self.iyr) <= 2020\n",
    "    \n",
    "    def check_expiration_year(self):\n",
    "        return len(self.eyr) == 4 and 2020 <= int(self.eyr) <= 2030\n",
    "    \n",
    "    def check_height(self):\n",
    "        height_vec = re.findall(\"(\\d+)(cm|in)\", self.hgt)\n",
    "        if len(height_vec) > 0:\n",
    "            height = int(height_vec[0][0])\n",
    "            unit = height_vec[0][1]\n",
    "            if unit == 'cm':\n",
    "                return 150 <= height <= 193\n",
    "            elif unit == 'in':\n",
    "                return 59 <= height <= 76\n",
    "        else:\n",
    "            return False\n",
    "    \n",
    "    def check_hair_color(self):\n",
    "        return bool(re.match('#(\\d|[a-f]){6}', self.hcl))\n",
    "    \n",
    "    def check_eye_color(self):\n",
    "        return self.ecl in ['amb', 'blu', 'brn', 'gry', 'grn', 'hzl', 'oth']\n",
    "    \n",
    "    def check_passport_id(self):\n",
    "        return len(self.pid) == 9\n",
    "    \n",
    "    def check_valid(self):\n",
    "        return (self.check_birth_year() and \n",
    "                self.check_issue_year() and\n",
    "                self.check_expiration_year() and\n",
    "                self.check_height() and\n",
    "                self.check_hair_color() and\n",
    "                self.check_eye_color() and \n",
    "                self.check_passport_id()\n",
    "               )"
   ]
  },
  {
   "cell_type": "code",
   "execution_count": 5,
   "metadata": {},
   "outputs": [
    {
     "name": "stdout",
     "output_type": "stream",
     "text": [
      "202\n"
     ]
    }
   ],
   "source": [
    "# Part 1 ans\n",
    "pport_objs = []\n",
    "for pport in pports:\n",
    "    try:\n",
    "        p = Passport(**pport)\n",
    "        pport_objs.append(p)\n",
    "    except:\n",
    "        pass\n",
    "    \n",
    "print(len(pport_objs))"
   ]
  },
  {
   "cell_type": "code",
   "execution_count": 6,
   "metadata": {},
   "outputs": [
    {
     "data": {
      "text/plain": [
       "137"
      ]
     },
     "execution_count": 6,
     "metadata": {},
     "output_type": "execute_result"
    }
   ],
   "source": [
    "# Part 2 ans\n",
    "sum([pport.check_valid() for pport in pport_objs])"
   ]
  }
 ],
 "metadata": {
  "kernelspec": {
   "display_name": "Python 3",
   "language": "python",
   "name": "python3"
  },
  "language_info": {
   "codemirror_mode": {
    "name": "ipython",
    "version": 3
   },
   "file_extension": ".py",
   "mimetype": "text/x-python",
   "name": "python",
   "nbconvert_exporter": "python",
   "pygments_lexer": "ipython3",
   "version": "3.6.3"
  }
 },
 "nbformat": 4,
 "nbformat_minor": 4
}
