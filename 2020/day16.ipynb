{
 "cells": [
  {
   "cell_type": "markdown",
   "metadata": {},
   "source": [
    "## Day 16\n",
    "#### Part 1"
   ]
  },
  {
   "cell_type": "code",
   "execution_count": 1,
   "metadata": {},
   "outputs": [],
   "source": [
    "import re\n",
    "import numpy as np"
   ]
  },
  {
   "cell_type": "code",
   "execution_count": 2,
   "metadata": {},
   "outputs": [],
   "source": [
    "# Read in data\n",
    "input_file = open('day16_input.txt', 'r')\n",
    "data = input_file.read()[:-1]"
   ]
  },
  {
   "cell_type": "code",
   "execution_count": 3,
   "metadata": {},
   "outputs": [],
   "source": [
    "# Data wrangling\n",
    "data = data.split(\"\\n\\n\")\n",
    "rules = data[0].split(\"\\n\")\n",
    "personal_ticket = data[1].split(\"\\n\")[1].split(\",\")\n",
    "nearby_tickets = data[2].split(\"\\n\")[1:]\n",
    "nearby_tickets = [string.split(',') for string in nearby_tickets]"
   ]
  },
  {
   "cell_type": "code",
   "execution_count": 4,
   "metadata": {},
   "outputs": [
    {
     "name": "stdout",
     "output_type": "stream",
     "text": [
      "21081\n"
     ]
    }
   ],
   "source": [
    "valid_numbers = []\n",
    "for rule in rules:\n",
    "    nums = re.findall('(\\d+)', rule)\n",
    "    valid_numbers.extend(list(np.arange(int(nums[0]), int(nums[1])+1)))\n",
    "    valid_numbers.extend(list(np.arange(int(nums[2]), int(nums[3])+1)))\n",
    "    valid_numbers = list(set(valid_numbers))\n",
    "    \n",
    "invalid_numbers = [int(n) for ticket in nearby_tickets for n in ticket if int(n) not in valid_numbers]\n",
    "print(sum(invalid_numbers))"
   ]
  },
  {
   "cell_type": "markdown",
   "metadata": {},
   "source": [
    "#### Part 2"
   ]
  },
  {
   "cell_type": "code",
   "execution_count": 5,
   "metadata": {},
   "outputs": [],
   "source": [
    "# Discard invalid tickets\n",
    "valid_tickets = [personal_ticket]\n",
    "for ticket in nearby_tickets:\n",
    "    if all(int(num) in valid_numbers for num in ticket):\n",
    "        valid_tickets.append(ticket)\n",
    "        \n",
    "# Convert to numpy array\n",
    "valid_tickets = np.array(valid_tickets)"
   ]
  },
  {
   "cell_type": "code",
   "execution_count": 6,
   "metadata": {},
   "outputs": [],
   "source": [
    "# Find valid numbers for each rule\n",
    "valid_numbers = []\n",
    "for rule in rules:\n",
    "    nums = re.findall('(\\d+)', rule)\n",
    "    valid_numbers_rule = []\n",
    "    valid_numbers_rule.extend(list(np.arange(int(nums[0]), int(nums[1])+1)))\n",
    "    valid_numbers_rule.extend(list(np.arange(int(nums[2]), int(nums[3])+1)))\n",
    "    valid_numbers.append(valid_numbers_rule)"
   ]
  },
  {
   "cell_type": "code",
   "execution_count": 7,
   "metadata": {},
   "outputs": [],
   "source": [
    "# Identify which numbers match which rule\n",
    "valid_rules = []\n",
    "for col in np.arange(valid_tickets.shape[1]):\n",
    "    number_set = valid_tickets[:, col]\n",
    "    valid_rules_number_set = []\n",
    "    for i, valid_numbers_rule in enumerate(valid_numbers):\n",
    "        if all(int(num) in valid_numbers_rule for num in number_set):\n",
    "            valid_rules_number_set.append(i)\n",
    "    valid_rules.append(valid_rules_number_set)\n",
    "    \n",
    "# Identify unique combination so that each number appears once\n",
    "valid_rules_dict = {len(lst): (i, lst) for i, lst in enumerate(valid_rules)}\n",
    "for i in np.arange(2, valid_tickets.shape[1]+1):\n",
    "    valid_rules[valid_rules_dict[i][0]] = [rule for rule in valid_rules_dict[i][1] \n",
    "                                           if rule not in valid_rules_dict[i-1][1]]\n",
    "    \n",
    "valid_rules = [rule for lst in valid_rules for rule in lst]"
   ]
  },
  {
   "cell_type": "code",
   "execution_count": 8,
   "metadata": {},
   "outputs": [
    {
     "name": "stdout",
     "output_type": "stream",
     "text": [
      "314360510573\n"
     ]
    }
   ],
   "source": [
    "departure_rules = [i for i, rule in enumerate(rules) if rule.startswith('departure')]\n",
    "personal_ticket_departure = [int(personal_ticket[valid_rules.index(i)]) for i in departure_rules]\n",
    "print(np.prod(personal_ticket_departure))"
   ]
  }
 ],
 "metadata": {
  "kernelspec": {
   "display_name": "Python 3",
   "language": "python",
   "name": "python3"
  },
  "language_info": {
   "codemirror_mode": {
    "name": "ipython",
    "version": 3
   },
   "file_extension": ".py",
   "mimetype": "text/x-python",
   "name": "python",
   "nbconvert_exporter": "python",
   "pygments_lexer": "ipython3",
   "version": "3.7.1"
  }
 },
 "nbformat": 4,
 "nbformat_minor": 2
}
