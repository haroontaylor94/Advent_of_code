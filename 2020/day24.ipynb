{
 "cells": [
  {
   "cell_type": "markdown",
   "metadata": {},
   "source": [
    "## Day 24\n",
    "#### Part 1"
   ]
  },
  {
   "cell_type": "code",
   "execution_count": 1,
   "metadata": {},
   "outputs": [],
   "source": [
    "import numpy as np"
   ]
  },
  {
   "cell_type": "code",
   "execution_count": 2,
   "metadata": {},
   "outputs": [],
   "source": [
    "# Read in data\n",
    "input_file = open('day24_input.txt', 'r')\n",
    "data = input_file.read()[:-1]"
   ]
  },
  {
   "cell_type": "code",
   "execution_count": 3,
   "metadata": {},
   "outputs": [],
   "source": [
    "# Data wrangling\n",
    "data = data.split(\"\\n\")"
   ]
  },
  {
   "cell_type": "code",
   "execution_count": 4,
   "metadata": {},
   "outputs": [],
   "source": [
    "flip_dict = {'nw': [0.5, -0.5], 'ne': [0.5, 0.5], 'sw': [-0.5, -0.5], 'se': [-0.5, 0.5], 'e': [0, 1], 'w': [0, -1]}\n",
    "tile_dict = {}"
   ]
  },
  {
   "cell_type": "code",
   "execution_count": 5,
   "metadata": {},
   "outputs": [
    {
     "name": "stdout",
     "output_type": "stream",
     "text": [
      "459\n"
     ]
    }
   ],
   "source": [
    "for line in data:\n",
    "    start = 0\n",
    "    tile = [0, 0]\n",
    "    while start < len(line):\n",
    "        if line[start:start+2] in ['se', 'sw', 'ne', 'nw']:\n",
    "            tile = np.add(tile, flip_dict[line[start:start+2]])\n",
    "            start += 2\n",
    "        else:\n",
    "            tile = np.add(tile, flip_dict[line[start:start+1]])\n",
    "            start += 1\n",
    "    tile = tuple(tile)\n",
    "    tile_dict[tile] = (tile_dict.get(tile, 0) + 1) % 2 \n",
    "    \n",
    "print(sum(tile_dict.values()))"
   ]
  },
  {
   "cell_type": "markdown",
   "metadata": {},
   "source": [
    "#### Part 2"
   ]
  },
  {
   "cell_type": "code",
   "execution_count": 6,
   "metadata": {},
   "outputs": [],
   "source": [
    "def get_adjacent(tile):\n",
    "    return [tuple(np.add(tile, arr)) for arr in flip_dict.values()]\n",
    "\n",
    "\n",
    "def count_black(tiles):\n",
    "    return sum([tile_dict.get(tile, 0) for tile in tiles])\n",
    "\n",
    "\n",
    "def flip_tile(tile):\n",
    "    flip = False\n",
    "    count = count_black(get_adjacent(tile))\n",
    "    \n",
    "    if tile_dict.get(tile, 0) == 0:\n",
    "        if count == 2:\n",
    "            flip = True\n",
    "    else:\n",
    "        if count == 0 or count > 2:\n",
    "            flip = True\n",
    "            \n",
    "    return flip"
   ]
  },
  {
   "cell_type": "code",
   "execution_count": 7,
   "metadata": {},
   "outputs": [
    {
     "name": "stdout",
     "output_type": "stream",
     "text": [
      "Day 1: 304\n",
      "Day 2: 339\n",
      "Day 3: 413\n",
      "Day 4: 416\n",
      "Day 5: 406\n",
      "Day 6: 463\n",
      "Day 7: 445\n",
      "Day 8: 473\n",
      "Day 9: 486\n",
      "Day 10: 541\n",
      "Day 20: 788\n",
      "Day 30: 1100\n",
      "Day 40: 1419\n",
      "Day 50: 1768\n",
      "Day 60: 2089\n",
      "Day 70: 2593\n",
      "Day 80: 3198\n",
      "Day 90: 3561\n",
      "Day 100: 4150\n"
     ]
    }
   ],
   "source": [
    "for i in range(1, 101):\n",
    "    tiles = [tile for tile in tile_dict.keys() if tile_dict[tile] == 1]\n",
    "    tiles_to_check = tiles.copy()\n",
    "    for tile in tiles:\n",
    "        tiles_to_check.extend(get_adjacent(tile))\n",
    "\n",
    "    tiles_to_check = list(set(tiles_to_check))\n",
    "\n",
    "    flip_tiles = [] \n",
    "    for tile in tiles_to_check:\n",
    "        if flip_tile(tile):\n",
    "            flip_tiles.append(tile)\n",
    "\n",
    "    for tile in flip_tiles:\n",
    "        tile_dict[tile] = (tile_dict.get(tile, 0) + 1) % 2 \n",
    "    if i < 10 or i % 10 == 0:\n",
    "        print(f'Day {i}: {sum(tile_dict.values())}')"
   ]
  }
 ],
 "metadata": {
  "kernelspec": {
   "display_name": "Python 3",
   "language": "python",
   "name": "python3"
  },
  "language_info": {
   "codemirror_mode": {
    "name": "ipython",
    "version": 3
   },
   "file_extension": ".py",
   "mimetype": "text/x-python",
   "name": "python",
   "nbconvert_exporter": "python",
   "pygments_lexer": "ipython3",
   "version": "3.7.1"
  }
 },
 "nbformat": 4,
 "nbformat_minor": 2
}
