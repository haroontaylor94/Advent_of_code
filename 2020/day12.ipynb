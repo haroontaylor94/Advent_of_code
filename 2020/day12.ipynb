{
 "cells": [
  {
   "cell_type": "markdown",
   "metadata": {},
   "source": [
    "## Day 12\n",
    "#### Part 1"
   ]
  },
  {
   "cell_type": "code",
   "execution_count": 1,
   "metadata": {},
   "outputs": [],
   "source": [
    "# Read in data\n",
    "input_file = open('day12_input.txt', 'r')\n",
    "data = input_file.read()[:-1]"
   ]
  },
  {
   "cell_type": "code",
   "execution_count": 2,
   "metadata": {},
   "outputs": [],
   "source": [
    "# Data wrangling\n",
    "data = data.split('\\n')"
   ]
  },
  {
   "cell_type": "code",
   "execution_count": 3,
   "metadata": {},
   "outputs": [],
   "source": [
    "direction_dict = {0: 'N', 90: 'E', 180: 'S', 270: 'W'}"
   ]
  },
  {
   "cell_type": "code",
   "execution_count": 4,
   "metadata": {},
   "outputs": [],
   "source": [
    "def update_position(position, bearing, value):\n",
    "    if bearing == 'N':\n",
    "        position[0] += value\n",
    "    if bearing == 'S':\n",
    "        position[0] -= value\n",
    "    if bearing == 'E':\n",
    "        position[1] += value\n",
    "    if bearing == 'W':\n",
    "        position[1] -= value\n",
    "        \n",
    "    return position"
   ]
  },
  {
   "cell_type": "code",
   "execution_count": 5,
   "metadata": {},
   "outputs": [
    {
     "name": "stdout",
     "output_type": "stream",
     "text": [
      "1294\n"
     ]
    }
   ],
   "source": [
    "direction = 90\n",
    "position = [0, 0]\n",
    "\n",
    "for x in data:\n",
    "    instruction = x[0]\n",
    "    value = int(x[1:])\n",
    "    if instruction in ['N', 'E', 'S', 'W']:\n",
    "        position = update_position(position, instruction, value)\n",
    "    elif instruction == 'R':\n",
    "        direction += value\n",
    "        direction = direction % 360\n",
    "    elif instruction == 'L':\n",
    "        direction -= value\n",
    "        direction = direction % 360\n",
    "    elif instruction == 'F':\n",
    "        bearing = direction_dict[direction]\n",
    "        position = update_position(position, bearing, value)\n",
    "\n",
    "print(sum([abs(x) for x in position]))"
   ]
  },
  {
   "cell_type": "markdown",
   "metadata": {},
   "source": [
    "#### Part 2"
   ]
  },
  {
   "cell_type": "code",
   "execution_count": 6,
   "metadata": {},
   "outputs": [],
   "source": [
    "position = [0, 0]\n",
    "waypoint = [1, 10]"
   ]
  },
  {
   "cell_type": "code",
   "execution_count": 7,
   "metadata": {},
   "outputs": [],
   "source": [
    "def rotate(waypoint, command):\n",
    "    if command in ['R90', 'L270']:\n",
    "        waypoint.reverse()\n",
    "        waypoint[0] *= -1\n",
    "    elif command in ['R180', 'L180']:\n",
    "        waypoint = [x * -1 for x in waypoint]\n",
    "    elif command in ['R270', 'L90']:\n",
    "        waypoint.reverse()\n",
    "        waypoint[1] *= -1\n",
    "        \n",
    "    return waypoint"
   ]
  },
  {
   "cell_type": "code",
   "execution_count": 8,
   "metadata": {},
   "outputs": [
    {
     "name": "stdout",
     "output_type": "stream",
     "text": [
      "20592\n"
     ]
    }
   ],
   "source": [
    "for x in data:\n",
    "    instruction = x[0]\n",
    "    value = int(x[1:])\n",
    "    if instruction in ['N', 'E', 'S', 'W']:\n",
    "        waypoint = update_position(waypoint, instruction, value)\n",
    "    elif instruction in ['R', 'L']:\n",
    "        waypoint = rotate(waypoint, x)\n",
    "    elif instruction == 'F':\n",
    "        position = [position[i] + waypoint[i] * value for i in [0,1]]\n",
    "        \n",
    "print(sum([abs(x) for x in position]))"
   ]
  }
 ],
 "metadata": {
  "kernelspec": {
   "display_name": "Python 3",
   "language": "python",
   "name": "python3"
  },
  "language_info": {
   "codemirror_mode": {
    "name": "ipython",
    "version": 3
   },
   "file_extension": ".py",
   "mimetype": "text/x-python",
   "name": "python",
   "nbconvert_exporter": "python",
   "pygments_lexer": "ipython3",
   "version": "3.7.1"
  }
 },
 "nbformat": 4,
 "nbformat_minor": 2
}
