{
 "cells": [
  {
   "cell_type": "markdown",
   "metadata": {},
   "source": [
    "## Day 23\n",
    "#### Part 1"
   ]
  },
  {
   "cell_type": "code",
   "execution_count": 1,
   "metadata": {},
   "outputs": [],
   "source": [
    "import numpy as np"
   ]
  },
  {
   "cell_type": "code",
   "execution_count": 2,
   "metadata": {},
   "outputs": [],
   "source": [
    "data = '253149867'\n",
    "data = [int(x) for x in data]"
   ]
  },
  {
   "cell_type": "code",
   "execution_count": 3,
   "metadata": {},
   "outputs": [],
   "source": [
    "def move(current, data):\n",
    "    idx = data.index(current)\n",
    "    pick_up_idx = np.arange(idx+1, idx+4) % len(data)\n",
    "    pick_up_cups = [data[i] for i in pick_up_idx]\n",
    "    cups = [cup for i, cup in enumerate(data) if i not in pick_up_idx]\n",
    "    destination = np.argmin([current - x if x < current else current + (len(data) + 1 - x) for x in cups])\n",
    "    cups = cups[0:destination+1] + pick_up_cups + cups[destination+1:]\n",
    "    current = cups[(cups.index(current)+1) % len(data)]\n",
    "    \n",
    "    return current, cups"
   ]
  },
  {
   "cell_type": "code",
   "execution_count": 4,
   "metadata": {},
   "outputs": [
    {
     "name": "stdout",
     "output_type": "stream",
     "text": [
      "34952786\n"
     ]
    }
   ],
   "source": [
    "current = int(data[0])\n",
    "for i in range(100):\n",
    "    current, data = move(current, data)\n",
    "\n",
    "one_idx = data.index(1)\n",
    "print(''.join([str(x) for x in data[one_idx+1:] + data[:one_idx]]))"
   ]
  },
  {
   "cell_type": "markdown",
   "metadata": {},
   "source": [
    "#### Part 2"
   ]
  },
  {
   "cell_type": "code",
   "execution_count": 5,
   "metadata": {},
   "outputs": [],
   "source": [
    "data = '253149867'\n",
    "data_dict = {int(x): int(data[i+1]) for i, x in enumerate(data[:-1])}\n",
    "data_dict[int(data[-1])] = 10\n",
    "for i in range(10, 1000000):\n",
    "    data_dict[i] = i+1\n",
    "    \n",
    "data_dict[1000000] = int(data[0])"
   ]
  },
  {
   "cell_type": "code",
   "execution_count": 6,
   "metadata": {},
   "outputs": [
    {
     "name": "stdout",
     "output_type": "stream",
     "text": [
      "505334281774\n"
     ]
    }
   ],
   "source": [
    "x = int(data[0])\n",
    "s = len(data_dict.keys())\n",
    "for i in range(10000000):\n",
    "    x1 = data_dict[x]\n",
    "    x2 = data_dict[x1]\n",
    "    x3 = data_dict[x2]\n",
    "    x4 = data_dict[x3]\n",
    "\n",
    "    if x == 1:\n",
    "        destination = s\n",
    "    else:\n",
    "        destination = x - 1\n",
    "    while destination in [x1, x2, x3]:\n",
    "        if destination == 1:\n",
    "            destination = s\n",
    "        else:\n",
    "            destination -= 1\n",
    "\n",
    "    data_dict[x3] = data_dict[destination]\n",
    "    data_dict[destination] = x1\n",
    "    data_dict[x] = x4\n",
    "    x = x4\n",
    "    \n",
    "print(data_dict[1] * data_dict[data_dict[1]] )"
   ]
  }
 ],
 "metadata": {
  "kernelspec": {
   "display_name": "Python 3",
   "language": "python",
   "name": "python3"
  },
  "language_info": {
   "codemirror_mode": {
    "name": "ipython",
    "version": 3
   },
   "file_extension": ".py",
   "mimetype": "text/x-python",
   "name": "python",
   "nbconvert_exporter": "python",
   "pygments_lexer": "ipython3",
   "version": "3.7.1"
  }
 },
 "nbformat": 4,
 "nbformat_minor": 2
}
