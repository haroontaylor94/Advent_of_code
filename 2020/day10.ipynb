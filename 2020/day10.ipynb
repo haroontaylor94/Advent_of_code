{
 "cells": [
  {
   "cell_type": "markdown",
   "metadata": {},
   "source": [
    "## Day 10\n",
    "#### Part 1"
   ]
  },
  {
   "cell_type": "code",
   "execution_count": 64,
   "metadata": {},
   "outputs": [],
   "source": [
    "import numpy as np\n",
    "from itertools import combinations"
   ]
  },
  {
   "cell_type": "code",
   "execution_count": 228,
   "metadata": {},
   "outputs": [],
   "source": [
    "# Read in data\n",
    "input_file = open('day10_input.txt', 'r')\n",
    "data = input_file.read()[:-1]"
   ]
  },
  {
   "cell_type": "code",
   "execution_count": 229,
   "metadata": {},
   "outputs": [],
   "source": [
    "# Data wrangling\n",
    "data = data.split('\\n')\n",
    "data = [int(x) for x in data]\n",
    "data.sort()"
   ]
  },
  {
   "cell_type": "code",
   "execution_count": 230,
   "metadata": {},
   "outputs": [
    {
     "name": "stdout",
     "output_type": "stream",
     "text": [
      "1984\n"
     ]
    }
   ],
   "source": [
    "data = [0] + data + [max(data) + 3]\n",
    "diffs = np.diff(data)\n",
    "unique, counts = np.unique(diffs, return_counts=True)\n",
    "counts_dict = dict(zip(unique, counts))\n",
    "print(counts_dict[1] * counts_dict[3])"
   ]
  },
  {
   "cell_type": "markdown",
   "metadata": {},
   "source": [
    "#### Part 2"
   ]
  },
  {
   "cell_type": "code",
   "execution_count": 231,
   "metadata": {},
   "outputs": [],
   "source": [
    "def find_fixed_numbers(data):\n",
    "    diffs = np.diff(data)\n",
    "    three_diffs = np.where(diffs == 3)[0]\n",
    "    fixed_numbers = np.unique(np.concatenate((three_diffs, [x+1 for x in three_diffs])).tolist())\n",
    "    return np.insert(fixed_numbers, 0, 0)"
   ]
  },
  {
   "cell_type": "code",
   "execution_count": 232,
   "metadata": {},
   "outputs": [],
   "source": [
    "x = find_fixed_numbers(data)"
   ]
  },
  {
   "cell_type": "code",
   "execution_count": 233,
   "metadata": {},
   "outputs": [
    {
     "name": "stdout",
     "output_type": "stream",
     "text": [
      "3543369523456\n"
     ]
    }
   ],
   "source": [
    "count = 1\n",
    "for i in range(0, len(x)-1):\n",
    "    non_fixed = data[x[i]+1:x[i+1]]\n",
    "    if len(non_fixed) == 1:\n",
    "        count *= 2\n",
    "    elif len(non_fixed) == 2:\n",
    "        count *= 4\n",
    "    elif len(non_fixed) == 3:\n",
    "        count *= 7\n",
    "print(count)"
   ]
  }
 ],
 "metadata": {
  "kernelspec": {
   "display_name": "Python 3",
   "language": "python",
   "name": "python3"
  },
  "language_info": {
   "codemirror_mode": {
    "name": "ipython",
    "version": 3
   },
   "file_extension": ".py",
   "mimetype": "text/x-python",
   "name": "python",
   "nbconvert_exporter": "python",
   "pygments_lexer": "ipython3",
   "version": "3.6.3"
  }
 },
 "nbformat": 4,
 "nbformat_minor": 4
}
