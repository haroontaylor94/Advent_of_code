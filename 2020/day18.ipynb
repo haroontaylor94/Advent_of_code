{
 "cells": [
  {
   "cell_type": "markdown",
   "metadata": {},
   "source": [
    "## Day 18\n",
    "#### Part 1"
   ]
  },
  {
   "cell_type": "code",
   "execution_count": 1,
   "metadata": {},
   "outputs": [],
   "source": [
    "import numpy as np\n",
    "import operator"
   ]
  },
  {
   "cell_type": "code",
   "execution_count": 2,
   "metadata": {},
   "outputs": [],
   "source": [
    "# Read in data\n",
    "input_file = open('day18_input.txt', 'r')\n",
    "data = input_file.read()[:-1]"
   ]
  },
  {
   "cell_type": "code",
   "execution_count": 3,
   "metadata": {},
   "outputs": [],
   "source": [
    "# Data wrangling\n",
    "data = data.split(\"\\n\")\n",
    "\n",
    "# Operator dictionary\n",
    "op_dict = {'+': operator.add, '*': operator.mul}"
   ]
  },
  {
   "cell_type": "code",
   "execution_count": 4,
   "metadata": {},
   "outputs": [],
   "source": [
    "def calculation(string):\n",
    "    value = 0\n",
    "    op = operator.add\n",
    "    for elem in string.split(' '):\n",
    "        if elem in ['*', '+']:\n",
    "            op = op_dict[elem]\n",
    "        else:\n",
    "            value = op(value, int(elem))\n",
    "            \n",
    "    return value\n",
    "   \n",
    "    \n",
    "def compute_expression(string, func):\n",
    "    i = 0\n",
    "    while '(' in string:\n",
    "        char = string[i]\n",
    "        if char == ')':\n",
    "            start = i - string[i::-1].index('(')\n",
    "            calc = str(func(string[start + 1: i]))\n",
    "            string = string[:start] + calc + string[i+1:]\n",
    "            i = start + len(calc)\n",
    "        else:\n",
    "            i += 1\n",
    "            \n",
    "    return func(string)"
   ]
  },
  {
   "cell_type": "code",
   "execution_count": 5,
   "metadata": {},
   "outputs": [
    {
     "name": "stdout",
     "output_type": "stream",
     "text": [
      "25190263477788\n"
     ]
    }
   ],
   "source": [
    "ans = 0\n",
    "for exp in data:\n",
    "    ans += compute_expression(exp, calculation)\n",
    "    \n",
    "print(ans)"
   ]
  },
  {
   "cell_type": "markdown",
   "metadata": {},
   "source": [
    "#### Part 2"
   ]
  },
  {
   "cell_type": "code",
   "execution_count": 6,
   "metadata": {},
   "outputs": [],
   "source": [
    "def calculation_2(string):\n",
    "    return np.prod([sum(int(n) for n in lst.split(' + ')) for lst in string.split(' * ')])"
   ]
  },
  {
   "cell_type": "code",
   "execution_count": 7,
   "metadata": {},
   "outputs": [
    {
     "name": "stdout",
     "output_type": "stream",
     "text": [
      "297139939002972\n"
     ]
    }
   ],
   "source": [
    "ans = 0\n",
    "for exp in data:\n",
    "    ans += compute_expression(exp, calculation_2)\n",
    "    \n",
    "print(ans)"
   ]
  }
 ],
 "metadata": {
  "kernelspec": {
   "display_name": "Python 3",
   "language": "python",
   "name": "python3"
  },
  "language_info": {
   "codemirror_mode": {
    "name": "ipython",
    "version": 3
   },
   "file_extension": ".py",
   "mimetype": "text/x-python",
   "name": "python",
   "nbconvert_exporter": "python",
   "pygments_lexer": "ipython3",
   "version": "3.7.1"
  }
 },
 "nbformat": 4,
 "nbformat_minor": 2
}
