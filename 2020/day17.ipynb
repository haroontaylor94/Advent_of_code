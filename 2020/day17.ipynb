{
 "cells": [
  {
   "cell_type": "markdown",
   "metadata": {},
   "source": [
    "## Day 17\n",
    "#### Part 1"
   ]
  },
  {
   "cell_type": "code",
   "execution_count": 1,
   "metadata": {},
   "outputs": [],
   "source": [
    "import numpy as np"
   ]
  },
  {
   "cell_type": "code",
   "execution_count": 2,
   "metadata": {},
   "outputs": [],
   "source": [
    "# Read in data\n",
    "input_file = open('day17_input.txt', 'r')\n",
    "data = input_file.read()[:-1]\n",
    "\n",
    "# data=\"\"\".#.\n",
    "# ..#\n",
    "# ###\"\"\""
   ]
  },
  {
   "cell_type": "code",
   "execution_count": 3,
   "metadata": {},
   "outputs": [],
   "source": [
    "# Data wrangling\n",
    "data = data.split(\"\\n\")\n",
    "data = np.array([list(map(int, lst.replace('#', '1').replace('.', '0'))) for lst in data])\n",
    "data = data.astype('int')"
   ]
  },
  {
   "cell_type": "code",
   "execution_count": 4,
   "metadata": {},
   "outputs": [],
   "source": [
    "def count_active_adjacent(x, y, z, data):\n",
    "    return int(sum(sum(sum(data[x-1:x+2, y-1:y+2, z-1:z+2]))) - data[x, y, z]) \n",
    "\n",
    "def update_data(data, slice):\n",
    "    data_cpy = data.copy()\n",
    "    for x in np.arange(slice[0][0], slice[0][1]):\n",
    "        for y in np.arange(slice[1][0], slice[1][1]):\n",
    "            for z in np.arange(slice[2][0], slice[2][1]):\n",
    "                active_count = count_active_adjacent(x, y, z, data)\n",
    "                if data[x, y, z] == 1:  \n",
    "                    data_cpy[x, y, z] = int(active_count in [2, 3])\n",
    "                else:\n",
    "                    data_cpy[x, y, z] = int(active_count == 3)\n",
    "    slice = [[x[0] - 1, x[1] + 1] for x in slice]\n",
    "\n",
    "    return data_cpy, slice"
   ]
  },
  {
   "cell_type": "code",
   "execution_count": 5,
   "metadata": {},
   "outputs": [
    {
     "name": "stdout",
     "output_type": "stream",
     "text": [
      "209\n"
     ]
    }
   ],
   "source": [
    "cycles = 6\n",
    "size = cycles + 1\n",
    "dims = data.shape\n",
    "pocket_dim = np.zeros([dim + size * 2 for dim in [dims[0], dims[1], 1]])\n",
    "slice = [[size, size+dims[0]], [size, size+dims[1]], [size, size+1]]\n",
    "pocket_dim[slice[0][0]:slice[0][1], slice[1][0]:slice[1][1], slice[2][0]] = data\n",
    "slice = [[x[0] - 1, x[1] + 1] for x in slice]\n",
    "\n",
    "for cycle in np.arange(cycles):\n",
    "    pocket_dim, slice = update_data(pocket_dim, slice)\n",
    "\n",
    "print(int(sum(sum(sum(pocket_dim)))))"
   ]
  },
  {
   "cell_type": "markdown",
   "metadata": {},
   "source": [
    "#### Part 2"
   ]
  },
  {
   "cell_type": "code",
   "execution_count": 6,
   "metadata": {},
   "outputs": [],
   "source": [
    "def count_active_adjacent_4d(x, y, z, w, data):\n",
    "    return int(sum(sum(sum(sum(data[x-1:x+2, y-1:y+2, z-1:z+2, w-1:w+2])))) - data[x, y, z, w]) \n",
    "\n",
    "def update_data_4d(data, slice):\n",
    "    data_cpy = data.copy()\n",
    "    for x in np.arange(slice[0][0], slice[0][1]):\n",
    "        for y in np.arange(slice[1][0], slice[1][1]):\n",
    "            for z in np.arange(slice[2][0], slice[2][1]):\n",
    "                for w in np.arange(slice[3][0], slice[3][1]):\n",
    "                    active_count = count_active_adjacent_4d(x, y, z, w, data)\n",
    "                    if data[x, y, z, w] == 1:  \n",
    "                        data_cpy[x, y, z, w] = int(active_count in [2, 3])\n",
    "                    else:\n",
    "                        data_cpy[x, y, z, w] = int(active_count == 3)\n",
    "    slice = [[x[0] - 1, x[1] + 1] for x in slice]\n",
    "\n",
    "    return data_cpy, slice"
   ]
  },
  {
   "cell_type": "code",
   "execution_count": 7,
   "metadata": {},
   "outputs": [
    {
     "name": "stdout",
     "output_type": "stream",
     "text": [
      "1492\n"
     ]
    }
   ],
   "source": [
    "pocket_dim = np.zeros([dim + size * 2 for dim in [dims[0], dims[1], 1, 1]])\n",
    "slice = [[size, size+dims[0]], [size, size+dims[1]], [size, size+1], [size, size+1]]\n",
    "pocket_dim[slice[0][0]:slice[0][1], slice[1][0]:slice[1][1], slice[2][0], slice[2][0]] = data\n",
    "slice = [[x[0] - 1, x[1] + 1] for x in slice]\n",
    "\n",
    "for cycle in np.arange(cycles):\n",
    "    pocket_dim, slice = update_data_4d(pocket_dim, slice)\n",
    "\n",
    "print(int(sum(sum(sum(sum(pocket_dim))))))"
   ]
  }
 ],
 "metadata": {
  "kernelspec": {
   "display_name": "Python 3",
   "language": "python",
   "name": "python3"
  },
  "language_info": {
   "codemirror_mode": {
    "name": "ipython",
    "version": 3
   },
   "file_extension": ".py",
   "mimetype": "text/x-python",
   "name": "python",
   "nbconvert_exporter": "python",
   "pygments_lexer": "ipython3",
   "version": "3.7.1"
  }
 },
 "nbformat": 4,
 "nbformat_minor": 2
}
