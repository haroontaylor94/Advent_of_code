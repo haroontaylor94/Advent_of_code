{
 "cells": [
  {
   "cell_type": "markdown",
   "metadata": {},
   "source": [
    "## Day 8\n",
    "#### Part 1"
   ]
  },
  {
   "cell_type": "code",
   "execution_count": 1,
   "metadata": {},
   "outputs": [],
   "source": [
    "import re"
   ]
  },
  {
   "cell_type": "code",
   "execution_count": 2,
   "metadata": {},
   "outputs": [],
   "source": [
    "# Read in data\n",
    "input_file = open('day8_input.txt', 'r')\n",
    "data = input_file.read()[:-1]"
   ]
  },
  {
   "cell_type": "code",
   "execution_count": 3,
   "metadata": {},
   "outputs": [],
   "source": [
    "# Data wrangling\n",
    "data = data.split('\\n')"
   ]
  },
  {
   "cell_type": "code",
   "execution_count": 4,
   "metadata": {},
   "outputs": [],
   "source": [
    "def run_boot_code(data):\n",
    "    idxs = []\n",
    "    i = 0\n",
    "    acc = 0\n",
    "    while i not in idxs:\n",
    "        if i == len(data):\n",
    "            print('Success')\n",
    "            return acc, True\n",
    "        else:\n",
    "            line = data[i].split(' ')\n",
    "            idxs.append(i)\n",
    "            if line[0] == 'acc':\n",
    "                acc += int(line[1])\n",
    "                i += 1\n",
    "            elif line[0] == 'nop':\n",
    "                i += 1\n",
    "            elif line[0] == 'jmp':\n",
    "                i += int(line[1])\n",
    "\n",
    "    return acc, False"
   ]
  },
  {
   "cell_type": "code",
   "execution_count": 5,
   "metadata": {},
   "outputs": [
    {
     "data": {
      "text/plain": [
       "1744"
      ]
     },
     "execution_count": 5,
     "metadata": {},
     "output_type": "execute_result"
    }
   ],
   "source": [
    "run_boot_code(data)[0]"
   ]
  },
  {
   "cell_type": "markdown",
   "metadata": {},
   "source": [
    "#### Part 2"
   ]
  },
  {
   "cell_type": "code",
   "execution_count": 6,
   "metadata": {},
   "outputs": [
    {
     "name": "stdout",
     "output_type": "stream",
     "text": [
      "Success\n",
      "1174\n"
     ]
    }
   ],
   "source": [
    "nop_jmp_idx = [i for i, line in enumerate(data) if re.search('^[nop|jmp]', line)]\n",
    "for i in nop_jmp_idx:\n",
    "    data_copy = data.copy()\n",
    "    line = data_copy[i]\n",
    "    if line.startswith('nop'):\n",
    "        data_copy[i] = line.replace('nop', 'jmp')\n",
    "    elif line.startswith('jmp'):\n",
    "        data_copy[i] = line.replace('jmp', 'nop')\n",
    "    acc, success = run_boot_code(data_copy)\n",
    "    if success:\n",
    "        print(acc)\n",
    "        break"
   ]
  }
 ],
 "metadata": {
  "kernelspec": {
   "display_name": "Python 3",
   "language": "python",
   "name": "python3"
  },
  "language_info": {
   "codemirror_mode": {
    "name": "ipython",
    "version": 3
   },
   "file_extension": ".py",
   "mimetype": "text/x-python",
   "name": "python",
   "nbconvert_exporter": "python",
   "pygments_lexer": "ipython3",
   "version": "3.6.3"
  }
 },
 "nbformat": 4,
 "nbformat_minor": 4
}
