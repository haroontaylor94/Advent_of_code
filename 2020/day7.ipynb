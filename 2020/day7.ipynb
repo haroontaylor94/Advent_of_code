{
 "cells": [
  {
   "cell_type": "markdown",
   "metadata": {},
   "source": [
    "## Day 7\n",
    "#### Part 1"
   ]
  },
  {
   "cell_type": "code",
   "execution_count": 1,
   "metadata": {},
   "outputs": [],
   "source": [
    "# Read in data\n",
    "input_file = open('day7_input.txt', 'r')\n",
    "data = input_file.read()[:-2]"
   ]
  },
  {
   "cell_type": "code",
   "execution_count": 2,
   "metadata": {},
   "outputs": [],
   "source": [
    "# Data wrangling\n",
    "data = data.split('.\\n')\n",
    "# Split into key values\n",
    "data = [string.replace(' bags', '').replace(' bag', '').replace('no other', ' ') for string in data]\n",
    "data = dict(rule.split(' contain ') for rule in data)\n",
    "data = {key: value.split(', ') for key, value in data.items()}\n",
    "data = {key: dict(reversed(string.split(' ', 1)) for string in rule) for key, rule in data.items()}"
   ]
  },
  {
   "cell_type": "code",
   "execution_count": 3,
   "metadata": {},
   "outputs": [],
   "source": [
    "def find_parents(bags, data=data, all_parents=[]):\n",
    "    parents = []\n",
    "    for bag in bags:\n",
    "        for key, value in data.items():\n",
    "            if bag in value.keys():\n",
    "                parents.append(key)\n",
    "    all_parents.append(parents)\n",
    "    if parents == []:\n",
    "        return [parent for parents in all_parents for parent in parents]\n",
    "    else:\n",
    "        return find_parents(parents, data, all_parents)"
   ]
  },
  {
   "cell_type": "code",
   "execution_count": 4,
   "metadata": {},
   "outputs": [],
   "source": [
    "all_parents = find_parents(['shiny gold'], data, [])"
   ]
  },
  {
   "cell_type": "code",
   "execution_count": 5,
   "metadata": {},
   "outputs": [
    {
     "data": {
      "text/plain": [
       "192"
      ]
     },
     "execution_count": 5,
     "metadata": {},
     "output_type": "execute_result"
    }
   ],
   "source": [
    "len(set(all_parents))"
   ]
  },
  {
   "cell_type": "markdown",
   "metadata": {},
   "source": [
    "#### Part 2"
   ]
  },
  {
   "cell_type": "code",
   "execution_count": 6,
   "metadata": {},
   "outputs": [],
   "source": [
    "def find_n_children(bag):\n",
    "    total = 1\n",
    "    if data[bag] == {'': ''}:\n",
    "        return 1\n",
    "    for colour, n in data[bag].items():\n",
    "        total += int(n) * find_n_children(colour)\n",
    "    return total"
   ]
  },
  {
   "cell_type": "code",
   "execution_count": 7,
   "metadata": {},
   "outputs": [
    {
     "data": {
      "text/plain": [
       "12128"
      ]
     },
     "execution_count": 7,
     "metadata": {},
     "output_type": "execute_result"
    }
   ],
   "source": [
    "find_n_children('shiny gold') - 1"
   ]
  }
 ],
 "metadata": {
  "kernelspec": {
   "display_name": "Python 3",
   "language": "python",
   "name": "python3"
  },
  "language_info": {
   "codemirror_mode": {
    "name": "ipython",
    "version": 3
   },
   "file_extension": ".py",
   "mimetype": "text/x-python",
   "name": "python",
   "nbconvert_exporter": "python",
   "pygments_lexer": "ipython3",
   "version": "3.6.3"
  }
 },
 "nbformat": 4,
 "nbformat_minor": 4
}
