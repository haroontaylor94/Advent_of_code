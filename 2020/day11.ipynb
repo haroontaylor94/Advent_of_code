{
 "cells": [
  {
   "cell_type": "markdown",
   "metadata": {},
   "source": [
    "## Day 11\n",
    "#### Part 1"
   ]
  },
  {
   "cell_type": "code",
   "execution_count": 1,
   "metadata": {},
   "outputs": [],
   "source": [
    "import numpy as np"
   ]
  },
  {
   "cell_type": "code",
   "execution_count": 2,
   "metadata": {},
   "outputs": [],
   "source": [
    "# Read in data\n",
    "input_file = open('day11_input.txt', 'r')\n",
    "data = input_file.read()[:-1]"
   ]
  },
  {
   "cell_type": "code",
   "execution_count": 3,
   "metadata": {},
   "outputs": [],
   "source": [
    "# Data wrangling\n",
    "data = data.split(\"\\n\")\n",
    "data = np.array([list(map(int, lst.replace('L', '0').replace('.', '1'))) for lst in data])\n",
    "data = data.astype('float')\n",
    "data[data == 1] = np.nan"
   ]
  },
  {
   "cell_type": "code",
   "execution_count": 4,
   "metadata": {},
   "outputs": [],
   "source": [
    "def get_adjacent_indices(i, j, m, n):\n",
    "    adjacent_indices = []\n",
    "    if i > 0:\n",
    "        adjacent_indices.append((i-1,j))\n",
    "        if j > 0:\n",
    "            adjacent_indices.append((i-1,j-1))\n",
    "    if i+1 < m:\n",
    "        adjacent_indices.append((i+1,j))\n",
    "        if j+1 < n:\n",
    "            adjacent_indices.append((i+1,j+1))\n",
    "    if j > 0:\n",
    "        adjacent_indices.append((i,j-1))\n",
    "        if i+1 < m:\n",
    "            adjacent_indices.append((i+1,j-1))\n",
    "    if j+1 < n:\n",
    "        adjacent_indices.append((i,j+1))\n",
    "        if i > 0:\n",
    "            adjacent_indices.append((i-1,j+1))\n",
    "    return adjacent_indices\n",
    "\n",
    "\n",
    "def find_occupied_seats(i, j, data=data):\n",
    "    dims = data.shape\n",
    "    indices = get_adjacent_indices(i, j, dims[0], dims[1])\n",
    "    return np.nansum([data[x, y] for x, y in indices])\n",
    "\n",
    "\n",
    "def update_seats(data):\n",
    "    occupied_seat_sums = [find_occupied_seats(i, j, data) for i, j in np.ndindex(data.shape)]\n",
    "    for sum_occupied, (i, j) in zip(occupied_seat_sums, np.ndindex(data.shape)):\n",
    "        if data[i, j] == 0:\n",
    "            if sum_occupied == 0:\n",
    "                data[i, j] = 1\n",
    "        elif data[i, j] == 1:\n",
    "            if sum_occupied >= 4:\n",
    "                data[i, j] = 0\n",
    "    return data"
   ]
  },
  {
   "cell_type": "code",
   "execution_count": 5,
   "metadata": {},
   "outputs": [
    {
     "name": "stdout",
     "output_type": "stream",
     "text": [
      "Iteration 10\n",
      "Iteration 20\n",
      "Iteration 30\n",
      "Iteration 40\n",
      "Iteration 50\n",
      "Iteration 60\n",
      "Iteration 70\n",
      "\n",
      "Done\n",
      "\n",
      "2108\n"
     ]
    }
   ],
   "source": [
    "data_copy = data.copy()\n",
    "new_data = update_seats(data_copy.copy())\n",
    "iteration = 1\n",
    "while not np.array_equal(new_data, data_copy, equal_nan=True):\n",
    "    if iteration % 10 == 0:\n",
    "        print(f\"Iteration {iteration}\")\n",
    "    data_copy = new_data.copy()\n",
    "    new_data = update_seats(data_copy.copy())\n",
    "    iteration += 1\n",
    "\n",
    "print(\"\\nDone\\n\")\n",
    "print(int(np.nansum(new_data)))"
   ]
  },
  {
   "cell_type": "markdown",
   "metadata": {},
   "source": [
    "#### Part 2"
   ]
  },
  {
   "cell_type": "code",
   "execution_count": 6,
   "metadata": {},
   "outputs": [],
   "source": [
    "def get_first_non_nan(vec):\n",
    "    non_nan_vec = vec[~np.isnan(vec)]\n",
    "    if len(non_nan_vec) > 0:\n",
    "        return non_nan_vec[0]\n",
    "    else:\n",
    "        return np.nan\n",
    "\n",
    "\n",
    "def get_visible_seats_sum(i, j, data):\n",
    "    m, n = data.shape\n",
    "    visible_seats = []\n",
    "    if i > 0:\n",
    "        visible_seats.append(get_first_non_nan(np.flip(data[0:i, j])))\n",
    "        if j > 0:\n",
    "            visible_seats.append(get_first_non_nan(np.diagonal(np.fliplr(np.flipud(data[0:i, 0:j])))))\n",
    "    if i+1 < m:\n",
    "        visible_seats.append(get_first_non_nan(data[i+1:m, j]))\n",
    "        if j+1 < n:\n",
    "            visible_seats.append(get_first_non_nan(np.diagonal(data[i+1:m, j+1:n])))\n",
    "    if j > 0:\n",
    "        visible_seats.append(get_first_non_nan(np.flip(data[i, 0:j])))\n",
    "        if i+1 < m:\n",
    "            visible_seats.append(get_first_non_nan(np.diagonal(np.fliplr(data[i+1:m, 0:j]))))\n",
    "    if j+1 < n:\n",
    "        visible_seats.append(get_first_non_nan(data[i, j+1:n]))\n",
    "        if i > 0:\n",
    "            visible_seats.append(get_first_non_nan(np.diagonal(np.flipud(data[0:i, j+1:n]))))\n",
    "    return i, j, np.nansum(visible_seats)\n",
    "\n",
    "\n",
    "def update_seats_2(data):\n",
    "    occupied_seat_sums = [get_visible_seats_sum(i, j, data) for i, j in np.ndindex(data.shape) if data[i, j] != np.nan]\n",
    "    for i, j, sum_occupied in occupied_seat_sums:\n",
    "        if data[i, j] == 0:\n",
    "            if sum_occupied == 0:\n",
    "                data[i, j] = 1\n",
    "        elif data[i, j] == 1:\n",
    "            if sum_occupied >= 5:\n",
    "                data[i, j] = 0\n",
    "    \n",
    "    return data"
   ]
  },
  {
   "cell_type": "code",
   "execution_count": 7,
   "metadata": {},
   "outputs": [
    {
     "name": "stdout",
     "output_type": "stream",
     "text": [
      "Iteration 10\n",
      "Iteration 20\n",
      "Iteration 30\n",
      "Iteration 40\n",
      "Iteration 50\n",
      "Iteration 60\n",
      "Iteration 70\n",
      "Iteration 80\n",
      "\n",
      "Done\n",
      "\n",
      "1897\n"
     ]
    }
   ],
   "source": [
    "data_copy = data.copy()\n",
    "new_data = update_seats(data_copy.copy())\n",
    "iteration = 1\n",
    "while not np.array_equal(new_data, data_copy, equal_nan=True):\n",
    "    if iteration % 10 == 0:\n",
    "        print(f\"Iteration {iteration}\")\n",
    "    data_copy = new_data.copy()\n",
    "    new_data = update_seats_2(data_copy.copy())\n",
    "    iteration += 1\n",
    "\n",
    "print(\"\\nDone\\n\")\n",
    "print(int(np.nansum(new_data)))"
   ]
  }
 ],
 "metadata": {
  "kernelspec": {
   "display_name": "Python 3",
   "language": "python",
   "name": "python3"
  },
  "language_info": {
   "codemirror_mode": {
    "name": "ipython",
    "version": 3
   },
   "file_extension": ".py",
   "mimetype": "text/x-python",
   "name": "python",
   "nbconvert_exporter": "python",
   "pygments_lexer": "ipython3",
   "version": "3.6.3"
  }
 },
 "nbformat": 4,
 "nbformat_minor": 4
}
