{
 "cells": [
  {
   "cell_type": "markdown",
   "metadata": {},
   "source": [
    "## Day 2\n",
    "#### Part 1 + 2"
   ]
  },
  {
   "cell_type": "code",
   "execution_count": 1,
   "metadata": {},
   "outputs": [],
   "source": [
    "# Might make a password class later\n",
    "class Password():\n",
    "    \n",
    "    def __init__(self, name):\n",
    "        self.name = name        "
   ]
  },
  {
   "cell_type": "code",
   "execution_count": 2,
   "metadata": {},
   "outputs": [],
   "source": [
    "# Read in data\n",
    "input_file = open('day2_input.txt', 'r')\n",
    "data = input_file.read().split('\\n')[0:-1]"
   ]
  },
  {
   "cell_type": "code",
   "execution_count": 3,
   "metadata": {},
   "outputs": [],
   "source": [
    "# Functions to check conditions for part 1 and 2\n",
    "def check_condition1(condition, substring, string):\n",
    "    occurences = string.count(substring)\n",
    "    return int(condition[0]) <= occurences <= int(condition[1])\n",
    "\n",
    "\n",
    "def check_condition2(condition, substring, string):\n",
    "    count = 0\n",
    "    for i in condition:\n",
    "        if string[int(i) - 1] == substring:\n",
    "            count += 1\n",
    "    return count == 1"
   ]
  },
  {
   "cell_type": "code",
   "execution_count": 4,
   "metadata": {},
   "outputs": [
    {
     "name": "stdout",
     "output_type": "stream",
     "text": [
      "\n",
      "383 passwords pass condition 1\n",
      " \n",
      "272 passwords pass condition 2\n",
      "\n"
     ]
    }
   ],
   "source": [
    "# I just use counts here because I'm lazy\n",
    "count1 = 0\n",
    "count2 = 0\n",
    "for line in data:\n",
    "    pword_vec = line.split(' ')\n",
    "    pword_string = pword_vec[2]\n",
    "    pword_substring = pword_vec[1][:-1]\n",
    "    pword_condition = pword_vec[0].split('-')\n",
    "    if check_condition1(pword_condition, pword_substring, pword_string):\n",
    "        count1 += 1\n",
    "    if check_condition2(pword_condition, pword_substring, pword_string):\n",
    "        count2 += 1\n",
    "        \n",
    "print(f'\\n{count1} passwords pass condition 1\\n', \n",
    "      f'\\n{count2} passwords pass condition 2\\n')"
   ]
  }
 ],
 "metadata": {
  "kernelspec": {
   "display_name": "Python 3",
   "language": "python",
   "name": "python3"
  },
  "language_info": {
   "codemirror_mode": {
    "name": "ipython",
    "version": 3
   },
   "file_extension": ".py",
   "mimetype": "text/x-python",
   "name": "python",
   "nbconvert_exporter": "python",
   "pygments_lexer": "ipython3",
   "version": "3.6.3"
  }
 },
 "nbformat": 4,
 "nbformat_minor": 4
}
