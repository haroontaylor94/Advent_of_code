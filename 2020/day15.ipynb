{
 "cells": [
  {
   "cell_type": "markdown",
   "metadata": {},
   "source": [
    "## Day 15\n",
    "#### Part 1 & 2"
   ]
  },
  {
   "cell_type": "code",
   "execution_count": 1,
   "metadata": {},
   "outputs": [],
   "source": [
    "data = [9,19,1,6,0,5,4]\n",
    "data_dict = {n: i for i, n in enumerate(data)}"
   ]
  },
  {
   "cell_type": "code",
   "execution_count": 2,
   "metadata": {},
   "outputs": [
    {
     "name": "stdout",
     "output_type": "stream",
     "text": [
      "Part 1 answer: 1522\n",
      "Part 2 answer: 18234\n"
     ]
    }
   ],
   "source": [
    "i = len(data)\n",
    "x = 0\n",
    "\n",
    "while i < 30000000 - 1:\n",
    "    if i == 2020 - 1:\n",
    "        print(f'Part 1 answer: {y}')\n",
    "    if x in data_dict:\n",
    "        y = i - data_dict[x]\n",
    "    else:\n",
    "        y = 0\n",
    "    data_dict[x] = i\n",
    "    x = y\n",
    "    i += 1\n",
    "    \n",
    "print(f'Part 2 answer: {y}')"
   ]
  }
 ],
 "metadata": {
  "kernelspec": {
   "display_name": "Python 3",
   "language": "python",
   "name": "python3"
  },
  "language_info": {
   "codemirror_mode": {
    "name": "ipython",
    "version": 3
   },
   "file_extension": ".py",
   "mimetype": "text/x-python",
   "name": "python",
   "nbconvert_exporter": "python",
   "pygments_lexer": "ipython3",
   "version": "3.7.1"
  }
 },
 "nbformat": 4,
 "nbformat_minor": 2
}
