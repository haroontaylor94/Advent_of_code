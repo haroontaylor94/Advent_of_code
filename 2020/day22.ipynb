{
 "cells": [
  {
   "cell_type": "markdown",
   "metadata": {},
   "source": [
    "## Day 22\n",
    "#### Part 1"
   ]
  },
  {
   "cell_type": "code",
   "execution_count": 1,
   "metadata": {},
   "outputs": [],
   "source": [
    "import numpy as np"
   ]
  },
  {
   "cell_type": "code",
   "execution_count": 2,
   "metadata": {},
   "outputs": [],
   "source": [
    "# Read in data\n",
    "input_file = open('day22_input.txt', 'r')\n",
    "data = input_file.read()[:-1]"
   ]
  },
  {
   "cell_type": "code",
   "execution_count": 3,
   "metadata": {},
   "outputs": [],
   "source": [
    "# Data wrangling\n",
    "data = data.split(\"\\n\\n\")\n",
    "data = [player.split(\"\\n\") for player in data]\n",
    "p1 = [int(card) for card in data[0][1:]]\n",
    "p2 = [int(card) for card in data[1][1:]]"
   ]
  },
  {
   "cell_type": "code",
   "execution_count": 4,
   "metadata": {},
   "outputs": [],
   "source": [
    "def play_round(p1, p2):\n",
    "    if p1[0] > p2[0]:\n",
    "        p1 = p1[1:] + [p1[0], p2[0]]\n",
    "        p2 = p2[1:]\n",
    "    else:\n",
    "        p2 = p2[1:] + [p2[0], p1[0]]\n",
    "        p1 = p1[1:]\n",
    "        \n",
    "    return p1, p2"
   ]
  },
  {
   "cell_type": "code",
   "execution_count": 5,
   "metadata": {},
   "outputs": [
    {
     "name": "stdout",
     "output_type": "stream",
     "text": [
      "32448\n"
     ]
    }
   ],
   "source": [
    "while len(p1) > 0 and len(p2) > 0:\n",
    "    p1, p2 = play_round(p1, p2)\n",
    "\n",
    "if len(p1) > 0:\n",
    "    print(sum(np.multiply(p1, np.arange(len(p1), 0, -1))))\n",
    "else:\n",
    "    print(sum(np.multiply(p2, np.arange(len(p2), 0, -1))))"
   ]
  },
  {
   "cell_type": "markdown",
   "metadata": {},
   "source": [
    "#### Part 2"
   ]
  },
  {
   "cell_type": "code",
   "execution_count": 6,
   "metadata": {},
   "outputs": [],
   "source": [
    "p1 = [int(card) for card in data[0][1:]]\n",
    "p2 = [int(card) for card in data[1][1:]]"
   ]
  },
  {
   "cell_type": "code",
   "execution_count": 7,
   "metadata": {},
   "outputs": [],
   "source": [
    "def recursive_combat(p1, p2):\n",
    "    states = []\n",
    "    while len(p1) > 0 and len(p2) > 0:\n",
    "        state = [p1, p2]\n",
    "        if any([state == old_state for old_state in states]):\n",
    "            return p1, p2, True\n",
    "        elif p1[0] < len(p1) and p2[0] < len(p2):\n",
    "            sub_p1, sub_p2, infinite = recursive_combat(p1[1:1+p1[0]], p2[1:1+p2[0]])\n",
    "            if len(sub_p1) > 0 or infinite:\n",
    "                p1 = p1[1:] + [p1[0], p2[0]]\n",
    "                p2 = p2[1:]\n",
    "            else:\n",
    "                p2 = p2[1:] + [p2[0], p1[0]]\n",
    "                p1 = p1[1:]\n",
    "        else:\n",
    "            p1, p2 = play_round(p1, p2)\n",
    "            \n",
    "        states.append(state)\n",
    "            \n",
    "    return p1, p2, None"
   ]
  },
  {
   "cell_type": "code",
   "execution_count": 8,
   "metadata": {},
   "outputs": [
    {
     "name": "stdout",
     "output_type": "stream",
     "text": [
      "32949\n"
     ]
    }
   ],
   "source": [
    "p1, p2, infinite = recursive_combat(p1, p2)\n",
    "\n",
    "if len(p1) > 0:\n",
    "    print(sum(np.multiply(p1, np.arange(len(p1), 0, -1))))\n",
    "else:\n",
    "    print(sum(np.multiply(p2, np.arange(len(p2), 0, -1))))"
   ]
  }
 ],
 "metadata": {
  "kernelspec": {
   "display_name": "Python 3",
   "language": "python",
   "name": "python3"
  },
  "language_info": {
   "codemirror_mode": {
    "name": "ipython",
    "version": 3
   },
   "file_extension": ".py",
   "mimetype": "text/x-python",
   "name": "python",
   "nbconvert_exporter": "python",
   "pygments_lexer": "ipython3",
   "version": "3.7.1"
  }
 },
 "nbformat": 4,
 "nbformat_minor": 2
}
