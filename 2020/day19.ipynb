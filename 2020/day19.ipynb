{
 "cells": [
  {
   "cell_type": "markdown",
   "metadata": {},
   "source": [
    "## Day 19\n",
    "#### Part 1"
   ]
  },
  {
   "cell_type": "code",
   "execution_count": 1,
   "metadata": {},
   "outputs": [],
   "source": [
    "import re"
   ]
  },
  {
   "cell_type": "code",
   "execution_count": 2,
   "metadata": {},
   "outputs": [],
   "source": [
    "# Read in data\n",
    "input_file = open('day19_input.txt', 'r')\n",
    "data = input_file.read()[:-1]"
   ]
  },
  {
   "cell_type": "code",
   "execution_count": 3,
   "metadata": {},
   "outputs": [],
   "source": [
    "# Data wrangling\n",
    "data = data.split(\"\\n\\n\")\n",
    "rules = data[0].split(\"\\n\")\n",
    "rules = {int(k): v for k, v in [rule.split(\": \") for rule in rules]}\n",
    "messages = data[1].split(\"\\n\")"
   ]
  },
  {
   "cell_type": "code",
   "execution_count": 4,
   "metadata": {},
   "outputs": [],
   "source": [
    "def flatten(container):\n",
    "    for i in container:\n",
    "        if isinstance(i, (list,tuple)):\n",
    "            for j in flatten(i):\n",
    "                yield j\n",
    "        else:\n",
    "            yield i\n",
    "\n",
    "\n",
    "def get_children(rule, options=[\"\"]):\n",
    "    children = rules[rule]\n",
    "    if children == '\"a\"':\n",
    "        options = [x + 'a' for x in list(flatten(options))]\n",
    "    elif children == '\"b\"':\n",
    "        options = [x + 'b' for x in list(flatten(options))]\n",
    "    elif \"|\" in children:\n",
    "        children_or = children.split(\" | \")\n",
    "        options = [options, options]\n",
    "        for i, children in enumerate(children_or):\n",
    "            for child in children.split(\" \"):\n",
    "                options[i] = get_children(int(child), options[i])\n",
    "    else:\n",
    "        for child in children.split(\" \"):\n",
    "            options = get_children(int(child), options)\n",
    "                \n",
    "    return list(flatten(options))"
   ]
  },
  {
   "cell_type": "code",
   "execution_count": 5,
   "metadata": {},
   "outputs": [
    {
     "data": {
      "text/plain": [
       "213"
      ]
     },
     "execution_count": 5,
     "metadata": {},
     "output_type": "execute_result"
    }
   ],
   "source": [
    "# I originally just use get_children(0) here but I changed it after doing part 2 to make this run a bit faster\n",
    "options_42 = get_children(42)\n",
    "regex_42 = \"|\".join(options_42)\n",
    "options_31 = get_children(31)\n",
    "regex_31 = \"|\".join(options_31)\n",
    "\n",
    "regex = \"^(\"+ regex_42 + \")\" + \"(\" + regex_42 + \")\" + \"(\" + regex_31 + \")$\"\n",
    "sum([bool(re.search(regex, message)) for message in messages])"
   ]
  },
  {
   "cell_type": "markdown",
   "metadata": {},
   "source": [
    "#### Part 2"
   ]
  },
  {
   "cell_type": "code",
   "execution_count": 6,
   "metadata": {},
   "outputs": [
    {
     "name": "stdout",
     "output_type": "stream",
     "text": [
      "Rule 8: 42 | 42 8\n",
      "Rule 11: 42 31 | 42 11 31\n"
     ]
    }
   ],
   "source": [
    "print(\"Rule 8: 42 | 42 8\")\n",
    "print(\"Rule 11: 42 31 | 42 11 31\")"
   ]
  },
  {
   "cell_type": "code",
   "execution_count": 7,
   "metadata": {},
   "outputs": [
    {
     "name": "stdout",
     "output_type": "stream",
     "text": [
      "325\n"
     ]
    }
   ],
   "source": [
    "# In the new set of rules rule 0: 8 11 can match any number of rule 42 followed by rule 31 \n",
    "# as long as there are more rule 42 pattern matches than rule 31 \n",
    "\n",
    "# At least two rule 42 matches followed by any number of rule 31 matches\n",
    "regex = \"^(\"+ regex_42 + \"){2,}\" + \"(\" + regex_31 + \")+$\"\n",
    "\n",
    "count = 0\n",
    "for message in messages:\n",
    "    # Find matches\n",
    "    reg = re.match(regex, message)\n",
    "    if reg:\n",
    "        # Check that the end of the rule 42 matches is greater than halfway through the message\n",
    "        # As this means there will be more rule 42 matches than rule 31 matches\n",
    "        count += reg.span(1)[1] > len(message)/2\n",
    "\n",
    "print(count)"
   ]
  }
 ],
 "metadata": {
  "kernelspec": {
   "display_name": "Python 3",
   "language": "python",
   "name": "python3"
  },
  "language_info": {
   "codemirror_mode": {
    "name": "ipython",
    "version": 3
   },
   "file_extension": ".py",
   "mimetype": "text/x-python",
   "name": "python",
   "nbconvert_exporter": "python",
   "pygments_lexer": "ipython3",
   "version": "3.7.1"
  }
 },
 "nbformat": 4,
 "nbformat_minor": 2
}
