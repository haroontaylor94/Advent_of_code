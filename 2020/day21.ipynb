{
 "cells": [
  {
   "cell_type": "markdown",
   "metadata": {},
   "source": [
    "## Day 21\n",
    "#### Part 1"
   ]
  },
  {
   "cell_type": "code",
   "execution_count": 1,
   "metadata": {},
   "outputs": [],
   "source": [
    "# Read in data\n",
    "input_file = open('day21_input.txt', 'r')\n",
    "data = input_file.read()[:-1]"
   ]
  },
  {
   "cell_type": "code",
   "execution_count": 2,
   "metadata": {},
   "outputs": [],
   "source": [
    "# Data wrangling\n",
    "data = data.split(\"\\n\")\n",
    "data = [line.split(' (contains ') for line in data]\n",
    "data = [[line[0], line[1][:-1]] for line in data]"
   ]
  },
  {
   "cell_type": "code",
   "execution_count": 3,
   "metadata": {},
   "outputs": [],
   "source": [
    "allergen_dict = {}\n",
    "for line in data:\n",
    "    ingredients = line[0].split(' ')\n",
    "    for allergen in line[1].split(', '):\n",
    "        if allergen in allergen_dict:\n",
    "            allergen_dict[allergen] = set([i for i in ingredients if i in allergen_dict[allergen]])\n",
    "        else:\n",
    "            allergen_dict[allergen] = set([i for i in ingredients])\n",
    "        \n",
    "    \n",
    "all_allergen_ingredients = set.union(*allergen_dict.values())"
   ]
  },
  {
   "cell_type": "code",
   "execution_count": 4,
   "metadata": {},
   "outputs": [
    {
     "name": "stdout",
     "output_type": "stream",
     "text": [
      "2485\n"
     ]
    }
   ],
   "source": [
    "count = 0\n",
    "for line in data:\n",
    "    count += len(set(line[0].split(' ')).difference(all_allergen_ingredients))\n",
    "\n",
    "print(count)"
   ]
  },
  {
   "cell_type": "markdown",
   "metadata": {},
   "source": [
    "#### Part 2"
   ]
  },
  {
   "cell_type": "code",
   "execution_count": 5,
   "metadata": {},
   "outputs": [
    {
     "name": "stdout",
     "output_type": "stream",
     "text": [
      "bqkndvb,zmb,bmrmhm,snhrpv,vflms,bqtvr,qzkjrtl,rkkrx\n"
     ]
    }
   ],
   "source": [
    "while any(len(ingredients) > 1 for ingredients in allergen_dict.values()):\n",
    "    new_allergen_dict = {k: v for k, v in allergen_dict.items() if len(v) == 1}\n",
    "    for allergen, ingredients in allergen_dict.items():\n",
    "        if len(ingredients) > 1:\n",
    "            for i in set.union(*new_allergen_dict.values()):\n",
    "                if i in ingredients:\n",
    "                    allergen_dict[allergen].remove(i)\n",
    "                    \n",
    "ordered_allergens = sorted([allergen for allergen in allergen_dict.keys()])\n",
    "\n",
    "print(','.join(list(allergen_dict[allergen])[0] for allergen in ordered_allergens))"
   ]
  }
 ],
 "metadata": {
  "kernelspec": {
   "display_name": "Python 3",
   "language": "python",
   "name": "python3"
  },
  "language_info": {
   "codemirror_mode": {
    "name": "ipython",
    "version": 3
   },
   "file_extension": ".py",
   "mimetype": "text/x-python",
   "name": "python",
   "nbconvert_exporter": "python",
   "pygments_lexer": "ipython3",
   "version": "3.7.1"
  }
 },
 "nbformat": 4,
 "nbformat_minor": 2
}
