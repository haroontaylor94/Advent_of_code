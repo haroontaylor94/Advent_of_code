{
 "cells": [
  {
   "cell_type": "markdown",
   "metadata": {},
   "source": [
    "## Day 14\n",
    "#### Part 1"
   ]
  },
  {
   "cell_type": "code",
   "execution_count": 1,
   "metadata": {},
   "outputs": [],
   "source": [
    "import re\n",
    "from itertools import product"
   ]
  },
  {
   "cell_type": "code",
   "execution_count": 2,
   "metadata": {},
   "outputs": [],
   "source": [
    "# Read in data\n",
    "input_file = open('day14_input.txt', 'r')\n",
    "data = input_file.read()[:-1]"
   ]
  },
  {
   "cell_type": "code",
   "execution_count": 3,
   "metadata": {},
   "outputs": [],
   "source": [
    "# Data wrangling\n",
    "data = data.split(\"\\n\")"
   ]
  },
  {
   "cell_type": "code",
   "execution_count": 4,
   "metadata": {},
   "outputs": [
    {
     "data": {
      "text/plain": [
       "11612740949946"
      ]
     },
     "execution_count": 4,
     "metadata": {},
     "output_type": "execute_result"
    }
   ],
   "source": [
    "mem_dict = {}\n",
    "mask = ''\n",
    "for line in data:\n",
    "    if line.startswith('mask'):\n",
    "        mask = line.split(' = ')[1]\n",
    "    else:\n",
    "        mem, value = line.split(' = ')\n",
    "        bin_value = bin(int(value))[2:].zfill(36)\n",
    "        idx = int(re.search('(\\d+)', mem).group(1))\n",
    "        masked_value = ''.join([mask[i] if mask[i] != 'X' else bin_value[i] for i in range(0, 36)])\n",
    "        mem_dict[idx] = int(masked_value, 2)\n",
    "        \n",
    "sum(mem_dict.values())"
   ]
  },
  {
   "cell_type": "markdown",
   "metadata": {},
   "source": [
    "#### Part 2"
   ]
  },
  {
   "cell_type": "code",
   "execution_count": 5,
   "metadata": {},
   "outputs": [
    {
     "name": "stdout",
     "output_type": "stream",
     "text": [
      "3394509207186\n"
     ]
    }
   ],
   "source": [
    "mem_dict = {}\n",
    "mask = ''\n",
    "for line in data:\n",
    "    if line.startswith('mask'):\n",
    "        mask = line.split(' = ')[1]\n",
    "    else:\n",
    "        mem, value = line.split(' = ')\n",
    "        idx = int(re.search('(\\d+)', mem).group(1))\n",
    "        bin_value = bin(int(idx))[2:].zfill(36)\n",
    "        masked_value = ''.join([mask[i] if mask[i] != '0' else bin_value[i] for i in range(0, 36)])\n",
    "        replacement_lst = list(product([0, 1], repeat=masked_value.count('X')))\n",
    "        for i, lst in enumerate(replacement_lst):\n",
    "            masked_value_cpy = masked_value\n",
    "            for char in lst:\n",
    "                masked_value_cpy = masked_value_cpy.replace('X', str(char), 1)\n",
    "            mem_dict[int(masked_value_cpy, 2)] = int(value)\n",
    "            \n",
    "print(sum(mem_dict.values()))"
   ]
  }
 ],
 "metadata": {
  "kernelspec": {
   "display_name": "Python 3",
   "language": "python",
   "name": "python3"
  },
  "language_info": {
   "codemirror_mode": {
    "name": "ipython",
    "version": 3
   },
   "file_extension": ".py",
   "mimetype": "text/x-python",
   "name": "python",
   "nbconvert_exporter": "python",
   "pygments_lexer": "ipython3",
   "version": "3.6.3"
  }
 },
 "nbformat": 4,
 "nbformat_minor": 4
}
