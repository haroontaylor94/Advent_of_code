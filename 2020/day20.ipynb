{
 "cells": [
  {
   "cell_type": "markdown",
   "metadata": {},
   "source": [
    "## Day 20\n",
    "#### Part 1"
   ]
  },
  {
   "cell_type": "code",
   "execution_count": 1,
   "metadata": {},
   "outputs": [],
   "source": [
    "import numpy as np"
   ]
  },
  {
   "cell_type": "code",
   "execution_count": 2,
   "metadata": {},
   "outputs": [],
   "source": [
    "# Read in data\n",
    "input_file = open('day20_input.txt', 'r')\n",
    "data = input_file.read()[:-2]"
   ]
  },
  {
   "cell_type": "code",
   "execution_count": 3,
   "metadata": {},
   "outputs": [],
   "source": [
    "# Data wrangling\n",
    "data = data.split(\"\\n\\n\")\n",
    "data = [tile.split(\"\\n\") for tile in data]\n",
    "data = {int(tile[0][5:9]): tile[1:] for tile in data}\n",
    "data = {k: np.array([list(line) for line in v]) for k, v in data.items()}"
   ]
  },
  {
   "cell_type": "code",
   "execution_count": 4,
   "metadata": {},
   "outputs": [],
   "source": [
    "def get_tile_flips(arr):\n",
    "    rotated = [arr, np.rot90(arr, 1), np.rot90(arr, 2), np.rot90(arr, 3)]\n",
    "    flipped = [np.fliplr(arr) for arr in rotated]\n",
    "    return rotated + flipped\n",
    "\n",
    "\n",
    "def get_borders(arr):\n",
    "    return np.array([arr[0, :], arr[:, 0], arr[len(arr)-1, :], arr[:, len(arr)-1]])\n",
    "\n",
    "\n",
    "def get_flipped_borders(arr):\n",
    "    all_borders = []\n",
    "    for tile in get_tile_flips(arr):\n",
    "        all_borders.extend(get_borders(tile))\n",
    "        \n",
    "    return(np.array(all_borders))"
   ]
  },
  {
   "cell_type": "code",
   "execution_count": 5,
   "metadata": {},
   "outputs": [],
   "source": [
    "borders = {k: get_borders(v) for k, v in data.items()}\n",
    "flipped_borders = {k: get_flipped_borders(v) for k, v in data.items()}"
   ]
  },
  {
   "cell_type": "code",
   "execution_count": 6,
   "metadata": {},
   "outputs": [],
   "source": [
    "matching_borders_dict = {}\n",
    "for tile, tile_borders in flipped_borders.items():\n",
    "    matching_borders = []\n",
    "    tmp_borders = borders.copy()\n",
    "    tmp_borders.pop(tile)\n",
    "    for other_tile, other_tile_borders in tmp_borders.items():\n",
    "        for border in tile_borders:\n",
    "            if any(np.array_equal(border, other_border) for other_border in other_tile_borders):\n",
    "                matching_borders.append(other_tile)\n",
    "    matching_borders_dict[tile] = list(set(matching_borders))"
   ]
  },
  {
   "cell_type": "code",
   "execution_count": 7,
   "metadata": {},
   "outputs": [
    {
     "name": "stdout",
     "output_type": "stream",
     "text": [
      "111936085519519\n"
     ]
    }
   ],
   "source": [
    "part1_ans = 1\n",
    "for tile, matches in matching_borders_dict.items():\n",
    "    if len(matches) == 2:\n",
    "        part1_ans *= tile\n",
    "        \n",
    "print(part1_ans)"
   ]
  },
  {
   "cell_type": "markdown",
   "metadata": {},
   "source": [
    "#### Part 2"
   ]
  },
  {
   "cell_type": "code",
   "execution_count": 8,
   "metadata": {},
   "outputs": [],
   "source": [
    "# Get tile map\n",
    "s = int(np.sqrt(len(data.keys())))\n",
    "tile_map = np.zeros((s, s)).astype(int)\n",
    "tile_map[0, 0] = 2797\n",
    "tile_map[1, 0] = 1291\n",
    "tile_map[0, 1] = 2719\n",
    "i = 0\n",
    "j = 1\n",
    "tile = 2719\n",
    "used_tiles = [2797, 1291, 2719]\n",
    "for j in range(1,11):\n",
    "    connections = [x for x in matching_borders_dict[tile] if x not in used_tiles]\n",
    "    for connection in connections:\n",
    "        if len(matching_borders_dict[connection]) in [2, 3]:\n",
    "            tile_map[i, j+1] = connection\n",
    "            used_tiles.append(connection)\n",
    "            tile = connection            \n",
    "        else:\n",
    "            tile_map[i+1, j] = connection\n",
    "            used_tiles.append(connection)\n",
    "\n",
    "connection = [x for x in matching_borders_dict[tile] if x not in used_tiles][0]\n",
    "tile_map[1,11] = connection\n",
    "used_tiles.append(connection)\n",
    "\n",
    "for i in range(1,11):\n",
    "    for j in range(12):\n",
    "        tile = tile_map[i, j]\n",
    "        connection = [x for x in matching_borders_dict[tile] if x not in used_tiles][0]\n",
    "        tile_map[i+1, j] = connection\n",
    "        used_tiles.append(connection)"
   ]
  },
  {
   "cell_type": "code",
   "execution_count": 9,
   "metadata": {},
   "outputs": [],
   "source": [
    "def orient_tile(tile, top=None, left=None, right=None, bottom=None):\n",
    "    tile_flips = get_tile_flips(data[tile])\n",
    "    if top:     \n",
    "        tile_flips = [tile_flip for tile_flip in tile_flips\n",
    "                      if any(map(lambda x: np.array_equal(tile_flip[0, :], x), get_flipped_borders(data[top])))]\n",
    "    if left:\n",
    "        tile_flips = [tile_flip for tile_flip in tile_flips\n",
    "                      if any(map(lambda x: np.array_equal(tile_flip[:, 0], x), get_flipped_borders(data[left])))]\n",
    "    if right:\n",
    "        tile_flips = [tile_flip for tile_flip in tile_flips\n",
    "                      if any(map(lambda x: np.array_equal(tile_flip[:, 9], x), get_flipped_borders(data[right])))]\n",
    "    if bottom:\n",
    "        tile_flips = [tile_flip for tile_flip in tile_flips\n",
    "                      if any(map(lambda x: np.array_equal(tile_flip[9, :], x), get_flipped_borders(data[bottom])))]\n",
    "        \n",
    "    return tile_flips"
   ]
  },
  {
   "cell_type": "code",
   "execution_count": 10,
   "metadata": {},
   "outputs": [],
   "source": [
    "n = 8\n",
    "image = np.full((s * n, s * n), '0')\n",
    "for i in range(12):\n",
    "    for j in range(12):\n",
    "        tile = tile_map[i, j]\n",
    "        if i == 0:\n",
    "            top = None\n",
    "            bottom = tile_map[i+1, j]\n",
    "        elif i == 11:\n",
    "            top = tile_map[i-1, j]\n",
    "            bottom = None\n",
    "        else:\n",
    "            top = tile_map[i-1, j]\n",
    "            bottom = tile_map[i+1, j]\n",
    "        if j == 0:\n",
    "            left = None\n",
    "            right = tile_map[i, j+1]\n",
    "        elif j == 11:\n",
    "            left = tile_map[i, j-1]\n",
    "            right = None\n",
    "        else:\n",
    "            left = tile_map[i, j-1]\n",
    "            right = tile_map[i, j+1]\n",
    "        image[i*n:(i+1)*n,j*n:(j+1)*n] = orient_tile(tile, top, left, right, bottom)[0][1:9, 1:9]"
   ]
  },
  {
   "cell_type": "code",
   "execution_count": 11,
   "metadata": {},
   "outputs": [],
   "source": [
    "sea_monster =  [\n",
    "\"                  # \", \n",
    "\"#    ##    ##    ###\",\n",
    "\" #  #  #  #  #  #   \"\n",
    "]\n",
    "\n",
    "sea_monster = np.array([np.array(list(line)) for line in sea_monster])\n",
    "sea_monster_coords = np.where(sea_monster)\n",
    "sea_monster_coords = list(zip(sea_monster_coords[0], sea_monster_coords[1]))"
   ]
  },
  {
   "cell_type": "code",
   "execution_count": 12,
   "metadata": {},
   "outputs": [
    {
     "name": "stdout",
     "output_type": "stream",
     "text": [
      "1792\n"
     ]
    }
   ],
   "source": [
    "images = get_tile_flips(image)\n",
    "\n",
    "for image in images:\n",
    "    n_sea_monster = 0\n",
    "    for row in np.arange(len(image) - 3):\n",
    "        for col in range(len(image) - 20):\n",
    "            if all([image[x[0]+row, x[1]+col] == '#' for x in sea_monster_coords]):\n",
    "                n_sea_monster += 1\n",
    "    if n_sea_monster > 0:\n",
    "        total = np.count_nonzero(image == '#') - (len(sea_monster_coords) * n_sea_monster)\n",
    "        print(total)"
   ]
  }
 ],
 "metadata": {
  "kernelspec": {
   "display_name": "Python 3",
   "language": "python",
   "name": "python3"
  },
  "language_info": {
   "codemirror_mode": {
    "name": "ipython",
    "version": 3
   },
   "file_extension": ".py",
   "mimetype": "text/x-python",
   "name": "python",
   "nbconvert_exporter": "python",
   "pygments_lexer": "ipython3",
   "version": "3.7.1"
  }
 },
 "nbformat": 4,
 "nbformat_minor": 2
}
