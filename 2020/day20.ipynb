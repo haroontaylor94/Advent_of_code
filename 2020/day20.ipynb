{
 "cells": [
  {
   "cell_type": "markdown",
   "metadata": {},
   "source": [
    "## Day 20\n",
    "#### Part 1"
   ]
  },
  {
   "cell_type": "code",
   "execution_count": 1,
   "metadata": {},
   "outputs": [],
   "source": [
    "import numpy as np"
   ]
  },
  {
   "cell_type": "code",
   "execution_count": 2,
   "metadata": {},
   "outputs": [],
   "source": [
    "# Read in data\n",
    "input_file = open('day20_input.txt', 'r')\n",
    "data = input_file.read()[:-2]"
   ]
  },
  {
   "cell_type": "code",
   "execution_count": 3,
   "metadata": {},
   "outputs": [],
   "source": [
    "# Data wrangling\n",
    "data = data.split(\"\\n\\n\")\n",
    "data = [tile.split(\"\\n\") for tile in data]\n",
    "data = {int(tile[0][5:9]): tile[1:] for tile in data}\n",
    "data = {k: np.array([list(line) for line in v]) for k, v in data.items()}"
   ]
  },
  {
   "cell_type": "code",
   "execution_count": 4,
   "metadata": {},
   "outputs": [],
   "source": [
    "def get_tile_flips(arr):\n",
    "    return [arr, np.fliplr(arr), np.flipud(arr), np.fliplr(np.flipud(arr))]\n",
    "\n",
    "\n",
    "def get_borders(arr):\n",
    "    return np.array([arr[0, :], arr[:, 0], arr[len(arr)-1, :], arr[:, len(arr)-1]])\n",
    "\n",
    "\n",
    "def get_flipped_borders(arr):\n",
    "    all_borders = []\n",
    "    for tile in get_tile_flips(arr):\n",
    "        all_borders.extend(get_borders(tile))\n",
    "        \n",
    "    return(np.array(all_borders))"
   ]
  },
  {
   "cell_type": "code",
   "execution_count": 5,
   "metadata": {},
   "outputs": [],
   "source": [
    "borders = {k: get_flipped_borders(v) for k, v in data.items()}"
   ]
  },
  {
   "cell_type": "code",
   "execution_count": 6,
   "metadata": {},
   "outputs": [],
   "source": [
    "matching_borders_counts = {}\n",
    "for tile, tile_borders in borders.items():\n",
    "    matching_borders_count = 0\n",
    "    tmp_borders = borders.copy()\n",
    "    tmp_borders.pop(tile)\n",
    "    for border in tile_borders:\n",
    "        matching_borders_count += any([np.array_equal(border, other_border) \n",
    "                                       for other_borders in tmp_borders.values() \n",
    "                                       for other_border in other_borders]) \n",
    "    matching_borders_counts[tile] = matching_borders_count"
   ]
  },
  {
   "cell_type": "code",
   "execution_count": 7,
   "metadata": {},
   "outputs": [
    {
     "name": "stdout",
     "output_type": "stream",
     "text": [
      "111936085519519\n"
     ]
    }
   ],
   "source": [
    "part1_ans = 1\n",
    "for tile, count in matching_borders_counts.items():\n",
    "    if count == 8:\n",
    "        part1_ans *= tile\n",
    "        \n",
    "print(part1_ans)"
   ]
  },
  {
   "cell_type": "markdown",
   "metadata": {},
   "source": [
    "#### Part 2"
   ]
  },
  {
   "cell_type": "code",
   "execution_count": null,
   "metadata": {},
   "outputs": [],
   "source": []
  }
 ],
 "metadata": {
  "kernelspec": {
   "display_name": "Python 3",
   "language": "python",
   "name": "python3"
  },
  "language_info": {
   "codemirror_mode": {
    "name": "ipython",
    "version": 3
   },
   "file_extension": ".py",
   "mimetype": "text/x-python",
   "name": "python",
   "nbconvert_exporter": "python",
   "pygments_lexer": "ipython3",
   "version": "3.7.1"
  }
 },
 "nbformat": 4,
 "nbformat_minor": 2
}
