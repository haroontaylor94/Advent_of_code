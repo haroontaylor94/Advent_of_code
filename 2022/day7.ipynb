{
 "cells": [
  {
   "cell_type": "markdown",
   "metadata": {},
   "source": [
    "# Day 7"
   ]
  },
  {
   "cell_type": "code",
   "execution_count": null,
   "metadata": {},
   "outputs": [],
   "source": [
    "input_file = open('input_files/day7.txt', 'r')\n",
    "data = input_file.read().split('\\n')[:-1]"
   ]
  },
  {
   "cell_type": "markdown",
   "metadata": {},
   "source": [
    "## Part 1"
   ]
  },
  {
   "cell_type": "code",
   "execution_count": null,
   "metadata": {},
   "outputs": [],
   "source": [
    "# Get directory sizes not including subdirectories\n",
    "dir_sizes = {}\n",
    "cwd = ''\n",
    "for row in data:\n",
    "    if row.startswith('$ cd '):\n",
    "        folder = row.split('$ cd ')[1]\n",
    "        if folder == '/':\n",
    "            cwd = '/'\n",
    "        elif folder == '..':\n",
    "            cwd = '/'.join(cwd.split('/')[:-1])\n",
    "        else:\n",
    "            cwd = cwd + '/' + folder\n",
    "        if cwd not in dir_sizes.keys():\n",
    "            dir_sizes[cwd] = 0\n",
    "    if row[0].isdigit():\n",
    "        dir_sizes[cwd] += int(row.split(' ')[0])\n",
    "\n",
    "# Get directory sizes including subdirectories\n",
    "dir_full_sizes = {}\n",
    "for cwd in dir_sizes.keys():\n",
    "    dir_full_sizes[cwd] = sum([dir_sizes[folder] for folder in dir_sizes.keys() if cwd in folder])\n",
    "\n",
    "# Sum of all directories smaller than 100000\n",
    "print(f'Part 1: {sum([size for size in dir_full_sizes.values() if size <= 100000])}')"
   ]
  },
  {
   "cell_type": "markdown",
   "metadata": {},
   "source": [
    "## Part 2"
   ]
  },
  {
   "cell_type": "code",
   "execution_count": null,
   "metadata": {},
   "outputs": [],
   "source": [
    "available_space = 70000000 - 30000000\n",
    "total_size = dir_full_sizes['/']\n",
    "min_to_delete = total_size - available_space\n",
    "\n",
    "# Find size of directory greater than and closest to minimum space required to be deleted\n",
    "print(f'Part 2: {min([size for size in dir_full_sizes.values() if (size - min_to_delete) >= 0])}')"
   ]
  }
 ],
 "metadata": {
  "kernelspec": {
   "display_name": "Python 3",
   "language": "python",
   "name": "python3"
  },
  "language_info": {
   "codemirror_mode": {
    "name": "ipython",
    "version": 3
   },
   "file_extension": ".py",
   "mimetype": "text/x-python",
   "name": "python",
   "nbconvert_exporter": "python",
   "pygments_lexer": "ipython3",
   "version": "3.7.1"
  }
 },
 "nbformat": 4,
 "nbformat_minor": 2
}
