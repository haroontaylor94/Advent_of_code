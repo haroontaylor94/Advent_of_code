{
 "cells": [
  {
   "cell_type": "markdown",
   "metadata": {},
   "source": [
    "# Day 2"
   ]
  },
  {
   "cell_type": "code",
   "execution_count": null,
   "metadata": {},
   "outputs": [],
   "source": [
    "# Read in data\n",
    "input_file = open('input_files/day2.txt', 'r')\n",
    "data = [x.split(' ') for x in input_file.read().split('\\n')][:-1]"
   ]
  },
  {
   "cell_type": "markdown",
   "metadata": {},
   "source": [
    "## Part 1"
   ]
  },
  {
   "cell_type": "code",
   "execution_count": null,
   "metadata": {},
   "outputs": [],
   "source": [
    "convert = {'X': 'A', 'Y': 'B', 'Z': 'C'}\n",
    "wins = [['A', 'B'], ['B', 'C'], ['C', 'A']]\n",
    "scoring = {'A': 1, 'B': 2, 'C': 3}\n",
    "\n",
    "score = 0\n",
    "for game in data:\n",
    "    elf_choice = game[0]\n",
    "    my_choice = convert[game[1]]\n",
    "    score += scoring[my_choice]\n",
    "    if [elf_choice, my_choice] in wins:\n",
    "        score += 6\n",
    "    elif elf_choice == my_choice:\n",
    "        score += 3\n",
    "    \n",
    "print(score)"
   ]
  },
  {
   "cell_type": "markdown",
   "metadata": {},
   "source": [
    "# Part 2"
   ]
  },
  {
   "cell_type": "code",
   "execution_count": null,
   "metadata": {},
   "outputs": [],
   "source": [
    "choices = ['A', 'B', 'C']\n",
    "shift = {'X': 2, 'Y': 0, 'Z': 1}\n",
    "\n",
    "score = 0\n",
    "for game in data:\n",
    "    elf_choice = game[0]\n",
    "    my_choice = choices[(choices.index(game[0]) + shift[game[1]]) % 3]\n",
    "    score += scoring[my_choice]\n",
    "    if [elf_choice, my_choice] in wins:\n",
    "        score += 6\n",
    "    elif elf_choice == my_choice:\n",
    "        score += 3\n",
    "        \n",
    "print(score)"
   ]
  }
 ],
 "metadata": {
  "kernelspec": {
   "display_name": "Python 3",
   "language": "python",
   "name": "python3"
  },
  "language_info": {
   "codemirror_mode": {
    "name": "ipython",
    "version": 3
   },
   "file_extension": ".py",
   "mimetype": "text/x-python",
   "name": "python",
   "nbconvert_exporter": "python",
   "pygments_lexer": "ipython3",
   "version": "3.7.1"
  }
 },
 "nbformat": 4,
 "nbformat_minor": 2
}
