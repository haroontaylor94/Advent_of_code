{
 "cells": [
  {
   "cell_type": "markdown",
   "metadata": {},
   "source": [
    "# Day 5"
   ]
  },
  {
   "cell_type": "code",
   "execution_count": null,
   "metadata": {},
   "outputs": [],
   "source": [
    "import re\n",
    "import numpy as np"
   ]
  },
  {
   "cell_type": "code",
   "execution_count": null,
   "metadata": {},
   "outputs": [],
   "source": [
    "# Read in data\n",
    "input_file = open('input_files/day5.txt', 'r')\n",
    "stacks, instructions = [x.split('\\n')[:-1] for x in input_file.read().split('\\n\\n')]\n",
    "stacks = np.array([[y.strip() for y in re.findall('....', f'{stack} ')] for stack in stacks]).T.tolist()\n",
    "stacks = [[y for y in stack if y != ''] for stack in stacks]"
   ]
  },
  {
   "cell_type": "markdown",
   "metadata": {},
   "source": [
    "# Part 1 + 2"
   ]
  },
  {
   "cell_type": "code",
   "execution_count": null,
   "metadata": {},
   "outputs": [],
   "source": [
    "def update_stacks(instruction, stacks, part1=True):\n",
    "    n, from_stack, to_stack = [int(x) for x in re.findall('\\d+', instruction)]\n",
    "    stack_add = stacks[from_stack - 1][:n]\n",
    "    if part1:\n",
    "        stack_add.reverse()\n",
    "    stacks[to_stack - 1] = stack_add + stacks[to_stack - 1]\n",
    "    stacks[from_stack - 1] = stacks[from_stack - 1][n:]\n",
    "    return stacks"
   ]
  },
  {
   "cell_type": "code",
   "execution_count": null,
   "metadata": {},
   "outputs": [],
   "source": [
    "part1_stacks = stacks.copy()\n",
    "part2_stacks = stacks.copy()\n",
    "for instruction in instructions:\n",
    "    part1_stacks = update_stacks(instruction, part1_stacks)\n",
    "    part2_stacks = update_stacks(instruction, part2_stacks, part1=False)\n",
    "\n",
    "part1 = ''.join([re.findall('\\w', stack[0])[0] for stack in part1_stacks])\n",
    "part2 = ''.join([re.findall('\\w', stack[0])[0] for stack in part2_stacks])\n",
    "print(f'Part 1: {part1}\\nPart 2: {part2}')"
   ]
  }
 ],
 "metadata": {
  "kernelspec": {
   "display_name": "Python 3",
   "language": "python",
   "name": "python3"
  },
  "language_info": {
   "codemirror_mode": {
    "name": "ipython",
    "version": 3
   },
   "file_extension": ".py",
   "mimetype": "text/x-python",
   "name": "python",
   "nbconvert_exporter": "python",
   "pygments_lexer": "ipython3",
   "version": "3.7.1"
  }
 },
 "nbformat": 4,
 "nbformat_minor": 2
}
