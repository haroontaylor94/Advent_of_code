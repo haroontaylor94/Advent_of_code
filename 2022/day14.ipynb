{
 "cells": [
  {
   "cell_type": "markdown",
   "metadata": {},
   "source": [
    "# Day 14"
   ]
  },
  {
   "cell_type": "code",
   "execution_count": null,
   "metadata": {},
   "outputs": [],
   "source": [
    "import numpy as np\n",
    "import copy"
   ]
  },
  {
   "cell_type": "code",
   "execution_count": null,
   "metadata": {},
   "outputs": [],
   "source": [
    "input_file = open('input_files/day14.txt', 'r')\n",
    "data = input_file.read().split('\\n')"
   ]
  },
  {
   "cell_type": "code",
   "execution_count": null,
   "metadata": {},
   "outputs": [],
   "source": [
    "all_wall_coords = []\n",
    "for wall_coords in data:\n",
    "    wall_coords = [wall.split(',') for wall in wall_coords.split(' -> ')]\n",
    "    for i in range(len(wall_coords) - 1):\n",
    "        start = [int(x) for x in wall_coords[i]]\n",
    "        end = [int(x) for x in wall_coords[i+1]]\n",
    "        if start[0] != end[0]:\n",
    "            for coord in np.linspace(start[0], end[0], abs(start[0]-end[0])+1):\n",
    "                all_wall_coords.append((int(coord), start[1]))\n",
    "        else:\n",
    "            for coord in np.linspace(start[1], end[1], abs(start[1]-end[1])+1):\n",
    "                all_wall_coords.append((start[0], int(coord)))\n",
    "all_wall_coords = set(all_wall_coords)\n",
    "max_depth = max([x[1] for x in all_wall_coords])"
   ]
  },
  {
   "cell_type": "markdown",
   "metadata": {},
   "source": [
    "## Part 1"
   ]
  },
  {
   "cell_type": "code",
   "execution_count": null,
   "metadata": {},
   "outputs": [],
   "source": [
    "def drop_sand(all_wall_coords, max_depth):\n",
    "    wall_coords = copy.deepcopy(all_wall_coords)\n",
    "    sand = 0\n",
    "    sand_pos = [500, 0]\n",
    "    while sand_pos[1] < max_depth:     \n",
    "        if (sand_pos[0], sand_pos[1] + 1) not in wall_coords:\n",
    "            sand_pos[1] += 1\n",
    "        elif (sand_pos[0] - 1, sand_pos[1] + 1) not in wall_coords:\n",
    "            sand_pos[0] -= 1\n",
    "            sand_pos[1] += 1\n",
    "        elif (sand_pos[0] + 1, sand_pos[1] + 1) not in wall_coords:\n",
    "            sand_pos[0] += 1\n",
    "            sand_pos[1] += 1\n",
    "        else:\n",
    "            wall_coords.add(tuple(sand_pos))\n",
    "            sand_pos = [500, 0]\n",
    "            sand += 1\n",
    "    return sand"
   ]
  },
  {
   "cell_type": "code",
   "execution_count": null,
   "metadata": {},
   "outputs": [],
   "source": [
    "print(f'Part 1: {drop_sand(all_wall_coords, max_depth)}')"
   ]
  },
  {
   "cell_type": "markdown",
   "metadata": {},
   "source": [
    "## Part 2"
   ]
  },
  {
   "cell_type": "code",
   "execution_count": null,
   "metadata": {},
   "outputs": [],
   "source": [
    "def drop_sand2(all_wall_coords, max_depth):\n",
    "    wall_coords = copy.deepcopy(all_wall_coords)\n",
    "    sand = 0\n",
    "    sand_pos = [500, 0]\n",
    "    while (500, 0) not in wall_coords:\n",
    "        if sand_pos[1] + 1 == max_depth:\n",
    "            wall_coords.add(tuple(sand_pos))\n",
    "            sand_pos = [500, 0]\n",
    "            sand += 1\n",
    "        elif (sand_pos[0], sand_pos[1] + 1) not in wall_coords :\n",
    "            sand_pos[1] += 1\n",
    "        elif (sand_pos[0] - 1, sand_pos[1] + 1) not in wall_coords:\n",
    "            sand_pos[0] -= 1\n",
    "            sand_pos[1] += 1\n",
    "        elif (sand_pos[0] + 1, sand_pos[1] + 1) not in wall_coords:\n",
    "            sand_pos[0] += 1\n",
    "            sand_pos[1] += 1\n",
    "        else:\n",
    "            wall_coords.add(tuple(sand_pos))\n",
    "            sand_pos = [500, 0]\n",
    "            sand += 1\n",
    "    return sand"
   ]
  },
  {
   "cell_type": "code",
   "execution_count": null,
   "metadata": {},
   "outputs": [],
   "source": [
    "max_depth = max([x[1] for x in all_wall_coords]) + 2\n",
    "print(f'Part 2: {drop_sand2(all_wall_coords, max_depth)}')"
   ]
  }
 ],
 "metadata": {
  "kernelspec": {
   "display_name": "Python 3",
   "language": "python",
   "name": "python3"
  },
  "language_info": {
   "codemirror_mode": {
    "name": "ipython",
    "version": 3
   },
   "file_extension": ".py",
   "mimetype": "text/x-python",
   "name": "python",
   "nbconvert_exporter": "python",
   "pygments_lexer": "ipython3",
   "version": "3.7.1"
  }
 },
 "nbformat": 4,
 "nbformat_minor": 2
}
