{
 "cells": [
  {
   "cell_type": "markdown",
   "metadata": {},
   "source": [
    "# Day 10"
   ]
  },
  {
   "cell_type": "code",
   "execution_count": null,
   "metadata": {},
   "outputs": [],
   "source": [
    "import numpy as np"
   ]
  },
  {
   "cell_type": "code",
   "execution_count": null,
   "metadata": {},
   "outputs": [],
   "source": [
    "input_file = open('input_files/day10.txt', 'r')\n",
    "data = [x.split(' ') for x in input_file.read().split('\\n')[:-1]]"
   ]
  },
  {
   "cell_type": "markdown",
   "metadata": {},
   "source": [
    "## Part 1"
   ]
  },
  {
   "cell_type": "code",
   "execution_count": null,
   "metadata": {},
   "outputs": [],
   "source": [
    "cycle = 0\n",
    "X = 1\n",
    "cycle_products = []\n",
    "for instruction in data:\n",
    "    for i in range(len(instruction)):\n",
    "        cycle += 1\n",
    "        if cycle % 40 == 20:\n",
    "            cycle_products.append(cycle * X)\n",
    "        if i == 1:\n",
    "            X += int(instruction[i])\n",
    "           \n",
    "print(f'Part 1: {sum(cycle_products)}')"
   ]
  },
  {
   "cell_type": "markdown",
   "metadata": {},
   "source": [
    "# Part 2"
   ]
  },
  {
   "cell_type": "code",
   "execution_count": null,
   "metadata": {},
   "outputs": [],
   "source": [
    "cycle = 0\n",
    "sprite_pos = [0, 1, 2]\n",
    "CRT = []\n",
    "for instruction in data:\n",
    "    for i in range(len(instruction)):\n",
    "        if cycle % 40 in sprite_pos:\n",
    "            CRT.append('#')\n",
    "        else:\n",
    "            CRT.append('.')\n",
    "        cycle += 1\n",
    "        if i == 1:\n",
    "            sprite_pos = [x + int(instruction[i]) for x in sprite_pos]\n",
    "            \n",
    "CRT = np.array(CRT).reshape(6, 40)\n",
    "print('Part 2: \\n')\n",
    "for i in range(len(CRT)):\n",
    "    print(''.join(list(CRT[i])))"
   ]
  }
 ],
 "metadata": {
  "kernelspec": {
   "display_name": "Python 3",
   "language": "python",
   "name": "python3"
  },
  "language_info": {
   "codemirror_mode": {
    "name": "ipython",
    "version": 3
   },
   "file_extension": ".py",
   "mimetype": "text/x-python",
   "name": "python",
   "nbconvert_exporter": "python",
   "pygments_lexer": "ipython3",
   "version": "3.7.1"
  }
 },
 "nbformat": 4,
 "nbformat_minor": 2
}
