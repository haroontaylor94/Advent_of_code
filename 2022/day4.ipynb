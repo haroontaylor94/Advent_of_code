{
 "cells": [
  {
   "cell_type": "markdown",
   "metadata": {},
   "source": [
    "# Day 4"
   ]
  },
  {
   "cell_type": "code",
   "execution_count": null,
   "metadata": {},
   "outputs": [],
   "source": [
    "# Read in data\n",
    "input_file = open('input_files/day4.txt', 'r')\n",
    "data = [x.split(',') for x in input_file.read().split('\\n')][:-1]"
   ]
  },
  {
   "cell_type": "markdown",
   "metadata": {},
   "source": [
    "## Part 1 + 2"
   ]
  },
  {
   "cell_type": "code",
   "execution_count": null,
   "metadata": {},
   "outputs": [],
   "source": [
    "part1 = 0\n",
    "part2 = 0\n",
    "for pair in data:\n",
    "    pair_nums = [int(y) for x in pair for y in x.split('-')]\n",
    "    # Part 1\n",
    "    if (pair_nums[0] <= pair_nums[2] <= pair_nums[3] <= pair_nums[1] \n",
    "        or pair_nums[2] <= pair_nums[0] <= pair_nums[1] <= pair_nums[3]):\n",
    "        part1 += 1\n",
    "    # Part 2\n",
    "    if (pair_nums[0] <= pair_nums[2] <= pair_nums[1] \n",
    "        or pair_nums[0] <= pair_nums[3] <= pair_nums[1] \n",
    "        or pair_nums[2] <= pair_nums[1] <= pair_nums[3] \n",
    "        or pair_nums[2] <= pair_nums[0] <= pair_nums[3]):\n",
    "        part2 += 1\n",
    "\n",
    "print(f'Part 1: {part1}\\nPart 2: {part2}')"
   ]
  }
 ],
 "metadata": {
  "kernelspec": {
   "display_name": "Python 3",
   "language": "python",
   "name": "python3"
  },
  "language_info": {
   "codemirror_mode": {
    "name": "ipython",
    "version": 3
   },
   "file_extension": ".py",
   "mimetype": "text/x-python",
   "name": "python",
   "nbconvert_exporter": "python",
   "pygments_lexer": "ipython3",
   "version": "3.7.1"
  }
 },
 "nbformat": 4,
 "nbformat_minor": 2
}
