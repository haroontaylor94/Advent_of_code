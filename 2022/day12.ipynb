{
 "cells": [
  {
   "cell_type": "markdown",
   "metadata": {},
   "source": [
    "# Day 12"
   ]
  },
  {
   "cell_type": "code",
   "execution_count": null,
   "metadata": {},
   "outputs": [],
   "source": [
    "import numpy as np\n",
    "import networkx as nx"
   ]
  },
  {
   "cell_type": "code",
   "execution_count": null,
   "metadata": {},
   "outputs": [],
   "source": [
    "input_file = open('input_files/day12.txt', 'r')\n",
    "data = np.array(input_file.read().split('\\n'))[:-1]"
   ]
  },
  {
   "cell_type": "code",
   "execution_count": null,
   "metadata": {},
   "outputs": [],
   "source": [
    "arr = []\n",
    "for i, row in enumerate(data):\n",
    "    if 'S' in row:\n",
    "        start = (i, row.index('S'))\n",
    "        row = row.replace('S', 'a')\n",
    "    if 'E' in row:\n",
    "        end = (i, row.index('E'))\n",
    "        row = row.replace('E', 'z')\n",
    "    arr.append([ord(x) - 96 for x in row])\n",
    "    \n",
    "arr = np.array(arr)"
   ]
  },
  {
   "cell_type": "code",
   "execution_count": null,
   "metadata": {},
   "outputs": [],
   "source": [
    "G = nx.DiGraph()\n",
    "for i in range(arr.shape[0]):\n",
    "    for j in range(arr.shape[1]):\n",
    "        if i+1 < arr.shape[0]:\n",
    "            if arr[i, j] - arr[i+1, j] >= -1:\n",
    "                G.add_edge((i, j), (i+1, j))\n",
    "        if i-1 >= 0:\n",
    "            if arr[i, j] - arr[i-1, j] >= -1:\n",
    "                G.add_edge((i, j), (i-1, j))\n",
    "        if j+1 < arr.shape[1]:\n",
    "            if arr[i, j] - arr[i, j+1] >= -1:\n",
    "                G.add_edge((i, j), (i, j+1))\n",
    "        if j-1 >= 0:\n",
    "            if arr[i, j] - arr[i, j-1] >= -1:\n",
    "                G.add_edge((i, j), (i, j-1)) "
   ]
  },
  {
   "cell_type": "markdown",
   "metadata": {},
   "source": [
    "## Part 1"
   ]
  },
  {
   "cell_type": "code",
   "execution_count": null,
   "metadata": {},
   "outputs": [],
   "source": [
    "print(f'Part 1: {nx.shortest_path_length(G, start, end)}')"
   ]
  },
  {
   "cell_type": "markdown",
   "metadata": {},
   "source": [
    "## Part 2"
   ]
  },
  {
   "cell_type": "code",
   "execution_count": null,
   "metadata": {},
   "outputs": [],
   "source": [
    "cur_shortest_dist = 380 \n",
    "for start in list(zip(*np.where(arr == 1))):\n",
    "    try:\n",
    "        dist = nx.shortest_path_length(G, start, end)\n",
    "        if dist < cur_shortest_dist:\n",
    "            cur_shortest_dist = dist\n",
    "    except:\n",
    "        pass"
   ]
  },
  {
   "cell_type": "code",
   "execution_count": null,
   "metadata": {},
   "outputs": [],
   "source": [
    "print(f'Part 2: {cur_shortest_dist}')"
   ]
  }
 ],
 "metadata": {
  "kernelspec": {
   "display_name": "Python 3",
   "language": "python",
   "name": "python3"
  },
  "language_info": {
   "codemirror_mode": {
    "name": "ipython",
    "version": 3
   },
   "file_extension": ".py",
   "mimetype": "text/x-python",
   "name": "python",
   "nbconvert_exporter": "python",
   "pygments_lexer": "ipython3",
   "version": "3.7.1"
  }
 },
 "nbformat": 4,
 "nbformat_minor": 2
}
