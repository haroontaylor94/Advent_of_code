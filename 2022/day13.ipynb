{
 "cells": [
  {
   "cell_type": "markdown",
   "metadata": {},
   "source": [
    "# Day 13"
   ]
  },
  {
   "cell_type": "code",
   "execution_count": null,
   "metadata": {},
   "outputs": [],
   "source": [
    "import ast\n",
    "import numpy as np"
   ]
  },
  {
   "cell_type": "code",
   "execution_count": null,
   "metadata": {},
   "outputs": [],
   "source": [
    "input_file = open('input_files/day13.txt', 'r')\n",
    "data = [pair.split('\\n')[:2] for pair in input_file.read().split('\\n\\n')]"
   ]
  },
  {
   "cell_type": "code",
   "execution_count": null,
   "metadata": {},
   "outputs": [],
   "source": [
    "def compare_lists(list1, list2):\n",
    "    if not isinstance(list1, list):\n",
    "        list1 = [list1]\n",
    "    if not isinstance(list2, list):\n",
    "        list2 = [list2]\n",
    "    for x, y in zip(list1, list2):\n",
    "        if isinstance(x, list) or isinstance(y, list):\n",
    "            result = compare_lists(x, y)\n",
    "        else:\n",
    "            result = np.sign(y - x)\n",
    "        if result != 0:\n",
    "            return result \n",
    "    return np.sign(len(list2) - len(list1))"
   ]
  },
  {
   "cell_type": "markdown",
   "metadata": {},
   "source": [
    "## Part 1"
   ]
  },
  {
   "cell_type": "code",
   "execution_count": null,
   "metadata": {},
   "outputs": [],
   "source": [
    "correct_indices_sum = 0\n",
    "for i, pair in enumerate(data):\n",
    "    list1 = ast.literal_eval(pair[0])\n",
    "    list2 = ast.literal_eval(pair[1])\n",
    "    pair_check = compare_lists(list1, list2)\n",
    "    if pair_check == 1:\n",
    "        correct_indices_sum += (i + 1)\n",
    "        \n",
    "print(f'Part 1: {correct_indices_sum}')"
   ]
  },
  {
   "cell_type": "markdown",
   "metadata": {},
   "source": [
    "## Part 2"
   ]
  },
  {
   "cell_type": "code",
   "execution_count": null,
   "metadata": {},
   "outputs": [],
   "source": [
    "part2_data = [ast.literal_eval(packet) for pair in data for packet in pair]"
   ]
  },
  {
   "cell_type": "code",
   "execution_count": null,
   "metadata": {},
   "outputs": [],
   "source": [
    "divider_packets = [[[2]], [[6]]]\n",
    "divider_packet_idx_list = []\n",
    "for i, divider_packet in enumerate(divider_packets):\n",
    "    divider_packet_idx = i + 1\n",
    "    for packet in part2_data:\n",
    "        pair_check = compare_lists(packet, divider_packet)\n",
    "        if pair_check == 1:\n",
    "            divider_packet_idx += 1\n",
    "    divider_packet_idx_list.append(divider_packet_idx)\n",
    "    \n",
    "print(f'Part 2: {np.prod(divider_packet_idx_list)}')"
   ]
  }
 ],
 "metadata": {
  "kernelspec": {
   "display_name": "Python 3",
   "language": "python",
   "name": "python3"
  },
  "language_info": {
   "codemirror_mode": {
    "name": "ipython",
    "version": 3
   },
   "file_extension": ".py",
   "mimetype": "text/x-python",
   "name": "python",
   "nbconvert_exporter": "python",
   "pygments_lexer": "ipython3",
   "version": "3.7.1"
  }
 },
 "nbformat": 4,
 "nbformat_minor": 2
}
