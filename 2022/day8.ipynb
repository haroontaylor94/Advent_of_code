{
 "cells": [
  {
   "cell_type": "markdown",
   "metadata": {},
   "source": [
    "# Day 8"
   ]
  },
  {
   "cell_type": "code",
   "execution_count": null,
   "metadata": {},
   "outputs": [],
   "source": [
    "import numpy as np"
   ]
  },
  {
   "cell_type": "code",
   "execution_count": null,
   "metadata": {},
   "outputs": [],
   "source": [
    "input_file = open('input_files/day8.txt', 'r')\n",
    "data = np.array([[int(char) for char in string] for string in input_file.read().split('\\n')[:-1]])"
   ]
  },
  {
   "cell_type": "markdown",
   "metadata": {},
   "source": [
    "## Part 1"
   ]
  },
  {
   "cell_type": "code",
   "execution_count": null,
   "metadata": {},
   "outputs": [],
   "source": [
    "visible_count = 0\n",
    "for i in range(data.shape[0]):\n",
    "    for j in range(data.shape[1]):\n",
    "        tree_size = data[i, j]\n",
    "        if i == 0 or j == 0 or i == data.shape[0] - 1 or j == data.shape[1] - 1:\n",
    "            visible_count += 1\n",
    "        else:\n",
    "            tree_lines = [data[i-1::-1, j], data[i+1:, j], data[i, j-1::-1], data[i, j+1:]]\n",
    "            if any([all([tree_size > tree for tree in tree_line]) for tree_line in tree_lines]):\n",
    "                visible_count += 1\n",
    "        \n",
    "print(f'Part 1: {visible_count}')"
   ]
  },
  {
   "cell_type": "markdown",
   "metadata": {},
   "source": [
    "## Part 2"
   ]
  },
  {
   "cell_type": "code",
   "execution_count": null,
   "metadata": {},
   "outputs": [],
   "source": [
    "def calculate_scenic_score(i, j, data):\n",
    "    scenic_score = 1\n",
    "    tree_size = data[i, j]\n",
    "    tree_lines = [data[i-1::-1, j], data[i+1:, j], data[i, j-1::-1], data[i, j+1:]]\n",
    "    for tree_line in tree_lines:\n",
    "        tree_bool = [tree_size > tree for tree in tree_line]\n",
    "        if False in tree_bool:\n",
    "            line_score = tree_bool.index(False) + 1\n",
    "        else:\n",
    "            line_score = len(tree_bool)\n",
    "        scenic_score *= line_score\n",
    "    return scenic_score"
   ]
  },
  {
   "cell_type": "code",
   "execution_count": null,
   "metadata": {},
   "outputs": [],
   "source": [
    "best_scenic_score = 0\n",
    "for i in range(1, data.shape[0]):\n",
    "    for j in range(1, data.shape[1]):\n",
    "        scenic_score = calculate_scenic_score(i, j, data)\n",
    "        if scenic_score > best_scenic_score:\n",
    "            best_scenic_score = scenic_score\n",
    "            \n",
    "print(f'Part 2: {best_scenic_score}')"
   ]
  }
 ],
 "metadata": {
  "kernelspec": {
   "display_name": "Python 3",
   "language": "python",
   "name": "python3"
  },
  "language_info": {
   "codemirror_mode": {
    "name": "ipython",
    "version": 3
   },
   "file_extension": ".py",
   "mimetype": "text/x-python",
   "name": "python",
   "nbconvert_exporter": "python",
   "pygments_lexer": "ipython3",
   "version": "3.7.1"
  }
 },
 "nbformat": 4,
 "nbformat_minor": 2
}
