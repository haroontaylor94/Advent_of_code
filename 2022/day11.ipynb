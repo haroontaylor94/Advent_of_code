{
 "cells": [
  {
   "cell_type": "markdown",
   "metadata": {},
   "source": [
    "# Day 11"
   ]
  },
  {
   "cell_type": "code",
   "execution_count": null,
   "metadata": {},
   "outputs": [],
   "source": [
    "import heapq\n",
    "import copy\n",
    "import numpy as np"
   ]
  },
  {
   "cell_type": "code",
   "execution_count": null,
   "metadata": {},
   "outputs": [],
   "source": [
    "input_file = open('input_files/day11.txt', 'r')\n",
    "data = [string.split('\\n') for string in input_file.read().split('\\n\\n')]"
   ]
  },
  {
   "cell_type": "code",
   "execution_count": null,
   "metadata": {},
   "outputs": [],
   "source": [
    "def parse_monkey(monkey):\n",
    "    items = [int(x.strip()) for x in monkey[1].split(':')[1].split(',')]\n",
    "    operation = monkey[2].split('=')[1].strip()\n",
    "    divisor = int(monkey[3].split(' ')[-1])\n",
    "    true_monkey = int(monkey[4].split(' ')[-1])\n",
    "    false_monkey = int(monkey[5].split(' ')[-1])\n",
    "    return [items, operation, divisor, true_monkey, false_monkey]"
   ]
  },
  {
   "cell_type": "code",
   "execution_count": null,
   "metadata": {},
   "outputs": [],
   "source": [
    "for i, monkey in enumerate(data):\n",
    "    data[i] = parse_monkey(monkey)"
   ]
  },
  {
   "cell_type": "markdown",
   "metadata": {},
   "source": [
    "# Part 1"
   ]
  },
  {
   "cell_type": "code",
   "execution_count": null,
   "metadata": {},
   "outputs": [],
   "source": [
    "def monkey_round(data, monkey_business):    \n",
    "    for i, monkey in enumerate(data):\n",
    "        monkey_business[i] += len(monkey[0])\n",
    "        for item in monkey[0]:\n",
    "            num = eval(monkey[1].replace('old', str(item)))\n",
    "            num = int(num / 3)\n",
    "            if num % monkey[2] == 0:\n",
    "                data[monkey[3]][0].append(num)\n",
    "            else:\n",
    "                data[monkey[4]][0].append(num)\n",
    "        data[i][0] = []\n",
    "    return data, monkey_business"
   ]
  },
  {
   "cell_type": "code",
   "execution_count": null,
   "metadata": {},
   "outputs": [],
   "source": [
    "monkey_business = [0] * len(data)\n",
    "part1_data = copy.deepcopy(data)\n",
    "for _ in range(20):\n",
    "    part1_data, monkey_business = monkey_round(part1_data, monkey_business)\n",
    "    \n",
    "print(f'Part 1: {np.prod(heapq.nlargest(2, monkey_business))}')"
   ]
  },
  {
   "cell_type": "markdown",
   "metadata": {},
   "source": [
    "# Part 2"
   ]
  },
  {
   "cell_type": "code",
   "execution_count": null,
   "metadata": {},
   "outputs": [],
   "source": [
    "def monkey_round_part2(data, monkey_business, mod):    \n",
    "    for i, monkey in enumerate(data):\n",
    "        monkey_business[i] += len(monkey[0])\n",
    "        for item in monkey[0]:\n",
    "            num = eval(monkey[1].replace('old', str(item)))\n",
    "            num %= mod\n",
    "            if num % monkey[2] == 0:\n",
    "                data[monkey[3]][0].append(num)\n",
    "            else:\n",
    "                data[monkey[4]][0].append(num)\n",
    "        data[i][0] = []\n",
    "    return data, monkey_business"
   ]
  },
  {
   "cell_type": "code",
   "execution_count": null,
   "metadata": {},
   "outputs": [],
   "source": [
    "monkey_business = [0] * len(data)\n",
    "part2_data = copy.deepcopy(data)\n",
    "mod = np.prod([x[2] for x in part2_data])\n",
    "for _ in range(10000):\n",
    "    part2_data, monkey_business = monkey_round_part2(part2_data, monkey_business, mod)\n",
    "    \n",
    "print(f'Part 2: {np.prod(heapq.nlargest(2, monkey_business))}')"
   ]
  }
 ],
 "metadata": {
  "kernelspec": {
   "display_name": "Python 3",
   "language": "python",
   "name": "python3"
  },
  "language_info": {
   "codemirror_mode": {
    "name": "ipython",
    "version": 3
   },
   "file_extension": ".py",
   "mimetype": "text/x-python",
   "name": "python",
   "nbconvert_exporter": "python",
   "pygments_lexer": "ipython3",
   "version": "3.7.1"
  }
 },
 "nbformat": 4,
 "nbformat_minor": 2
}
