{
 "cells": [
  {
   "cell_type": "markdown",
   "metadata": {},
   "source": [
    "# Day 9"
   ]
  },
  {
   "cell_type": "code",
   "execution_count": null,
   "metadata": {},
   "outputs": [],
   "source": [
    "input_file = open('input_files/day9.txt', 'r')\n",
    "data = [x.split(' ') for x in input_file.read().split('\\n')[:-1]]"
   ]
  },
  {
   "cell_type": "markdown",
   "metadata": {},
   "source": [
    "## Define functions"
   ]
  },
  {
   "cell_type": "code",
   "execution_count": null,
   "metadata": {},
   "outputs": [],
   "source": [
    "def follow_head(head, tail):\n",
    "    if abs(head[0] - tail[0]) == 2 and abs(head[1] - tail[1]) == 2:\n",
    "        tail[0] = int((head[0] + tail[0]) / 2)\n",
    "        tail[1] = int((head[1] + tail[1]) / 2)\n",
    "    elif abs(head[0] - tail[0]) == 2:\n",
    "        tail[0] = int((head[0] + tail[0]) / 2)\n",
    "        tail[1] = head[1]\n",
    "    elif abs(head[1] - tail[1]) == 2:\n",
    "        tail[1] = int((head[1] + tail[1]) / 2)\n",
    "        tail[0] = head[0]  \n",
    "        \n",
    "    return tail\n",
    "\n",
    "\n",
    "def move(command, knot_cords):\n",
    "    tail_locs = []\n",
    "    if command[0] in ['L', 'D']:\n",
    "        dir = -1\n",
    "    else:\n",
    "        dir = 1\n",
    "    if command[0] in ['L', 'R']:\n",
    "        ind = 0\n",
    "    else:\n",
    "        ind = 1\n",
    "    for i in range(int(command[1])):\n",
    "        knot_cords[0][ind] = knot_cords[0][ind] + dir\n",
    "        for i in range(1, len(knot_cords)):\n",
    "            knot_cords[i] = follow_head(knot_cords[i-1], knot_cords[i])\n",
    "        tail = knot_cords[-1]\n",
    "        tail_locs.append(tuple(tail))\n",
    "    return knot_cords, set(tail_loc for tail_loc in tail_locs)"
   ]
  },
  {
   "cell_type": "markdown",
   "metadata": {},
   "source": [
    "## Part 1"
   ]
  },
  {
   "cell_type": "code",
   "execution_count": null,
   "metadata": {},
   "outputs": [],
   "source": [
    "knot_cords = [[0, 0][:] for _ in range(2)]\n",
    "\n",
    "tail_locs_total = {(0, 0)}\n",
    "for command in data:\n",
    "    knot_cords, tail_locs_cur = move(command, knot_cords)\n",
    "    tail_locs_total = tail_locs_total.union(tail_locs_cur)\n",
    "    \n",
    "print(f'Part 1: {len(tail_locs_total)}')"
   ]
  },
  {
   "cell_type": "markdown",
   "metadata": {},
   "source": [
    "## Part 2"
   ]
  },
  {
   "cell_type": "code",
   "execution_count": null,
   "metadata": {},
   "outputs": [],
   "source": [
    "knot_cords = [[0, 0][:] for _ in range(10)]\n",
    "tail_locs_total = {(0, 0)}\n",
    "for command in data:\n",
    "    knot_cords, tail_locs_cur = move(command, knot_cords)\n",
    "    tail_locs_total = tail_locs_total.union(tail_locs_cur)\n",
    "    \n",
    "print(f'Part 2: {len(tail_locs_total)}')"
   ]
  }
 ],
 "metadata": {
  "kernelspec": {
   "display_name": "Python 3",
   "language": "python",
   "name": "python3"
  },
  "language_info": {
   "codemirror_mode": {
    "name": "ipython",
    "version": 3
   },
   "file_extension": ".py",
   "mimetype": "text/x-python",
   "name": "python",
   "nbconvert_exporter": "python",
   "pygments_lexer": "ipython3",
   "version": "3.7.1"
  }
 },
 "nbformat": 4,
 "nbformat_minor": 2
}
