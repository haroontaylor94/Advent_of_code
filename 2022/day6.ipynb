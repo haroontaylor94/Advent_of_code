{
 "cells": [
  {
   "cell_type": "markdown",
   "metadata": {},
   "source": [
    "# Day 6"
   ]
  },
  {
   "cell_type": "code",
   "execution_count": null,
   "metadata": {},
   "outputs": [],
   "source": [
    "input_file = open('input_files/day6.txt', 'r')\n",
    "data = input_file.read().split('\\n')[0]"
   ]
  },
  {
   "cell_type": "code",
   "execution_count": null,
   "metadata": {},
   "outputs": [],
   "source": [
    "def find_marker(data, part1=True):\n",
    "    if part1:\n",
    "        marker_length = 4\n",
    "    else:\n",
    "        marker_length = 14\n",
    "    for i in range(marker_length, len(data)):\n",
    "        marker = data[i-marker_length:i]\n",
    "        if len(marker) == len(set(marker)):\n",
    "            return i\n",
    "        \n",
    "print(f'Part 1: {find_marker(data)}')\n",
    "print(f'Part 2: {find_marker(data, part1=False)}')"
   ]
  }
 ],
 "metadata": {
  "kernelspec": {
   "display_name": "Python 3",
   "language": "python",
   "name": "python3"
  },
  "language_info": {
   "codemirror_mode": {
    "name": "ipython",
    "version": 3
   },
   "file_extension": ".py",
   "mimetype": "text/x-python",
   "name": "python",
   "nbconvert_exporter": "python",
   "pygments_lexer": "ipython3",
   "version": "3.7.1"
  }
 },
 "nbformat": 4,
 "nbformat_minor": 2
}
