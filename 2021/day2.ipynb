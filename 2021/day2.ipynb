{
 "cells": [
  {
   "cell_type": "markdown",
   "metadata": {},
   "source": [
    "## Day 2\n",
    "#### Part 1"
   ]
  },
  {
   "cell_type": "code",
   "execution_count": 1,
   "metadata": {},
   "outputs": [],
   "source": [
    "# Read in data\n",
    "input_file = open('day2_input.txt', 'r')\n",
    "data = input_file.read().split('\\n')[0:-1]"
   ]
  },
  {
   "cell_type": "code",
   "execution_count": 2,
   "metadata": {},
   "outputs": [],
   "source": [
    "# Data wrangling\n",
    "command_dict = {'down': 1, 'up': -1}\n",
    "\n",
    "horizontal_commands = [int(x.split(' ')[1]) for x in data if x.startswith('forward')]\n",
    "vertical_commands = [command_dict[x.split(' ')[0]] * int(x.split(' ')[1]) for x in data \n",
    "                     if x.startswith('down') or x.startswith('up')]"
   ]
  },
  {
   "cell_type": "code",
   "execution_count": 3,
   "metadata": {},
   "outputs": [
    {
     "data": {
      "text/plain": [
       "1840243"
      ]
     },
     "execution_count": 3,
     "metadata": {},
     "output_type": "execute_result"
    }
   ],
   "source": [
    "sum(horizontal_commands) * sum(vertical_commands)"
   ]
  },
  {
   "cell_type": "markdown",
   "metadata": {},
   "source": [
    "#### Part 2"
   ]
  },
  {
   "cell_type": "code",
   "execution_count": 4,
   "metadata": {},
   "outputs": [
    {
     "data": {
      "text/plain": [
       "1727785422"
      ]
     },
     "execution_count": 4,
     "metadata": {},
     "output_type": "execute_result"
    }
   ],
   "source": [
    "# Just using a for loop now\n",
    "aim = 0\n",
    "horizontal_pos = 0\n",
    "depth = 0\n",
    "\n",
    "for x in data:\n",
    "    command, val = x.split(' ')\n",
    "    val = int(val)\n",
    "    if command == 'forward':\n",
    "        horizontal_pos += val\n",
    "        depth += aim * val\n",
    "    else:\n",
    "        aim += command_dict[command] * val\n",
    "        \n",
    "horizontal_pos * depth"
   ]
  }
 ],
 "metadata": {
  "kernelspec": {
   "display_name": "Python 3",
   "language": "python",
   "name": "python3"
  },
  "language_info": {
   "codemirror_mode": {
    "name": "ipython",
    "version": 3
   },
   "file_extension": ".py",
   "mimetype": "text/x-python",
   "name": "python",
   "nbconvert_exporter": "python",
   "pygments_lexer": "ipython3",
   "version": "3.7.1"
  }
 },
 "nbformat": 4,
 "nbformat_minor": 2
}
