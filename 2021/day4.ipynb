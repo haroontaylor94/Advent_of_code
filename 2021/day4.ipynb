{
 "cells": [
  {
   "cell_type": "markdown",
   "metadata": {},
   "source": [
    "## Day 4\n",
    "#### Part 1"
   ]
  },
  {
   "cell_type": "code",
   "execution_count": 1,
   "metadata": {},
   "outputs": [],
   "source": [
    "import numpy as np"
   ]
  },
  {
   "cell_type": "code",
   "execution_count": 2,
   "metadata": {},
   "outputs": [],
   "source": [
    "# Read in data\n",
    "input_file = open('day4_input.txt', 'r')\n",
    "data = input_file.read().split('\\n\\n')"
   ]
  },
  {
   "cell_type": "code",
   "execution_count": 3,
   "metadata": {},
   "outputs": [],
   "source": [
    "# Data wrangling\n",
    "numbers_called = np.fromstring(data[0], sep=',')\n",
    "bingo_boards = data[1:]\n",
    "bingo_boards = [np.fromstring(board, sep=' ').reshape(-1, 5) for board in bingo_boards]"
   ]
  },
  {
   "cell_type": "code",
   "execution_count": 4,
   "metadata": {},
   "outputs": [],
   "source": [
    "def check_bingo(board):\n",
    "    if np.any([np.all(arr == 0) for arr in board]):\n",
    "        return True\n",
    "    elif np.any([np.all(arr == 0) for arr in board.transpose()]):\n",
    "        return True\n",
    "    else:\n",
    "        return False\n",
    "    \n",
    "def find_first_bingo(numbers, boards):\n",
    "    for number in numbers:\n",
    "        boards = [np.where(board == number, 0, board) for board in boards]\n",
    "        for board in boards:\n",
    "            if check_bingo(board):\n",
    "                return(number, board)"
   ]
  },
  {
   "cell_type": "code",
   "execution_count": 5,
   "metadata": {},
   "outputs": [
    {
     "data": {
      "text/plain": [
       "10374"
      ]
     },
     "execution_count": 5,
     "metadata": {},
     "output_type": "execute_result"
    }
   ],
   "source": [
    "number, bingo_board = find_first_bingo(numbers_called, bingo_boards)\n",
    "int(np.sum(bingo_board) * number)"
   ]
  },
  {
   "cell_type": "markdown",
   "metadata": {},
   "source": [
    "#### Part 2"
   ]
  },
  {
   "cell_type": "code",
   "execution_count": 6,
   "metadata": {},
   "outputs": [],
   "source": [
    "def find_last_bingo(numbers, boards):\n",
    "    n_boards = len(boards)\n",
    "    bingo_board_count = 0\n",
    "    for number in numbers:\n",
    "        boards = [np.where(board == number, 0, board) for board in boards]\n",
    "        non_bingo_boards = []\n",
    "        for board in boards:\n",
    "            if check_bingo(board):\n",
    "                bingo_board_count += 1\n",
    "                if bingo_board_count == n_boards:\n",
    "                    return(number, board)\n",
    "            else: \n",
    "                non_bingo_boards.append(board)\n",
    "        boards = non_bingo_boards"
   ]
  },
  {
   "cell_type": "code",
   "execution_count": 7,
   "metadata": {},
   "outputs": [
    {
     "data": {
      "text/plain": [
       "24742"
      ]
     },
     "execution_count": 7,
     "metadata": {},
     "output_type": "execute_result"
    }
   ],
   "source": [
    "number, bingo_board = find_last_bingo(numbers_called, bingo_boards)\n",
    "int(np.sum(bingo_board) * number)"
   ]
  }
 ],
 "metadata": {
  "kernelspec": {
   "display_name": "Python 3",
   "language": "python",
   "name": "python3"
  },
  "language_info": {
   "codemirror_mode": {
    "name": "ipython",
    "version": 3
   },
   "file_extension": ".py",
   "mimetype": "text/x-python",
   "name": "python",
   "nbconvert_exporter": "python",
   "pygments_lexer": "ipython3",
   "version": "3.7.1"
  }
 },
 "nbformat": 4,
 "nbformat_minor": 2
}
