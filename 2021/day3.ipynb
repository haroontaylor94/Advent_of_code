{
 "cells": [
  {
   "cell_type": "markdown",
   "metadata": {},
   "source": [
    "## Day 3\n",
    "#### Part 1"
   ]
  },
  {
   "cell_type": "code",
   "execution_count": 1,
   "metadata": {},
   "outputs": [],
   "source": [
    "import pandas as pd"
   ]
  },
  {
   "cell_type": "code",
   "execution_count": 2,
   "metadata": {},
   "outputs": [],
   "source": [
    "# Read in data\n",
    "input_file = open('day3_input.txt', 'r')\n",
    "data = input_file.read().split('\\n')[0:-1]"
   ]
  },
  {
   "cell_type": "code",
   "execution_count": 3,
   "metadata": {},
   "outputs": [],
   "source": [
    "columns = []\n",
    "for i in range(len(data[0])):\n",
    "    columns.append([x[i] for x in data]) "
   ]
  },
  {
   "cell_type": "code",
   "execution_count": 4,
   "metadata": {},
   "outputs": [
    {
     "data": {
      "text/plain": [
       "1131506"
      ]
     },
     "execution_count": 4,
     "metadata": {},
     "output_type": "execute_result"
    }
   ],
   "source": [
    "gamma = int(''.join([max(set(lst), key=lst.count) for lst in columns]), 2)\n",
    "epsilon = int(''.join([min(set(lst), key=lst.count) for lst in columns]), 2)\n",
    "gamma * epsilon"
   ]
  },
  {
   "cell_type": "markdown",
   "metadata": {},
   "source": [
    "#### Part 2"
   ]
  },
  {
   "cell_type": "code",
   "execution_count": 5,
   "metadata": {},
   "outputs": [],
   "source": [
    "def find_rating(data, rating_type):\n",
    "    i = 0\n",
    "    while len(data) > 1:\n",
    "        lst = [x[i] for x in data]\n",
    "        zeros = lst.count('0')\n",
    "        ones = lst.count('1')\n",
    "        if rating_type == 'oxygen':\n",
    "            if ones >= zeros:\n",
    "                data = [data[j] for j, x in enumerate(lst) if lst[j] == '1']\n",
    "            else:\n",
    "                data = [data[j] for j, x in enumerate(lst) if lst[j] == '0']\n",
    "        elif rating_type == 'co2':\n",
    "            if zeros <= ones:\n",
    "                data = [data[j] for j, x in enumerate(lst) if lst[j] == '0']\n",
    "            else:\n",
    "                data = [data[j] for j, x in enumerate(lst) if lst[j] == '1']\n",
    "        else:\n",
    "            print('Incorrect rating type')\n",
    "            return None\n",
    "        i += 1\n",
    "    return int(data[0], 2)"
   ]
  },
  {
   "cell_type": "code",
   "execution_count": 6,
   "metadata": {},
   "outputs": [
    {
     "data": {
      "text/plain": [
       "7863147"
      ]
     },
     "execution_count": 6,
     "metadata": {},
     "output_type": "execute_result"
    }
   ],
   "source": [
    "find_rating(data, 'oxygen') * find_rating(data, 'co2')"
   ]
  }
 ],
 "metadata": {
  "kernelspec": {
   "display_name": "Python 3",
   "language": "python",
   "name": "python3"
  },
  "language_info": {
   "codemirror_mode": {
    "name": "ipython",
    "version": 3
   },
   "file_extension": ".py",
   "mimetype": "text/x-python",
   "name": "python",
   "nbconvert_exporter": "python",
   "pygments_lexer": "ipython3",
   "version": "3.7.1"
  }
 },
 "nbformat": 4,
 "nbformat_minor": 2
}
