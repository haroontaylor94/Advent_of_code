{
 "cells": [
  {
   "cell_type": "code",
   "execution_count": null,
   "metadata": {},
   "outputs": [],
   "source": [
    "from aoc.utils import download_input\n",
    "import re"
   ]
  },
  {
   "cell_type": "code",
   "execution_count": null,
   "metadata": {},
   "outputs": [],
   "source": [
    "file_path = download_input(day=3, year=2024, output_dir=\"input_files\")"
   ]
  },
  {
   "cell_type": "code",
   "execution_count": null,
   "metadata": {},
   "outputs": [],
   "source": [
    "def extract_instructions(string):\n",
    "    pattern = r\"mul\\((\\d+),(\\d+)\\)\"\n",
    "    matches = re.findall(pattern, string)\n",
    "    \n",
    "    return matches\n",
    "\n",
    "\n",
    "def part1(string):\n",
    "    sum = 0\n",
    "    instructions = extract_instructions(string)\n",
    "    for i in instructions:\n",
    "        num1, num2 = map(int, i)\n",
    "        sum += num1 * num2\n",
    "        \n",
    "    return sum"
   ]
  },
  {
   "cell_type": "code",
   "execution_count": null,
   "metadata": {},
   "outputs": [],
   "source": [
    "example_data = \"xmul(2,4)%&mul[3,7]!@^do_not_mul(5,5)+mul(32,64]then(mul(11,8)mul(8,5))\"\n",
    "part1(example_data)"
   ]
  },
  {
   "cell_type": "code",
   "execution_count": null,
   "metadata": {},
   "outputs": [],
   "source": [
    "# Path to the uploaded file\n",
    "file_path = \"input_files/day03_input.txt\"\n",
    "\n",
    "# Read the file content into a string\n",
    "with open(file_path, \"r\") as file:\n",
    "    data = file.read()\n",
    "    \n",
    "part1(data)"
   ]
  },
  {
   "cell_type": "code",
   "execution_count": null,
   "metadata": {},
   "outputs": [],
   "source": [
    "def process_string(string):\n",
    "    dont_pattern = r\"don't\\(\\)\"\n",
    "    do_pattern = r\"do\\(\\)\"\n",
    "    output = []\n",
    "    \n",
    "    while len(string) > 0:\n",
    "        next_dont_match = re.search(dont_pattern, string)\n",
    "        if next_dont_match:\n",
    "            output.append(string[:next_dont_match.start()])\n",
    "        else:\n",
    "            output.append(string)\n",
    "            return ''.join(output)\n",
    "\n",
    "        string = string[next_dont_match.end():]\n",
    "        next_do_match = re.search(do_pattern, string)\n",
    "\n",
    "        if next_do_match:\n",
    "            string = string[next_do_match.end():]\n",
    "        else:\n",
    "            return ''.join(output)\n",
    "\n",
    "    return ''.join(output)\n",
    "\n",
    "\n",
    "def part2(string):\n",
    "    string = process_string(string)\n",
    "    sum = 0\n",
    "    instructions = extract_instructions(string)\n",
    "    for i in instructions:\n",
    "        num1, num2 = map(int, i)\n",
    "        sum += num1 * num2\n",
    "        \n",
    "    return sum"
   ]
  },
  {
   "cell_type": "code",
   "execution_count": null,
   "metadata": {},
   "outputs": [],
   "source": [
    "# Regex patterns for \"dont()\" and \"do()\"\n",
    "example_data = \"xmul(2,4)&mul[3,7]!^don't()_mul(5,5)+mul(32,64](mul(11,8)undo()?mul(8,5))\"\n",
    "\n",
    "part2(example_data)"
   ]
  },
  {
   "cell_type": "code",
   "execution_count": null,
   "metadata": {},
   "outputs": [],
   "source": [
    "part2(data)"
   ]
  }
 ],
 "metadata": {
  "kernelspec": {
   "display_name": "Python 3",
   "language": "python",
   "name": "python3"
  },
  "language_info": {
   "codemirror_mode": {
    "name": "ipython",
    "version": 3
   },
   "file_extension": ".py",
   "mimetype": "text/x-python",
   "name": "python",
   "nbconvert_exporter": "python",
   "pygments_lexer": "ipython3",
   "version": "3.7.1"
  }
 },
 "nbformat": 4,
 "nbformat_minor": 2
}
