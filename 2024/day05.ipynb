{
 "cells": [
  {
   "cell_type": "code",
   "execution_count": null,
   "metadata": {},
   "outputs": [],
   "source": [
    "from aoc.utils import download_input\n",
    "from functools import cmp_to_key"
   ]
  },
  {
   "cell_type": "code",
   "execution_count": null,
   "metadata": {},
   "outputs": [],
   "source": [
    "file_path = download_input(day=5, year=2024, output_dir=\"input_files\")"
   ]
  },
  {
   "cell_type": "code",
   "execution_count": null,
   "metadata": {},
   "outputs": [],
   "source": [
    "def parse_input(input_text):\n",
    "    \"\"\"Parse the input into rules and updates.\"\"\"\n",
    "    rules_section, updates_section = input_text.strip().split(\"\\n\\n\")\n",
    "    \n",
    "    # Parse rules\n",
    "    rules = []\n",
    "    for line in rules_section.splitlines():\n",
    "        x, y = map(int, line.split(\"|\"))\n",
    "        rules.append((x, y))\n",
    "    \n",
    "    # Parse updates\n",
    "    updates = []\n",
    "    for line in updates_section.splitlines():\n",
    "        updates.append(list(map(int, line.split(\",\"))))\n",
    "    \n",
    "    return rules, updates\n",
    "\n",
    "\n",
    "def is_update_valid(update, rules):\n",
    "    \"\"\"Check if an update is valid based on the rules.\"\"\"\n",
    "    page_positions = {page: idx for idx, page in enumerate(update)}\n",
    "    \n",
    "    for x, y in rules:\n",
    "        if x in page_positions and y in page_positions:\n",
    "            if page_positions[x] > page_positions[y]:\n",
    "                return False\n",
    "    return True\n",
    "\n",
    "\n",
    "def find_middle_page(update):\n",
    "    \"\"\"Find the middle page of an update.\"\"\"\n",
    "    mid_index = len(update) // 2\n",
    "    return update[mid_index]\n",
    "\n",
    "\n",
    "def part1(input_text):\n",
    "    \"\"\"Solve the problem and return the sum of middle pages.\"\"\"\n",
    "    # Parse the input\n",
    "    rules, updates = parse_input(input_text)\n",
    "    \n",
    "    # Validate updates and compute middle page numbers\n",
    "    valid_middle_pages = []\n",
    "    for update in updates:\n",
    "        if is_update_valid(update, rules):\n",
    "            valid_middle_pages.append(find_middle_page(update))\n",
    "    \n",
    "    # Sum the middle page numbers\n",
    "    return sum(valid_middle_pages)"
   ]
  },
  {
   "cell_type": "code",
   "execution_count": null,
   "metadata": {},
   "outputs": [],
   "source": [
    "# Example input\n",
    "example_input = \"\"\"\n",
    "47|53\n",
    "97|13\n",
    "97|61\n",
    "97|47\n",
    "75|29\n",
    "61|13\n",
    "75|53\n",
    "29|13\n",
    "97|29\n",
    "53|29\n",
    "61|53\n",
    "97|53\n",
    "61|29\n",
    "47|13\n",
    "75|47\n",
    "97|75\n",
    "47|61\n",
    "75|61\n",
    "47|29\n",
    "75|13\n",
    "53|13\n",
    "\n",
    "75,47,61,53,29\n",
    "97,61,53,29,13\n",
    "75,29,13\n",
    "75,97,47,61,53\n",
    "61,13,29\n",
    "97,13,75,29,47\n",
    "\"\"\"\n",
    "\n",
    "# Solve the example\n",
    "result = part1(example_input)\n",
    "print(f\"Sum of middle pages for valid updates: {result}\")"
   ]
  },
  {
   "cell_type": "code",
   "execution_count": null,
   "metadata": {},
   "outputs": [],
   "source": [
    "with open(file_path, \"r\") as file:\n",
    "    input_string = file.read()\n",
    "\n",
    "# Solve the example\n",
    "result = part1(input_string)\n",
    "print(f\"Sum of middle pages for valid updates: {result}\")"
   ]
  },
  {
   "cell_type": "code",
   "execution_count": null,
   "metadata": {},
   "outputs": [],
   "source": [
    "def sort_update(update, rules):\n",
    "    \"\"\"Sort the update based on the ordering rules.\"\"\"\n",
    "\n",
    "    # Create a comparison function based on the rules\n",
    "    def compare_pages(a, b):\n",
    "        for x, y in rules:\n",
    "            if a == x and b == y:\n",
    "                return -1  # a should come before b\n",
    "            if a == y and b == x:\n",
    "                return 1   # a should come after b\n",
    "        return 0  # no rule between a and b\n",
    "\n",
    "    return sorted(update, key=cmp_to_key(compare_pages))\n",
    "\n",
    "def part2(input_text):\n",
    "    \"\"\"Solve Part 2 of the problem.\"\"\"\n",
    "    # Parse the input\n",
    "    rules, updates = parse_input(input_text)\n",
    "    \n",
    "    # Identify and fix invalid updates\n",
    "    corrected_middle_pages = []\n",
    "    for update in updates:\n",
    "        if not is_update_valid(update, rules):\n",
    "            corrected_update = sort_update(update, rules)\n",
    "            corrected_middle_pages.append(find_middle_page(corrected_update))\n",
    "    \n",
    "    # Sum the middle page numbers\n",
    "    return sum(corrected_middle_pages)"
   ]
  },
  {
   "cell_type": "code",
   "execution_count": null,
   "metadata": {},
   "outputs": [],
   "source": [
    "# Solve the example\n",
    "result = part2(example_input)\n",
    "print(f\"Sum of middle pages for corrected updates: {result}\")\n",
    "\n",
    "result = part2(input_string)\n",
    "print(f\"Sum of middle pages for corrected updates: {result}\")"
   ]
  }
 ],
 "metadata": {
  "kernelspec": {
   "display_name": "Python 3",
   "language": "python",
   "name": "python3"
  },
  "language_info": {
   "codemirror_mode": {
    "name": "ipython",
    "version": 3
   },
   "file_extension": ".py",
   "mimetype": "text/x-python",
   "name": "python",
   "nbconvert_exporter": "python",
   "pygments_lexer": "ipython3",
   "version": "3.7.1"
  }
 },
 "nbformat": 4,
 "nbformat_minor": 2
}
