{
 "cells": [
  {
   "cell_type": "code",
   "execution_count": null,
   "metadata": {},
   "outputs": [],
   "source": [
    "from aoc.utils import download_input\n",
    "from itertools import product"
   ]
  },
  {
   "cell_type": "code",
   "execution_count": null,
   "metadata": {},
   "outputs": [],
   "source": [
    "file_path = download_input(day=7, year=2024, output_dir=\"input_files\")"
   ]
  },
  {
   "cell_type": "code",
   "execution_count": null,
   "metadata": {},
   "outputs": [],
   "source": [
    "def evaluate_expression(numbers, operators):\n",
    "    \"\"\"Evaluate the expression formed by numbers and operators, left-to-right.\"\"\"\n",
    "    result = numbers[0]\n",
    "    for num, op in zip(numbers[1:], operators):\n",
    "        if op == \"+\":\n",
    "            result += num\n",
    "        elif op == \"*\":\n",
    "            result *= num\n",
    "        elif op == \"|\":\n",
    "            result = int(str(result) + str(num))  # Concatenate the numbers\n",
    "    return result\n",
    "\n",
    "\n",
    "def is_equation_valid(options, target, numbers):\n",
    "    \"\"\"Determine if any combination of operators makes the equation valid.\"\"\"\n",
    "    # Generate all possible combinations of '+' and '*' for the gaps\n",
    "    operator_combinations = product(options, repeat=len(numbers) - 1)\n",
    "\n",
    "    for operators in operator_combinations:\n",
    "        # Evaluate the equation with this combination of operators\n",
    "        if evaluate_expression(numbers, operators) == target:\n",
    "            return True\n",
    "    return False\n",
    "\n",
    "\n",
    "def part1(input_text):\n",
    "    \"\"\"Solve the equations and calculate the total calibration result.\"\"\"\n",
    "    total_calibration_result = 0\n",
    "\n",
    "    for line in input_text.strip().splitlines():\n",
    "        # Parse the line into target value and numbers\n",
    "        target, numbers = line.split(\":\")\n",
    "        target = int(target.strip())\n",
    "        numbers = list(map(int, numbers.strip().split()))\n",
    "        # Check if the equation is valid\n",
    "        if is_equation_valid(\"*+\", target, numbers):\n",
    "            total_calibration_result += target\n",
    "\n",
    "    return total_calibration_result"
   ]
  },
  {
   "cell_type": "code",
   "execution_count": null,
   "metadata": {},
   "outputs": [],
   "source": [
    "# Example input\n",
    "example_input = \"\"\"\n",
    "190: 10 19\n",
    "3267: 81 40 27\n",
    "83: 17 5\n",
    "156: 15 6\n",
    "7290: 6 8 6 15\n",
    "161011: 16 10 13\n",
    "192: 17 8 14\n",
    "21037: 9 7 18 13\n",
    "292: 11 6 16 20\n",
    "\"\"\"\n",
    "\n",
    "# Solve the example\n",
    "result = part1(example_input)\n",
    "print(f\"Total calibration result: {result}\")"
   ]
  },
  {
   "cell_type": "code",
   "execution_count": null,
   "metadata": {},
   "outputs": [],
   "source": [
    "# Read the file content into a list of rows (grid)\n",
    "with open(file_path, \"r\") as file:\n",
    "    input_string = file.read()\n",
    "    \n",
    "result = part1(input_string)\n",
    "print(f\"Total calibration result: {result}\")"
   ]
  },
  {
   "cell_type": "code",
   "execution_count": null,
   "metadata": {},
   "outputs": [],
   "source": [
    "def part2(input_text):\n",
    "    \"\"\"Solve the equations and calculate the total calibration result.\"\"\"\n",
    "    total_calibration_result = 0\n",
    "\n",
    "    for line in input_text.strip().splitlines():\n",
    "        # Parse the line into target value and numbers\n",
    "        target, numbers = line.split(\":\")\n",
    "        target = int(target.strip())\n",
    "        numbers = list(map(int, numbers.strip().split()))\n",
    "\n",
    "        # Check if the equation is valid\n",
    "        if is_equation_valid(\"*+|\", target, numbers):\n",
    "            total_calibration_result += target\n",
    "\n",
    "    return total_calibration_result"
   ]
  },
  {
   "cell_type": "code",
   "execution_count": null,
   "metadata": {},
   "outputs": [],
   "source": [
    "# Solve the example\n",
    "result = part2(example_input)\n",
    "print(f\"Total calibration result with concatenation: {result}\")"
   ]
  },
  {
   "cell_type": "code",
   "execution_count": null,
   "metadata": {},
   "outputs": [],
   "source": [
    "result = part2(input_string)\n",
    "print(f\"Total calibration result: {result}\")"
   ]
  }
 ],
 "metadata": {
  "kernelspec": {
   "display_name": "Python 3",
   "language": "python",
   "name": "python3"
  },
  "language_info": {
   "codemirror_mode": {
    "name": "ipython",
    "version": 3
   },
   "file_extension": ".py",
   "mimetype": "text/x-python",
   "name": "python",
   "nbconvert_exporter": "python",
   "pygments_lexer": "ipython3",
   "version": "3.7.1"
  }
 },
 "nbformat": 4,
 "nbformat_minor": 2
}
