{
 "cells": [
  {
   "cell_type": "code",
   "execution_count": null,
   "metadata": {},
   "outputs": [],
   "source": [
    "from aoc.utils import download_input"
   ]
  },
  {
   "cell_type": "code",
   "execution_count": null,
   "metadata": {},
   "outputs": [],
   "source": [
    "file_path = download_input(day=2, year=2024, output_dir=\"input_files\")"
   ]
  },
  {
   "cell_type": "code",
   "execution_count": null,
   "metadata": {},
   "outputs": [],
   "source": [
    "def is_safe(report):\n",
    "    \"\"\"\n",
    "    Determines if a single report is safe.\n",
    "    A report is safe if:\n",
    "    1. Levels are either all increasing or all decreasing.\n",
    "    2. Differences between adjacent levels are between 1 and 3 (inclusive).\n",
    "    \"\"\"\n",
    "    diffs = [report[i + 1] - report[i] for i in range(len(report) - 1)]\n",
    "\n",
    "    # Check if all differences are within range [1, 3] or [-3, -1]\n",
    "    if not all(1 <= diff <= 3 or -3 <= diff <= -1 for diff in diffs):\n",
    "        return False\n",
    "\n",
    "    # Check if the differences are all positive (increasing) or all negative (decreasing)\n",
    "    if all(diff > 0 for diff in diffs) or all(diff < 0 for diff in diffs):\n",
    "        return True\n",
    "\n",
    "    return False\n",
    "\n",
    "def count_safe_reports(data):\n",
    "    \"\"\"\n",
    "    Counts how many reports in the data are safe.\n",
    "    \"\"\"\n",
    "    safe_count = 0\n",
    "    for report in data:\n",
    "        if is_safe(report):\n",
    "            safe_count += 1\n",
    "    return safe_count\n",
    "\n",
    "# Example usage\n",
    "example_data = [\n",
    "    [7, 6, 4, 2, 1],\n",
    "    [1, 2, 7, 8, 9],\n",
    "    [9, 7, 6, 2, 1],\n",
    "    [1, 3, 2, 4, 5],\n",
    "    [8, 6, 4, 4, 1],\n",
    "    [1, 3, 6, 7, 9]\n",
    "]\n",
    "\n",
    "safe_reports = count_safe_reports(example_data)\n",
    "print(f\"Number of safe reports: {safe_reports}\")"
   ]
  },
  {
   "cell_type": "code",
   "execution_count": null,
   "metadata": {},
   "outputs": [],
   "source": [
    "# Load the data from the file\n",
    "file_path = \"input_files/day02_input.txt\"\n",
    "\n",
    "# Initialize a list to store the reports\n",
    "reports = []\n",
    "\n",
    "# Read the file and parse the data\n",
    "with open(file_path, \"r\") as file:\n",
    "    for line in file:\n",
    "        if line.strip():  # Skip empty lines\n",
    "            report = list(map(int, line.split()))  # Convert each number to an integer\n",
    "            reports.append(report)\n",
    "\n",
    "# Verify the parsed data\n",
    "print(f\"Total reports: {len(reports)}\")\n",
    "print(f\"First 5 reports: {reports[:5]}\")"
   ]
  },
  {
   "cell_type": "code",
   "execution_count": null,
   "metadata": {},
   "outputs": [],
   "source": [
    "safe_reports = count_safe_reports(reports)\n",
    "print(f\"Number of safe reports: {safe_reports}\")"
   ]
  },
  {
   "cell_type": "code",
   "execution_count": null,
   "metadata": {},
   "outputs": [],
   "source": [
    "def is_safe(report):\n",
    "    \"\"\"\n",
    "    Determines if a single report is safe.\n",
    "    A report is safe if:\n",
    "    1. Levels are either all increasing or all decreasing.\n",
    "    2. Differences between adjacent levels are between 1 and 3 (inclusive).\n",
    "    \"\"\"\n",
    "    diffs = [report[i + 1] - report[i] for i in range(len(report) - 1)]\n",
    "\n",
    "    # Check if all differences are within range [1, 3] or [-3, -1]\n",
    "    if not all(1 <= diff <= 3 or -3 <= diff <= -1 for diff in diffs):\n",
    "        return False\n",
    "\n",
    "    # Check if the differences are all positive (increasing) or all negative (decreasing)\n",
    "    if all(diff > 0 for diff in diffs) or all(diff < 0 for diff in diffs):\n",
    "        return True\n",
    "\n",
    "    return False\n",
    "\n",
    "\n",
    "def is_safe_with_dampener(report):\n",
    "    \"\"\"\n",
    "    Determines if a single report is safe with the Problem Dampener.\n",
    "    A report is safe if:\n",
    "    - It is already safe.\n",
    "    - Removing a single level makes it safe.\n",
    "    \"\"\"\n",
    "    if is_safe(report):\n",
    "        return True\n",
    "\n",
    "    # Try removing each level and check if the resulting report is safe\n",
    "    for i in range(len(report)):\n",
    "        modified_report = report[:i] + report[i + 1:]  # Remove the i-th level\n",
    "        if is_safe(modified_report):\n",
    "            return True\n",
    "\n",
    "    return False\n",
    "\n",
    "\n",
    "def count_safe_reports_with_dampener(data):\n",
    "    \"\"\"\n",
    "    Counts how many reports in the data are safe, considering the Problem Dampener.\n",
    "    \"\"\"\n",
    "    safe_count = 0\n",
    "    for report in data:\n",
    "        if is_safe_with_dampener(report):\n",
    "            safe_count += 1\n",
    "    return safe_count\n",
    "\n",
    "\n",
    "# Example usage with your file data\n",
    "safe_reports_with_dampener = count_safe_reports_with_dampener(reports)\n",
    "print(f\"Number of safe reports with Problem Dampener: {safe_reports_with_dampener}\")"
   ]
  }
 ],
 "metadata": {
  "kernelspec": {
   "display_name": "Python 3",
   "language": "python",
   "name": "python3"
  },
  "language_info": {
   "codemirror_mode": {
    "name": "ipython",
    "version": 3
   },
   "file_extension": ".py",
   "mimetype": "text/x-python",
   "name": "python",
   "nbconvert_exporter": "python",
   "pygments_lexer": "ipython3",
   "version": "3.7.1"
  }
 },
 "nbformat": 4,
 "nbformat_minor": 2
}
