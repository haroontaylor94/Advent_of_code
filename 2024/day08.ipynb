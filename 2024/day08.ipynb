{
 "cells": [
  {
   "cell_type": "code",
   "execution_count": null,
   "metadata": {},
   "outputs": [],
   "source": [
    "from aoc.utils import download_input"
   ]
  },
  {
   "cell_type": "code",
   "execution_count": null,
   "metadata": {},
   "outputs": [],
   "source": [
    "file_path = download_input(day=8, year=2024, output_dir=\"input_files\")"
   ]
  },
  {
   "cell_type": "code",
   "execution_count": null,
   "metadata": {},
   "outputs": [],
   "source": [
    "def parse_map(input_map):\n",
    "    \"\"\"Parse the input map and return a dictionary of frequencies with positions.\"\"\"\n",
    "    antennas = {}\n",
    "    for y, row in enumerate(input_map):\n",
    "        for x, cell in enumerate(row):\n",
    "            if cell.isalnum():  # Antennas are letters or digits\n",
    "                antennas.setdefault(cell, []).append((x, y))\n",
    "    return antennas\n",
    "\n",
    "\n",
    "def calculate_antinodes(antennas, width, height):\n",
    "    \"\"\"Calculate all unique antinode locations within the map.\"\"\"\n",
    "    antinodes = set()\n",
    "\n",
    "    for freq, positions in antennas.items():\n",
    "        # For each pair of antennas of the same frequency\n",
    "        for i, (x1, y1) in enumerate(positions):\n",
    "            for j, (x2, y2) in enumerate(positions):\n",
    "                if i >= j:\n",
    "                    continue  # Avoid duplicate pairs\n",
    "\n",
    "                # Add antinodes\n",
    "                antinode_i = (x1 + x1 - x2, y1 + y1 - y2)\n",
    "                antinode_j = (x2 + x2 - x1, y2 + y2 - y1)\n",
    "                if 0 <= antinode_i[0] < height and 0 <= antinode_i[1] < width:\n",
    "                    antinodes.add(antinode_i)\n",
    "                if 0 <= antinode_j[0] < height and 0 <= antinode_j[1] < width:\n",
    "                    antinodes.add(antinode_j)\n",
    "\n",
    "    return antinodes\n",
    "\n",
    "\n",
    "def part1(input_map):\n",
    "    \"\"\"Count unique antinodes on the map.\"\"\"\n",
    "    height = len(input_map)\n",
    "    width = len(input_map[0]) if height > 0 else 0\n",
    "\n",
    "    # Parse the map to identify antennas\n",
    "    antennas = parse_map(input_map)\n",
    "\n",
    "    # Calculate all unique antinode locations\n",
    "    antinodes = calculate_antinodes(antennas, width, height)\n",
    "\n",
    "    return len(antinodes)"
   ]
  },
  {
   "cell_type": "code",
   "execution_count": null,
   "metadata": {},
   "outputs": [],
   "source": [
    "# Example input map\n",
    "example_map = [\n",
    "    \"............\",\n",
    "    \"........0...\",\n",
    "    \".....0......\",\n",
    "    \".......0....\",\n",
    "    \"....0.......\",\n",
    "    \"......A.....\",\n",
    "    \"............\",\n",
    "    \"............\",\n",
    "    \"........A...\",\n",
    "    \".........A..\",\n",
    "    \"............\",\n",
    "    \"............\",\n",
    "]\n",
    "\n",
    "# Solve the example\n",
    "unique_antinodes = part1(example_map)\n",
    "print(f\"Number of unique antinodes: {unique_antinodes}\")"
   ]
  },
  {
   "cell_type": "code",
   "execution_count": null,
   "metadata": {},
   "outputs": [],
   "source": [
    "# Read the file content into a list of rows (grid)\n",
    "with open(file_path, \"r\") as file:\n",
    "    actual_map = [line.strip() for line in file]\n",
    "    \n",
    "unique_antinodes = part1(actual_map)\n",
    "print(f\"Number of unique antinodes: {unique_antinodes}\")"
   ]
  },
  {
   "cell_type": "code",
   "execution_count": null,
   "metadata": {},
   "outputs": [],
   "source": [
    "def calculate_all_antinodes(antennas, width, height):\n",
    "    \"\"\"Calculate all unique antinode locations within the map.\"\"\"\n",
    "    antinodes = set()\n",
    "\n",
    "    for freq, positions in antennas.items():\n",
    "        # For each pair of antennas of the same frequency\n",
    "        for i, (x1, y1) in enumerate(positions):\n",
    "            for j, (x2, y2) in enumerate(positions):\n",
    "                if i >= j:\n",
    "                    continue  # Avoid duplicate pairs\n",
    "\n",
    "                # Add antinodes\n",
    "                i_dx = x1 - x2\n",
    "                i_dy = y1 - y2\n",
    "                antinodes.add((x1, y1))\n",
    "                antinode_i = (x1 + i_dx, y1 + i_dy)\n",
    "                while 0 <= antinode_i[0] < height and 0 <= antinode_i[1] < width:\n",
    "                    antinodes.add(antinode_i)\n",
    "                    antinode_i = (antinode_i[0] + i_dx, antinode_i[1] + i_dy)\n",
    "                    \n",
    "                j_dx = x2 - x1\n",
    "                j_dy = y2 - y1\n",
    "                antinode_j = (x2 + j_dx, y2 + j_dy)\n",
    "                antinodes.add((x2, y2))\n",
    "                while 0 <= antinode_j[0] < height and 0 <= antinode_j[1] < width:\n",
    "                    antinodes.add(antinode_j)\n",
    "                    antinode_j = (antinode_j[0] + j_dx, antinode_j[1] + j_dy)\n",
    "\n",
    "    return antinodes\n",
    "\n",
    "\n",
    "def part2(input_map):\n",
    "    \"\"\"Count unique antinodes on the map.\"\"\"\n",
    "    height = len(input_map)\n",
    "    width = len(input_map[0]) if height > 0 else 0\n",
    "\n",
    "    # Parse the map to identify antennas\n",
    "    antennas = parse_map(input_map)\n",
    "\n",
    "    # Calculate all unique antinode locations\n",
    "    antinodes = calculate_all_antinodes(antennas, width, height)\n",
    "\n",
    "    return len(antinodes)"
   ]
  },
  {
   "cell_type": "code",
   "execution_count": null,
   "metadata": {},
   "outputs": [],
   "source": [
    "# Solve the example\n",
    "all_antinodes = part2(example_map)\n",
    "print(f\"Number of antinodes: {all_antinodes}\")"
   ]
  },
  {
   "cell_type": "code",
   "execution_count": null,
   "metadata": {},
   "outputs": [],
   "source": [
    "# Solve the actual input\n",
    "all_antinodes = part2(actual_map)\n",
    "print(f\"Number of antinodes: {all_antinodes}\")"
   ]
  }
 ],
 "metadata": {
  "kernelspec": {
   "display_name": "Python 3",
   "language": "python",
   "name": "python3"
  },
  "language_info": {
   "codemirror_mode": {
    "name": "ipython",
    "version": 3
   },
   "file_extension": ".py",
   "mimetype": "text/x-python",
   "name": "python",
   "nbconvert_exporter": "python",
   "pygments_lexer": "ipython3",
   "version": "3.7.1"
  }
 },
 "nbformat": 4,
 "nbformat_minor": 2
}
