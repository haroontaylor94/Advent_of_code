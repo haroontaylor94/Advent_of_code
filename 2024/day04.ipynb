{
 "cells": [
  {
   "cell_type": "code",
   "execution_count": null,
   "metadata": {},
   "outputs": [],
   "source": [
    "from aoc.utils import download_input"
   ]
  },
  {
   "cell_type": "code",
   "execution_count": null,
   "metadata": {},
   "outputs": [],
   "source": [
    "file_path = download_input(day=4, year=2024, output_dir=\"input_files\")"
   ]
  },
  {
   "cell_type": "code",
   "execution_count": null,
   "metadata": {},
   "outputs": [],
   "source": [
    "def search_from(x, y, dx, dy, grid, word):\n",
    "    \"\"\"Search for the word starting from (x, y) in direction (dx, dy).\"\"\"\n",
    "    rows = len(grid)\n",
    "    cols = len(grid[0])\n",
    "    for i in range(len(word)):\n",
    "        nx, ny = x + i * dx, y + i * dy\n",
    "        if not (0 <= nx < rows and 0 <= ny < cols) or grid[nx][ny] != word[i]:\n",
    "            return 0\n",
    "    return 1\n",
    "\n",
    "\n",
    "def count_word_occurrences(grid, word):\n",
    "    rows = len(grid)\n",
    "    cols = len(grid[0])\n",
    "    word_length = len(word)\n",
    "    directions = [\n",
    "        (0, 1),   # Right\n",
    "        (0, -1),  # Left\n",
    "        (1, 0),   # Down\n",
    "        (-1, 0),  # Up\n",
    "        (1, 1),   # Down-Right\n",
    "        (1, -1),  # Down-Left\n",
    "        (-1, 1),  # Up-Right\n",
    "        (-1, -1)  # Up-Left\n",
    "    ]\n",
    "\n",
    "    count = 0\n",
    "    for x in range(rows):\n",
    "        for y in range(cols):\n",
    "            for dx, dy in directions:\n",
    "                count += search_from(x, y, dx, dy, grid, word)\n",
    "\n",
    "    return count"
   ]
  },
  {
   "cell_type": "code",
   "execution_count": null,
   "metadata": {},
   "outputs": [],
   "source": [
    "# Example word search grid\n",
    "example_grid = [\n",
    "    \"MMMSXXMASM\",\n",
    "    \"MSAMXMSMSA\",\n",
    "    \"AMXSXMAAMM\",\n",
    "    \"MSAMASMSMX\",\n",
    "    \"XMASAMXAMM\",\n",
    "    \"XXAMMXXAMA\",\n",
    "    \"SMSMSASXSS\",\n",
    "    \"SAXAMASAAA\",\n",
    "    \"MAMMMXMMMM\",\n",
    "    \"MXMXAXMASX\"\n",
    "]\n",
    "\n",
    "# Convert the grid to a list of lists\n",
    "example_grid = [list(row) for row in example_grid]\n",
    "\n",
    "# Word to search for\n",
    "word = \"XMAS\"\n",
    "\n",
    "# Count occurrences of the word\n",
    "total_occurrences = count_word_occurrences(example_grid, word)\n",
    "print(f\"Total occurrences of '{word}': {total_occurrences}\")"
   ]
  },
  {
   "cell_type": "code",
   "execution_count": null,
   "metadata": {},
   "outputs": [],
   "source": [
    "# Path to the uploaded file\n",
    "file_path = \"input_files/day04_input.txt\"\n",
    "\n",
    "# Read the file content into a list of rows (grid)\n",
    "with open(file_path, \"r\") as file:\n",
    "    grid = [list(line.strip()) for line in file]\n",
    "\n",
    "# Count occurrences of the word\n",
    "total_occurrences = count_word_occurrences(grid, word)\n",
    "print(f\"Total occurrences of '{word}': {total_occurrences}\")"
   ]
  },
  {
   "cell_type": "code",
   "execution_count": null,
   "metadata": {},
   "outputs": [],
   "source": [
    "# Function to check if a \"MAS\" is valid in any order\n",
    "def is_mas(s):\n",
    "    return s == ['M', 'A', 'S'] or s == ['S', 'A', 'M']\n",
    "\n",
    "\n",
    "def count_x_mas(grid):\n",
    "    rows = len(grid)\n",
    "    cols = len(grid[0])\n",
    "    count = 0\n",
    "\n",
    "    # Iterate through each cell in the grid\n",
    "    for x in range(1, rows - 1):\n",
    "        for y in range(1, cols - 1):\n",
    "            # Collect characters forming the X\n",
    "            top_left = [grid[x - 1][y - 1], grid[x][y], grid[x + 1][y + 1]]\n",
    "            bottom_left = [grid[x + 1][y - 1], grid[x][y], grid[x - 1][y + 1]]\n",
    "\n",
    "            # Check if all parts form valid MAS in any order\n",
    "            if is_mas(top_left) and is_mas(bottom_left):\n",
    "                count += 1\n",
    "\n",
    "    return count"
   ]
  },
  {
   "cell_type": "code",
   "execution_count": null,
   "metadata": {},
   "outputs": [],
   "source": [
    "# Count occurrences of the x-mas\n",
    "total_occurrences = count_x_mas(grid)\n",
    "print(f\"Total occurrences of 'X-MAS': {total_occurrences}\")"
   ]
  }
 ],
 "metadata": {
  "kernelspec": {
   "display_name": "Python 3",
   "language": "python",
   "name": "python3"
  },
  "language_info": {
   "codemirror_mode": {
    "name": "ipython",
    "version": 3
   },
   "file_extension": ".py",
   "mimetype": "text/x-python",
   "name": "python",
   "nbconvert_exporter": "python",
   "pygments_lexer": "ipython3",
   "version": "3.7.1"
  }
 },
 "nbformat": 4,
 "nbformat_minor": 2
}
