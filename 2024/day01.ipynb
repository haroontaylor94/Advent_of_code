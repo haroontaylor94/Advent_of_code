{
 "cells": [
  {
   "cell_type": "code",
   "execution_count": null,
   "metadata": {},
   "outputs": [],
   "source": [
    "from aoc.utils import download_input"
   ]
  },
  {
   "cell_type": "code",
   "execution_count": null,
   "metadata": {},
   "outputs": [],
   "source": [
    "file_path = download_input(day=1, year=2024, output_dir=\"input_files\")"
   ]
  },
  {
   "cell_type": "code",
   "execution_count": null,
   "metadata": {},
   "outputs": [],
   "source": [
    "def part1(left_list, right_list):\n",
    "    # Sort both lists\n",
    "    left_sorted = sorted(left_list)\n",
    "    right_sorted = sorted(right_list)\n",
    "    \n",
    "    # Calculate the total distance\n",
    "    total_distance = sum(abs(l - r) for l, r in zip(left_sorted, right_sorted))\n",
    "    return total_distance\n",
    "\n",
    "# Example input\n",
    "example_left_list = [3, 4, 2, 1, 3, 3]\n",
    "example_right_list = [4, 3, 5, 3, 9, 3]\n",
    "\n",
    "# Calculate the total distance\n",
    "total_distance = part1(example_left_list, example_right_list)\n",
    "print(f\"Total distance: {total_distance}\")"
   ]
  },
  {
   "cell_type": "code",
   "execution_count": null,
   "metadata": {},
   "outputs": [],
   "source": [
    "# Initialize the left and right lists\n",
    "left_list = []\n",
    "right_list = []\n",
    "\n",
    "# Read the file and parse the data\n",
    "with open(file_path, \"r\") as file:\n",
    "    for line in file:\n",
    "        if line.strip():  # Skip empty lines\n",
    "            left, right = map(int, line.split())\n",
    "            left_list.append(left)\n",
    "            right_list.append(right)\n",
    "\n",
    "# Verify the lists\n",
    "print(f\"Left List: {left_list[:10]}...\")\n",
    "print(f\"Right List: {right_list[:10]}...\")\n",
    "\n",
    "# Calculate the total distance\n",
    "total_distance = part1(left_list, right_list)\n",
    "print(f\"Total distance: {total_distance}\")"
   ]
  },
  {
   "cell_type": "code",
   "execution_count": null,
   "metadata": {},
   "outputs": [],
   "source": [
    "def part2(left_list, right_list):\n",
    "    total_similarity = sum(i * right_list.count(i) for i in left_list)\n",
    "    return total_similarity"
   ]
  },
  {
   "cell_type": "code",
   "execution_count": null,
   "metadata": {},
   "outputs": [],
   "source": [
    "part2(example_left_list, example_right_list)"
   ]
  },
  {
   "cell_type": "code",
   "execution_count": null,
   "metadata": {},
   "outputs": [],
   "source": [
    "part2(left_list, right_list)"
   ]
  }
 ],
 "metadata": {
  "kernelspec": {
   "display_name": "Python 3",
   "language": "python",
   "name": "python3"
  },
  "language_info": {
   "codemirror_mode": {
    "name": "ipython",
    "version": 3
   },
   "file_extension": ".py",
   "mimetype": "text/x-python",
   "name": "python",
   "nbconvert_exporter": "python",
   "pygments_lexer": "ipython3",
   "version": "3.7.1"
  }
 },
 "nbformat": 4,
 "nbformat_minor": 2
}
