{
 "cells": [
  {
   "cell_type": "code",
   "execution_count": null,
   "metadata": {},
   "outputs": [],
   "source": [
    "from aoc.utils import download_input"
   ]
  },
  {
   "cell_type": "code",
   "execution_count": null,
   "metadata": {},
   "outputs": [],
   "source": [
    "file_path = download_input(day=9, year=2024, output_dir=\"input_files\")"
   ]
  },
  {
   "cell_type": "code",
   "execution_count": null,
   "metadata": {},
   "outputs": [],
   "source": [
    "def parse_disk_map(disk_map):\n",
    "    \"\"\"Parse the dense disk map into a list of blocks.\"\"\"\n",
    "    blocks = []\n",
    "    file_id = 0\n",
    "    is_file = True  # Alternates between file and free space\n",
    "    for digit in map(int, disk_map):\n",
    "        if is_file:\n",
    "            blocks.extend([file_id] * digit)\n",
    "            file_id += 1\n",
    "        else:\n",
    "            blocks.extend([\".\"] * digit)  # Represent free space as \".\"\n",
    "        is_file = not is_file\n",
    "    return blocks\n",
    "\n",
    "\n",
    "def compact_disk(blocks):\n",
    "    \"\"\"Compact the disk by moving file blocks into free space.\"\"\"\n",
    "    for i in range(len(blocks) - 1, -1, -1):  # Start from the end of the disk\n",
    "        if blocks[i] == \".\":\n",
    "            continue\n",
    "        for j in range(i):\n",
    "            if blocks[j] == \".\":\n",
    "                # Move the file block to the leftmost free space\n",
    "                blocks[j], blocks[i] = blocks[i], \".\"\n",
    "                break\n",
    "    return blocks\n",
    "\n",
    "\n",
    "def calculate_checksum(blocks):\n",
    "    \"\"\"Calculate the filesystem checksum.\"\"\"\n",
    "    checksum = 0\n",
    "    for position, block in enumerate(blocks):\n",
    "        if block != \".\":\n",
    "            checksum += position * block\n",
    "    return checksum\n",
    "\n",
    "\n",
    "def part1(disk_map):\n",
    "    \"\"\"Solve the disk fragmenter problem.\"\"\"\n",
    "    # Parse the disk map into blocks\n",
    "    blocks = parse_disk_map(disk_map)\n",
    "\n",
    "    # Compact the disk\n",
    "    compacted_blocks = compact_disk(blocks)\n",
    "\n",
    "    # Calculate the checksum\n",
    "    return calculate_checksum(compacted_blocks)"
   ]
  },
  {
   "cell_type": "code",
   "execution_count": null,
   "metadata": {},
   "outputs": [],
   "source": [
    "# Example input\n",
    "example_disk_map = \"2333133121414131402\"\n",
    "\n",
    "# Solve the example\n",
    "checksum = part1(example_disk_map)\n",
    "print(f\"Filesystem checksum: {checksum}\")"
   ]
  },
  {
   "cell_type": "code",
   "execution_count": null,
   "metadata": {},
   "outputs": [],
   "source": [
    "# Read the file content\n",
    "with open(file_path, \"r\") as file:\n",
    "    actual_disk_map = file.read().strip()\n",
    "    \n",
    "checksum = part1(actual_disk_map)\n",
    "print(f\"Filesystem checksum: {checksum}\")"
   ]
  },
  {
   "cell_type": "code",
   "execution_count": null,
   "metadata": {},
   "outputs": [],
   "source": [
    "def find_free_span(blocks, file_loc, file_size):\n",
    "    \"\"\"Find the leftmost span of free space that can fit the file.\"\"\"\n",
    "    start = 0\n",
    "    while start < file_loc:\n",
    "        # Count the size of the contiguous free space\n",
    "        span_size = 0\n",
    "        while start + span_size < file_loc and blocks[start + span_size] == \".\":\n",
    "            span_size += 1\n",
    "        \n",
    "        # If the span is large enough, return its starting position\n",
    "        if span_size >= file_size:\n",
    "            return start\n",
    "        \n",
    "        # Move to the end of the current span\n",
    "        start += max(span_size, 1)\n",
    "    return None  # No suitable span found\n",
    "\n",
    "\n",
    "def compact_disk_by_files(blocks):\n",
    "    \"\"\"Compact the disk by moving whole files.\"\"\"\n",
    "    file_positions = {}  # Track file positions and sizes\n",
    "    for i, block in enumerate(blocks):\n",
    "        if block != \".\":\n",
    "            file_positions.setdefault(block, []).append(i)\n",
    "\n",
    "    # Sort files by file ID in descending order\n",
    "    for file_id in sorted(file_positions.keys(), reverse=True):\n",
    "        file_blocks = file_positions[file_id]\n",
    "        file_size = len(file_blocks)\n",
    "        free_span_start = find_free_span(blocks, file_blocks[0], file_size)\n",
    "\n",
    "        if free_span_start is not None:\n",
    "            # Move the file to the free span\n",
    "            for i in file_blocks:\n",
    "                blocks[i] = \".\"  # Clear the original blocks\n",
    "            for i in range(file_size):\n",
    "                blocks[free_span_start + i] = file_id\n",
    "\n",
    "    return blocks\n",
    "\n",
    "\n",
    "def part2(disk_map):\n",
    "    \"\"\"Solve the disk fragmenter problem.\"\"\"\n",
    "    # Parse the disk map into blocks\n",
    "    blocks = parse_disk_map(disk_map)\n",
    "\n",
    "    # Compact the disk\n",
    "    compacted_blocks = compact_disk_by_files(blocks)\n",
    "\n",
    "    # Calculate the checksum\n",
    "    return calculate_checksum(compacted_blocks)"
   ]
  },
  {
   "cell_type": "code",
   "execution_count": null,
   "metadata": {},
   "outputs": [],
   "source": [
    "# Solve the example\n",
    "checksum = part2(example_disk_map)\n",
    "print(f\"Filesystem checksum: {checksum}\")"
   ]
  },
  {
   "cell_type": "code",
   "execution_count": null,
   "metadata": {},
   "outputs": [],
   "source": [
    "checksum = part2(actual_disk_map)\n",
    "print(f\"Filesystem checksum: {checksum}\")"
   ]
  }
 ],
 "metadata": {
  "kernelspec": {
   "display_name": "Python 3",
   "language": "python",
   "name": "python3"
  },
  "language_info": {
   "codemirror_mode": {
    "name": "ipython",
    "version": 3
   },
   "file_extension": ".py",
   "mimetype": "text/x-python",
   "name": "python",
   "nbconvert_exporter": "python",
   "pygments_lexer": "ipython3",
   "version": "3.7.1"
  }
 },
 "nbformat": 4,
 "nbformat_minor": 2
}
